{
 "cells": [
  {
   "cell_type": "markdown",
   "metadata": {},
   "source": [
    "# Lists, Dictionaries, Iteration\n",
    ">  Data Abstraction with Python Lists [] and Python Dictionaries {}.\n",
    "\n",
    "- title: Lists, Dictionaries, Iteration\n",
    "- toc: true\n",
    "- permalink: /week2/python_lists\n",
    "- image: /images/listspic.jpg\n",
    "- categories: [week 2]"
   ]
  },
  {
   "cell_type": "markdown",
   "metadata": {},
   "source": [
    "## Making a List with Dictonaries\n",
    "- I defined some keys and values on information about me and my partner"
   ]
  },
  {
   "cell_type": "code",
   "execution_count": 53,
   "metadata": {},
   "outputs": [
    {
     "name": "stdout",
     "output_type": "stream",
     "text": [
      "[{'FirstName': 'Alexa', 'MiddleName': 'Rose', 'LastName': 'Carlson', 'DOB': 'May 16', 'Residence': 'San Diego', 'Email': 'alexarosecarlson.com', 'Owns_Cars': ['Tesla-Model-3', 'Mercedes-GL450', 'Ford-Expedition'], 'Phone': '8582695083', 'Pets': ['Dog'], 'Favorite_Colors': ['Blue', 'Purple'], 'Phone_Provider': 'Verizon'}]\n",
      "\n",
      "\n",
      "[{'FirstName': 'Alexa', 'MiddleName': 'Rose', 'LastName': 'Carlson', 'DOB': 'May 16', 'Residence': 'San Diego', 'Email': 'alexarosecarlson.com', 'Owns_Cars': ['Tesla-Model-3', 'Mercedes-GL450', 'Ford-Expedition'], 'Phone': '8582695083', 'Pets': ['Dog'], 'Favorite_Colors': ['Blue', 'Purple'], 'Phone_Provider': 'Verizon'}, {'FirstName': 'Ava', 'MiddleName': 'Brynn', 'LastName': 'Carlson', 'DOB': 'May 16', 'Residence': 'San Diego', 'Email': 'avabrynncheer@gmail.com', 'Owns_Cars': ['Tesla-Model-3', 'Mercedes-GL450', 'Ford-Expedition'], 'Phone': '8582695084', 'Pets': ['Dog'], 'Favorite_Colors': ['Pink', 'Blue'], 'Phone_Provider': 'Verizon'}]\n"
     ]
    }
   ],
   "source": [
    "# Define an empty List called InfoDb\n",
    "InfoDb = []\n",
    "\n",
    "# InfoDB is a data structure with expected Keys and Values\n",
    "\n",
    "# Append to List a Dictionary of key/values related to a person and cars\n",
    "InfoDb.append({\n",
    "    \"FirstName\": \"Alexa\",\n",
    "    \"MiddleName\": \"Rose\",\n",
    "    \"LastName\": \"Carlson\",\n",
    "    \"DOB\": \"May 16\",\n",
    "    \"Residence\": \"San Diego\",\n",
    "    \"Email\": \"alexarosecarlson.com\",\n",
    "    \"Owns_Cars\": [\"Tesla-Model-3\", \"Mercedes-GL450\", \"Ford-Expedition\"],\n",
    "    \"Phone\": \"8582695083\",\n",
    "    \"Pets\": [\"Dog\"],\n",
    "    \"Favorite_Colors\": [\"Blue\", \"Purple\"],\n",
    "    \"Phone_Provider\": \"Verizon\"   \n",
    "})\n",
    "\n",
    "\n",
    "print(InfoDb)\n",
    "\n",
    "# Append to List a 2nd Dictionary of key/values\n",
    "InfoDb.append({\n",
    "    \"FirstName\": \"Ava\",\n",
    "    \"MiddleName\": \"Brynn\",\n",
    "    \"LastName\": \"Carlson\",\n",
    "    \"DOB\": \"May 16\",\n",
    "    \"Residence\": \"San Diego\",\n",
    "    \"Email\": \"avabrynncheer@gmail.com\",\n",
    "    \"Owns_Cars\": [\"Tesla-Model-3\", \"Mercedes-GL450\", \"Ford-Expedition\"],\n",
    "    \"Phone\": \"8582695084\",\n",
    "    \"Pets\": [\"Dog\"],\n",
    "    \"Favorite_Colors\": [\"Pink\", \"Blue\"],\n",
    "    \"Phone_Provider\": \"Verizon\"\n",
    "})\n",
    "\n",
    "print()\n",
    "print()\n",
    "\n",
    "# Print the data structure\n",
    "print(InfoDb)"
   ]
  },
  {
   "cell_type": "markdown",
   "metadata": {},
   "source": [
    "## Making a Loop\n",
    "- this loop prints the records I defined and listed in the last cell"
   ]
  },
  {
   "cell_type": "code",
   "execution_count": 54,
   "metadata": {},
   "outputs": [
    {
     "name": "stdout",
     "output_type": "stream",
     "text": [
      "For loop output\n",
      "\n",
      "Alexa Rose Carlson\n",
      "\t Residence: San Diego\n",
      "\t Birth Day: May 16\n",
      "\t Phone: 8582695083\n",
      "\t Pets: Dog\n",
      "\t Cars: Tesla-Model-3, Mercedes-GL450, Ford-Expedition\n",
      "\t Favorite Colors: Blue, Purple\n",
      "\t Phone Provider: Verizon\n",
      "\n",
      "Ava Brynn Carlson\n",
      "\t Residence: San Diego\n",
      "\t Birth Day: May 16\n",
      "\t Phone: 8582695084\n",
      "\t Pets: Dog\n",
      "\t Cars: Tesla-Model-3, Mercedes-GL450, Ford-Expedition\n",
      "\t Favorite Colors: Pink, Blue\n",
      "\t Phone Provider: Verizon\n",
      "\n"
     ]
    }
   ],
   "source": [
    "# This jupyter cell has dependencies on one or more cells above\n",
    "\n",
    "# print function: given a dictionary of InfoDb content\n",
    "def print_data(d_rec):\n",
    "    print(d_rec[\"FirstName\"], d_rec[\"MiddleName\"], d_rec[\"LastName\"])  # using comma puts space between values\n",
    "    print(\"\\t\", \"Residence:\", d_rec[\"Residence\"]) # \\t is a tab indent\n",
    "    print(\"\\t\", \"Birth Day:\", d_rec[\"DOB\"])\n",
    "    print(\"\\t\", \"Phone:\", d_rec[\"Phone\"])\n",
    "    print(\"\\t\", \"Pets: \", end=\"\")  \n",
    "    print(\", \".join(d_rec[\"Pets\"]))  \n",
    "    print(\"\\t\", \"Cars: \", end=\"\")  # end=\"\" make sure no return occurs\n",
    "    print(\", \".join(d_rec[\"Owns_Cars\"]))  # join allows printing a string list with separator\n",
    "    print(\"\\t\", \"Favorite Colors: \", end=\"\")  \n",
    "    print(\", \".join(d_rec[\"Favorite_Colors\"])) \n",
    "    print(\"\\t\", \"Phone Provider:\", d_rec[\"Phone_Provider\"])\n",
    "    print()\n",
    "\n",
    "\n",
    "# for loop algorithm iterates on length of InfoDb\n",
    "def for_loop():\n",
    "    print(\"For loop output\\n\")\n",
    "    for record in InfoDb:\n",
    "        print_data(record)\n",
    "\n",
    "for_loop()"
   ]
  },
  {
   "cell_type": "markdown",
   "metadata": {},
   "source": [
    "## Reversed Loop\n",
    "- this is the last loop, but reversed"
   ]
  },
  {
   "cell_type": "code",
   "execution_count": 57,
   "metadata": {},
   "outputs": [
    {
     "name": "stdout",
     "output_type": "stream",
     "text": [
      "For loop output reversed\n",
      "\n",
      "Ava Brynn Carlson\n",
      "\t Residence: San Diego\n",
      "\t Birth Day: May 16\n",
      "\t Phone: 8582695084\n",
      "\t Pets: Dog\n",
      "\t Cars: Tesla-Model-3, Mercedes-GL450, Ford-Expedition\n",
      "\t Favorite Colors: Pink, Blue\n",
      "\t Phone Provider: Verizon\n",
      "\n",
      "Alexa Rose Carlson\n",
      "\t Residence: San Diego\n",
      "\t Birth Day: May 16\n",
      "\t Phone: 8582695083\n",
      "\t Pets: Dog\n",
      "\t Cars: Tesla-Model-3, Mercedes-GL450, Ford-Expedition\n",
      "\t Favorite Colors: Blue, Purple\n",
      "\t Phone Provider: Verizon\n",
      "\n"
     ]
    }
   ],
   "source": [
    "# This jupyter cell has dependencies on one or more cells above\n",
    "\n",
    "# print function: given a dictionary of InfoDb content\n",
    "def print_data(d_rec):\n",
    "    print(d_rec[\"FirstName\"], d_rec[\"MiddleName\"], d_rec[\"LastName\"])  # using comma puts space between values\n",
    "    print(\"\\t\", \"Residence:\", d_rec[\"Residence\"]) # \\t is a tab indent\n",
    "    print(\"\\t\", \"Birth Day:\", d_rec[\"DOB\"])\n",
    "    print(\"\\t\", \"Phone:\", d_rec[\"Phone\"])\n",
    "    print(\"\\t\", \"Pets: \", end=\"\")  \n",
    "    print(\", \".join(d_rec[\"Pets\"]))  \n",
    "    print(\"\\t\", \"Cars: \", end=\"\")  # end=\"\" make sure no return occurs\n",
    "    print(\", \".join(d_rec[\"Owns_Cars\"]))  # join allows printing a string list with separator\n",
    "    print(\"\\t\", \"Favorite Colors: \", end=\"\")  \n",
    "    print(\", \".join(d_rec[\"Favorite_Colors\"])) \n",
    "    print(\"\\t\", \"Phone Provider:\", d_rec[\"Phone_Provider\"])\n",
    "    print()\n",
    "\n",
    "\n",
    "# for loop algorithm iterates on length of InfoDb\n",
    "def for_loop():\n",
    "    print(\"For loop output reversed\\n\")\n",
    "    for record in reversed(InfoDb): # this reverses the data in the InfoDB list\n",
    "        print_data(record)\n",
    "\n",
    "for_loop()"
   ]
  },
  {
   "cell_type": "markdown",
   "metadata": {},
   "source": [
    "## While Loop\n",
    "- this kind of loop defines a variable and uses that to print the next record"
   ]
  },
  {
   "cell_type": "code",
   "execution_count": 55,
   "metadata": {},
   "outputs": [
    {
     "name": "stdout",
     "output_type": "stream",
     "text": [
      "While loop output\n",
      "\n",
      "Alexa Rose Carlson\n",
      "\t Residence: San Diego\n",
      "\t Birth Day: May 16\n",
      "\t Phone: 8582695083\n",
      "\t Pets: Dog\n",
      "\t Cars: Tesla-Model-3, Mercedes-GL450, Ford-Expedition\n",
      "\t Favorite Colors: Blue, Purple\n",
      "\t Phone Provider: Verizon\n",
      "\n",
      "Ava Brynn Carlson\n",
      "\t Residence: San Diego\n",
      "\t Birth Day: May 16\n",
      "\t Phone: 8582695084\n",
      "\t Pets: Dog\n",
      "\t Cars: Tesla-Model-3, Mercedes-GL450, Ford-Expedition\n",
      "\t Favorite Colors: Pink, Blue\n",
      "\t Phone Provider: Verizon\n",
      "\n"
     ]
    }
   ],
   "source": [
    "# This jupyter cell has dependencies on one or more cells above\n",
    "\n",
    "# while loop algorithm contains an initial n and an index incrementing statement (n += 1)\n",
    "def while_loop():\n",
    "    print(\"While loop output\\n\")\n",
    "    i = 0\n",
    "    while i < len(InfoDb):\n",
    "        record = InfoDb[i]\n",
    "        print_data(record)\n",
    "        i += 1\n",
    "    return\n",
    "\n",
    "while_loop()"
   ]
  },
  {
   "cell_type": "markdown",
   "metadata": {},
   "source": [
    "## While Loop Reversed\n",
    "- this is the while loop reversed"
   ]
  },
  {
   "cell_type": "code",
   "execution_count": 59,
   "metadata": {},
   "outputs": [
    {
     "name": "stdout",
     "output_type": "stream",
     "text": [
      "While loop output reversed\n",
      "\n",
      "Ava Brynn Carlson\n",
      "\t Residence: San Diego\n",
      "\t Birth Day: May 16\n",
      "\t Phone: 8582695084\n",
      "\t Pets: Dog\n",
      "\t Cars: Tesla-Model-3, Mercedes-GL450, Ford-Expedition\n",
      "\t Favorite Colors: Pink, Blue\n",
      "\t Phone Provider: Verizon\n",
      "\n",
      "Alexa Rose Carlson\n",
      "\t Residence: San Diego\n",
      "\t Birth Day: May 16\n",
      "\t Phone: 8582695083\n",
      "\t Pets: Dog\n",
      "\t Cars: Tesla-Model-3, Mercedes-GL450, Ford-Expedition\n",
      "\t Favorite Colors: Blue, Purple\n",
      "\t Phone Provider: Verizon\n",
      "\n"
     ]
    }
   ],
   "source": [
    "# This jupyter cell has dependencies on one or more cells above\n",
    "\n",
    "# while loop algorithm contains an initial n and an index incrementing statement (n += 1)\n",
    "def while_loop():\n",
    "    print(\"While loop output reversed\\n\")\n",
    "    i = len(InfoDb)\n",
    "    while i > 0: # i has to be greater than 0 now that its is reversed (starting at 2 and can't go below 0)\n",
    "        record = InfoDb[i-1] # lists begin at 0, however, length begins at 1 (must -1 to have same record)\n",
    "        print_data(record)\n",
    "        i -= 1 # the - allows to go in reverse order\n",
    "    return\n",
    "\n",
    "while_loop()"
   ]
  },
  {
   "cell_type": "markdown",
   "metadata": {},
   "source": [
    "## Recursion Algorithm\n",
    "- A recursion algorithm calls for itself in it's definition"
   ]
  },
  {
   "cell_type": "code",
   "execution_count": 64,
   "metadata": {},
   "outputs": [
    {
     "name": "stdout",
     "output_type": "stream",
     "text": [
      "Recursive loop output\n",
      "\n",
      "Alexa Rose Carlson\n",
      "\t Residence: San Diego\n",
      "\t Birth Day: May 16\n",
      "\t Phone: 8582695083\n",
      "\t Pets: Dog\n",
      "\t Cars: Tesla-Model-3, Mercedes-GL450, Ford-Expedition\n",
      "\t Favorite Colors: Blue, Purple\n",
      "\t Phone Provider: Verizon\n",
      "\n",
      "Ava Brynn Carlson\n",
      "\t Residence: San Diego\n",
      "\t Birth Day: May 16\n",
      "\t Phone: 8582695084\n",
      "\t Pets: Dog\n",
      "\t Cars: Tesla-Model-3, Mercedes-GL450, Ford-Expedition\n",
      "\t Favorite Colors: Pink, Blue\n",
      "\t Phone Provider: Verizon\n",
      "\n"
     ]
    }
   ],
   "source": [
    "# This jupyter cell has dependencies on one or more cells above\n",
    "\n",
    "# recursion algorithm loops incrementing on each call (n + 1) until exit condition is met\n",
    "def recursive_loop(i):\n",
    "    if i < len(InfoDb):\n",
    "        record = InfoDb[i]\n",
    "        print_data(record)\n",
    "        recursive_loop(i + 1)\n",
    "    return\n",
    "    \n",
    "print(\"Recursive loop output\\n\")\n",
    "recursive_loop(0)"
   ]
  },
  {
   "cell_type": "markdown",
   "metadata": {},
   "source": [
    "## Reversed Recursion Algorithm\n",
    "- this is the recursion algorithm reversed"
   ]
  },
  {
   "cell_type": "code",
   "execution_count": 71,
   "metadata": {},
   "outputs": [
    {
     "name": "stdout",
     "output_type": "stream",
     "text": [
      "Recursive loop output reversed\n",
      "\n",
      "Ava Brynn Carlson\n",
      "\t Residence: San Diego\n",
      "\t Birth Day: May 16\n",
      "\t Phone: 8582695084\n",
      "\t Pets: Dog\n",
      "\t Cars: Tesla-Model-3, Mercedes-GL450, Ford-Expedition\n",
      "\t Favorite Colors: Pink, Blue\n",
      "\t Phone Provider: Verizon\n",
      "\n",
      "Alexa Rose Carlson\n",
      "\t Residence: San Diego\n",
      "\t Birth Day: May 16\n",
      "\t Phone: 8582695083\n",
      "\t Pets: Dog\n",
      "\t Cars: Tesla-Model-3, Mercedes-GL450, Ford-Expedition\n",
      "\t Favorite Colors: Blue, Purple\n",
      "\t Phone Provider: Verizon\n",
      "\n"
     ]
    }
   ],
   "source": [
    "# This jupyter cell has dependencies on one or more cells above\n",
    "\n",
    "# recursion algorithm loops incrementing on each call (n + 1) until exit condition is met\n",
    "def recursive_loop(i):\n",
    "    if i >= 0: # must be greater than or equal to 0 since the first record in length is 0 in the list\n",
    "        record = InfoDb[i]\n",
    "        print_data(record)\n",
    "        recursive_loop(i - 1) # -1 makes it reversed\n",
    "    return\n",
    "    \n",
    "print(\"Recursive loop output reversed\\n\")\n",
    "recursive_loop(len(InfoDb)-1) # once again the length is one more than the record in the list so there is -1"
   ]
  }
 ],
 "metadata": {
  "kernelspec": {
   "display_name": "Python 3.8.10 64-bit",
   "language": "python",
   "name": "python3"
  },
  "language_info": {
   "codemirror_mode": {
    "name": "ipython",
    "version": 3
   },
   "file_extension": ".py",
   "mimetype": "text/x-python",
   "name": "python",
   "nbconvert_exporter": "python",
   "pygments_lexer": "ipython3",
   "version": "3.8.10"
  },
  "orig_nbformat": 4,
  "vscode": {
   "interpreter": {
    "hash": "916dbcbb3f70747c44a77c7bcd40155683ae19c65e1c03b4aa3499c5328201f1"
   }
  }
 },
 "nbformat": 4,
 "nbformat_minor": 2
}
