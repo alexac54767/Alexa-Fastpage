{
 "cells": [
  {
   "cell_type": "markdown",
   "metadata": {},
   "source": [
    "# Using JavaScript\n",
    "> Using Javascript in jupyter notebookes to create a table.\n",
    "\n",
    "- toc: true\n",
    "- comments: true\n",
    "- permalink: /techtalk/javascript\n",
    "- image: /images/javascript.png\n",
    "- categories: [week 5]\n",
    "\n",
    "{% include nav_frontend.html %}"
   ]
  },
  {
   "cell_type": "code",
   "execution_count": 6,
   "metadata": {
    "vscode": {
     "languageId": "javascript"
    }
   },
   "outputs": [
    {
     "ename": "ReferenceError",
     "evalue": "msg is not defined",
     "output_type": "error",
     "traceback": [
      "evalmachine.<anonymous>:4",
      "logIt(msg);",
      "      ^",
      "",
      "ReferenceError: msg is not defined",
      "    at evalmachine.<anonymous>:4:7",
      "    at ContextifyScript.Script.runInThisContext (vm.js:25:33)",
      "    at Object.runInThisContext (vm.js:97:38)",
      "    at run ([eval]:1020:15)",
      "    at onRunRequest ([eval]:864:18)",
      "    at onMessage ([eval]:828:13)",
      "    at emitTwo (events.js:106:13)",
      "    at process.emit (events.js:191:7)",
      "    at process.nextTick (internal/child_process.js:758:12)",
      "    at _combinedTickCallback (internal/process/next_tick.js:73:7)"
     ]
    }
   ],
   "source": [
    "function logIt(output) {\n",
    "    console.log(output);\n",
    "}\n",
    "logIt(msg);"
   ]
  },
  {
   "cell_type": "code",
   "execution_count": 7,
   "metadata": {
    "vscode": {
     "languageId": "javascript"
    }
   },
   "outputs": [
    {
     "name": "stdout",
     "output_type": "stream",
     "text": [
      "Reuse of logIT\n",
      "Hello, Students!\n",
      "2022\n"
     ]
    }
   ],
   "source": [
    "console.log(\"Reuse of logIT\")\n",
    "logIt(\"Hello, Students!\");\n",
    "logIt(2022)"
   ]
  },
  {
   "cell_type": "code",
   "execution_count": 8,
   "metadata": {
    "vscode": {
     "languageId": "javascript"
    }
   },
   "outputs": [
    {
     "name": "stdout",
     "output_type": "stream",
     "text": [
      "Looking at dynamic nature of types in JavaScript\n",
      "string ; hello\n",
      "number ; 2020\n",
      "object ; [ 1, 2, 3 ]\n"
     ]
    }
   ],
   "source": [
    "function logItType(output) {\n",
    "    console.log(typeof output, \";\", output);\n",
    "}\n",
    "console.log(\"Looking at dynamic nature of types in JavaScript\")\n",
    "logItType(\"hello\"); // String\n",
    "logItType(2020);    // Number\n",
    "logItType([1, 2, 3]);  // Object is generic for this Array, which similar to Python List"
   ]
  },
  {
   "cell_type": "code",
   "execution_count": 9,
   "metadata": {
    "vscode": {
     "languageId": "javascript"
    }
   },
   "outputs": [
    {
     "name": "stdout",
     "output_type": "stream",
     "text": [
      "object ; Person {\n",
      "  name: 'Mr M',\n",
      "  ghID: 'jm1021',\n",
      "  classof: '1901',\n",
      "  gpa: '  ',\n",
      "  status: 'VERY Cool',\n",
      "  role: 'Teacher' }\n",
      "string ; {\"name\":\"Mr M\",\"ghID\":\"jm1021\",\"classof\":\"1901\",\"gpa\":\"  \",\"status\":\"VERY Cool\",\"role\":\"Teacher\"}\n"
     ]
    }
   ],
   "source": [
    "// define a function to hold data for a Person\n",
    "function Person(name, ghID, classof, gpa, status) {\n",
    "    this.name = name;\n",
    "    this.ghID = ghID;\n",
    "    this.classof = classof;\n",
    "    this.gpa = gpa;\n",
    "    this.status = status;\n",
    "    this.role = \"\";\n",
    "}\n",
    "\n",
    "// define a setter for role in Person data\n",
    "Person.prototype.setRole = function(role) {\n",
    "    this.role = role;\n",
    "}\n",
    "\n",
    "// define a JSON conversion \"method\" associated with Person\n",
    "Person.prototype.toJSON = function() {\n",
    "    const obj = {name: this.name, ghID: this.ghID, classof: this.classof, gpa: this.gpa, status: this.status, role: this.role};\n",
    "    const json = JSON.stringify(obj);\n",
    "    return json;\n",
    "}\n",
    "\n",
    "// make a new Person and assign to variable teacher\n",
    "var teacher = new Person(\"Mr M\", \"jm1021\", \"1901\", \"  \", \"VERY Cool\");\n",
    "teacher.setRole(\"Teacher\");\n",
    "\n",
    "// output of Object and JSON/string associated with Teacher\n",
    "logItType(teacher);  // object type is easy to work with in JavaScript\n",
    "logItType(teacher.toJSON());  // json/string is useful when passing data on internet"
   ]
  },
  {
   "cell_type": "code",
   "execution_count": 10,
   "metadata": {
    "vscode": {
     "languageId": "javascript"
    }
   },
   "outputs": [
    {
     "name": "stdout",
     "output_type": "stream",
     "text": [
      "object ; [ Person {\n",
      "    name: 'Mr M',\n",
      "    ghID: 'jm1021',\n",
      "    classof: '1901',\n",
      "    gpa: '  ',\n",
      "    status: 'VERY Cool',\n",
      "    role: 'Teacher' },\n",
      "  Person {\n",
      "    name: 'Anthony',\n",
      "    ghID: 'tonyhieu',\n",
      "    classof: 2023,\n",
      "    gpa: 4,\n",
      "    status: 'cool',\n",
      "    role: 'Student' },\n",
      "  Person {\n",
      "    name: 'Bria',\n",
      "    ghID: 'B-G101',\n",
      "    classof: 2024,\n",
      "    gpa: 3.5,\n",
      "    status: 'not cool',\n",
      "    role: 'Student' },\n",
      "  Person {\n",
      "    name: 'Allie',\n",
      "    ghID: 'xiaoa0',\n",
      "    classof: 2023,\n",
      "    gpa: 3.8,\n",
      "    status: 'cool',\n",
      "    role: 'Student' },\n",
      "  Person {\n",
      "    name: 'Tigran',\n",
      "    ghID: 'Tigran7',\n",
      "    classof: 2036,\n",
      "    gpa: 4.2,\n",
      "    status: 'very cool',\n",
      "    role: 'Student' },\n",
      "  Person {\n",
      "    name: 'Rebecca',\n",
      "    ghID: 'Rebecca-123',\n",
      "    classof: 2024,\n",
      "    gpa: 4.135,\n",
      "    status: 'kinda cool',\n",
      "    role: 'Student' },\n",
      "  Person {\n",
      "    name: 'Vidhi',\n",
      "    ghID: 'unknown',\n",
      "    classof: 2023,\n",
      "    gpa: 3.95,\n",
      "    status: 'not cool',\n",
      "    role: 'Student' } ]\n",
      "string ; Mr M\n",
      "string ; {\"name\":\"Mr M\",\"ghID\":\"jm1021\",\"classof\":\"1901\",\"gpa\":\"  \",\"status\":\"VERY Cool\",\"role\":\"Teacher\"}\n",
      "object ; { name: 'Mr M',\n",
      "  ghID: 'jm1021',\n",
      "  classof: '1901',\n",
      "  gpa: '  ',\n",
      "  status: 'VERY Cool',\n",
      "  role: 'Teacher' }\n"
     ]
    }
   ],
   "source": [
    "// define a setter for role in Person data\n",
    "Person.prototype.setRole = function(role) {\n",
    "    this.role = role;\n",
    "}\n",
    "// define a student Array of Person(s)\n",
    "var students = [ \n",
    "    new Person(\"Anthony\", \"tonyhieu\", 2023, 4.0, \"cool\"),\n",
    "    new Person(\"Bria\", \"B-G101\", 2024, 3.5, \"not cool\"),\n",
    "    new Person(\"Allie\", \"xiaoa0\", 2023, 3.8, \"cool\"),\n",
    "    new Person(\"Tigran\", \"Tigran7\", 2036, 4.2, \"very cool\"),\n",
    "    new Person(\"Rebecca\", \"Rebecca-123\", 2024, 4.135, \"kinda cool\"),\n",
    "    new Person(\"Vidhi\", \"unknown\", 2023, 3.95, \"not cool\")\n",
    "];\n",
    "// define a setter for role in Person data\n",
    "Person.prototype.setRole = function(role) {\n",
    "    this.role = role;\n",
    "}\n",
    "// define a classroom and build Classroom objects and json\n",
    "function Classroom(teacher, students){ // 1 teacher, many student\n",
    "    // start Classroom with Teacher\n",
    "    teacher.setRole(\"Teacher\");\n",
    "    this.teacher = teacher;\n",
    "    this.classroom = [teacher];\n",
    "    // add each Student to Classroom\n",
    "    this.students = students;\n",
    "    this.students.forEach(student => { student.setRole(\"Student\"); this.classroom.push(student); });\n",
    "    // build json/string format of Classroom\n",
    "    this.json = [];\n",
    "    this.classroom.forEach(person => this.json.push(person.toJSON()));\n",
    "}\n",
    "\n",
    "// make a CompSci classroom from formerly defined teacher and students\n",
    "compsci = new Classroom(teacher, students);\n",
    "\n",
    "// output of Objects and JSON in CompSci classroom\n",
    "logItType(compsci.classroom);  // constructed classroom object\n",
    "logItType(compsci.classroom[0].name);  // abstract 1st objects name\n",
    "logItType(compsci.json[0]);  // show json conversion of 1st object to string\n",
    "logItType(JSON.parse(compsci.json[0]));  // show JSON.parse inverse of JSON.stringify"
   ]
  },
  {
   "cell_type": "code",
   "execution_count": 12,
   "metadata": {
    "vscode": {
     "languageId": "javascript"
    }
   },
   "outputs": [
    {
     "data": {
      "text/html": [
       "<div style='display:inline-block;background:#3386FF;border: 2px solid grey;box-shadow: 0.8em 0.4em 0.4em grey;'><table><tr><th><mark>Name</mark></th><th><mark>GitHub ID</mark></th><th><mark>Class of</mark></th><th><mark>GPA</mark></th><th><mark>Status</mark></th><th><mark>Role</mark></th></tr><tr><td>Mr M</td><td>jm1021</td><td>1901</td><td>  </td><td>VERY Cool</td><td>Teacher</td><tr><tr><td>Anthony</td><td>tonyhieu</td><td>2023</td><td>4</td><td>cool</td><td>Student</td><tr><tr><td>Bria</td><td>B-G101</td><td>2024</td><td>3.5</td><td>not cool</td><td>Student</td><tr><tr><td>Allie</td><td>xiaoa0</td><td>2023</td><td>3.8</td><td>cool</td><td>Student</td><tr><tr><td>Tigran</td><td>Tigran7</td><td>2036</td><td>4.2</td><td>very cool</td><td>Student</td><tr><tr><td>Rebecca</td><td>Rebecca-123</td><td>2024</td><td>4.135</td><td>kinda cool</td><td>Student</td><tr><tr><td>Vidhi</td><td>unknown</td><td>2023</td><td>3.95</td><td>not cool</td><td>Student</td><tr></table></div>"
      ]
     },
     "execution_count": 12,
     "metadata": {},
     "output_type": "execute_result"
    }
   ],
   "source": [
    "// define an HTML conversion \"method\" associated with Classroom\n",
    "Classroom.prototype._toHtml = function() {\n",
    "  // HTML Style is build using inline structure\n",
    "  var style = (\n",
    "    \"display:inline-block;\" +\n",
    "    \"background:#3386FF;\" +\n",
    "    \"border: 2px solid grey;\" +\n",
    "    \"box-shadow: 0.8em 0.4em 0.4em grey;\"\n",
    "  );\n",
    "\n",
    "  // HTML Body of Table is build as a series of concatenations (+=)\n",
    "  var body = \"\";\n",
    "  // Heading for Array Columns\n",
    "  body += \"<tr>\";\n",
    "  body += \"<th><mark>\" + \"Name\" + \"</mark></th>\";\n",
    "  body += \"<th><mark>\" + \"GitHub ID\" + \"</mark></th>\";\n",
    "  body += \"<th><mark>\" + \"Class of\" + \"</mark></th>\";\n",
    "  body += \"<th><mark>\" + \"GPA\" + \"</mark></th>\";\n",
    "  body += \"<th><mark>\" + \"Status\" + \"</mark></th>\";\n",
    "  body += \"<th><mark>\" + \"Role\" + \"</mark></th>\";\n",
    "  body += \"</tr>\";\n",
    "  // Data of Array, iterate through each row of compsci.classroom \n",
    "  for (var row of compsci.classroom) {\n",
    "    // tr for each row, a new line\n",
    "    body += \"<tr>\";\n",
    "    // td for each column of data\n",
    "    body += \"<td>\" + row.name + \"</td>\";\n",
    "    body += \"<td>\" + row.ghID + \"</td>\";\n",
    "    body += \"<td>\" + row.classof + \"</td>\";\n",
    "    body += \"<td>\" + row.gpa + \"</td>\";\n",
    "    body += \"<td>\" + row.status + \"</td>\";\n",
    "    body += \"<td>\" + row.role + \"</td>\";\n",
    "    // tr to end line\n",
    "    body += \"<tr>\";\n",
    "  }\n",
    "\n",
    "   // Build and HTML fragment of div, table, table body\n",
    "  return (\n",
    "    \"<div style='\" + style + \"'>\" +\n",
    "      \"<table>\" +\n",
    "        body +\n",
    "      \"</table>\" +\n",
    "    \"</div>\"\n",
    "  );\n",
    "\n",
    "};\n",
    "\n",
    "// IJavaScript HTML processor receive parameter of defined HTML fragment\n",
    "$$.html(compsci._toHtml());"
   ]
  }
 ],
 "metadata": {
  "kernelspec": {
   "display_name": "Python 3.8.10 64-bit",
   "language": "python",
   "name": "python3"
  },
  "language_info": {
   "file_extension": ".js",
   "mimetype": "application/javascript",
   "name": "python",
   "version": "3.8.10"
  },
  "orig_nbformat": 4,
  "vscode": {
   "interpreter": {
    "hash": "916dbcbb3f70747c44a77c7bcd40155683ae19c65e1c03b4aa3499c5328201f1"
   }
  }
 },
 "nbformat": 4,
 "nbformat_minor": 2
}
