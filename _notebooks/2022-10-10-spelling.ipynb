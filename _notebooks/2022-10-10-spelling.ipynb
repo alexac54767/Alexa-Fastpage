{
 "cells": [
  {
   "cell_type": "markdown",
   "metadata": {},
   "source": [
    "# API For our Final Project\n",
    "> This is an API we are planning on using in our final project. it is a grammar/spell check.\n",
    "\n",
    "- toc: false\n",
    "- comments: true\n",
    "- permalink: /API/SpellCheck\n",
    "- image: /images/smile.jpg\n",
    "- cetegories: [week 7]\n",
    "- title: Our API\n",
    "- type: pbl\n",
    "\n",
    "{% include nav_data.html %}\n"
   ]
  },
  {
   "cell_type": "code",
   "execution_count": 1,
   "metadata": {},
   "outputs": [
    {
     "name": "stdout",
     "output_type": "stream",
     "text": [
      "[{\"name\":\"Arabic\",\"code\":\"ar\",\"longCode\":\"ar\"},{\"name\":\"Asturian\",\"code\":\"ast\",\"longCode\":\"ast-ES\"},{\"name\":\"Belarusian\",\"code\":\"be\",\"longCode\":\"be-BY\"},{\"name\":\"Breton\",\"code\":\"br\",\"longCode\":\"br-FR\"},{\"name\":\"Catalan\",\"code\":\"ca\",\"longCode\":\"ca-ES\"},{\"name\":\"Catalan (Valencian)\",\"code\":\"ca\",\"longCode\":\"ca-ES-valencia\"},{\"name\":\"Chinese\",\"code\":\"zh\",\"longCode\":\"zh-CN\"},{\"name\":\"Danish\",\"code\":\"da\",\"longCode\":\"da-DK\"},{\"name\":\"Dutch\",\"code\":\"nl\",\"longCode\":\"nl\"},{\"name\":\"Dutch\",\"code\":\"nl\",\"longCode\":\"nl\"},{\"name\":\"Dutch (Belgium)\",\"code\":\"nl\",\"longCode\":\"nl-BE\"},{\"name\":\"English\",\"code\":\"en\",\"longCode\":\"en\"},{\"name\":\"English\",\"code\":\"en\",\"longCode\":\"en\"},{\"name\":\"English (Australian)\",\"code\":\"en\",\"longCode\":\"en-AU\"},{\"name\":\"English (Australian)\",\"code\":\"en\",\"longCode\":\"en-AU\"},{\"name\":\"English (Canadian)\",\"code\":\"en\",\"longCode\":\"en-CA\"},{\"name\":\"English (Canadian)\",\"code\":\"en\",\"longCode\":\"en-CA\"},{\"name\":\"English (GB)\",\"code\":\"en\",\"longCode\":\"en-GB\"},{\"name\":\"English (GB)\",\"code\":\"en\",\"longCode\":\"en-GB\"},{\"name\":\"English (New Zealand)\",\"code\":\"en\",\"longCode\":\"en-NZ\"},{\"name\":\"English (New Zealand)\",\"code\":\"en\",\"longCode\":\"en-NZ\"},{\"name\":\"English (South African)\",\"code\":\"en\",\"longCode\":\"en-ZA\"},{\"name\":\"English (South African)\",\"code\":\"en\",\"longCode\":\"en-ZA\"},{\"name\":\"English (US)\",\"code\":\"en\",\"longCode\":\"en-US\"},{\"name\":\"English (US)\",\"code\":\"en\",\"longCode\":\"en-US\"},{\"name\":\"Esperanto\",\"code\":\"eo\",\"longCode\":\"eo\"},{\"name\":\"French\",\"code\":\"fr\",\"longCode\":\"fr\"},{\"name\":\"French\",\"code\":\"fr\",\"longCode\":\"fr\"},{\"name\":\"Galician\",\"code\":\"gl\",\"longCode\":\"gl-ES\"},{\"name\":\"German\",\"code\":\"de\",\"longCode\":\"de\"},{\"name\":\"German\",\"code\":\"de\",\"longCode\":\"de\"},{\"name\":\"German (Austria)\",\"code\":\"de\",\"longCode\":\"de-AT\"},{\"name\":\"German (Austria)\",\"code\":\"de\",\"longCode\":\"de-AT\"},{\"name\":\"German (Germany)\",\"code\":\"de\",\"longCode\":\"de-DE\"},{\"name\":\"German (Germany)\",\"code\":\"de\",\"longCode\":\"de-DE\"},{\"name\":\"German (Swiss)\",\"code\":\"de\",\"longCode\":\"de-CH\"},{\"name\":\"German (Swiss)\",\"code\":\"de\",\"longCode\":\"de-CH\"},{\"name\":\"Greek\",\"code\":\"el\",\"longCode\":\"el-GR\"},{\"name\":\"Irish\",\"code\":\"ga\",\"longCode\":\"ga-IE\"},{\"name\":\"Italian\",\"code\":\"it\",\"longCode\":\"it\"},{\"name\":\"Japanese\",\"code\":\"ja\",\"longCode\":\"ja-JP\"},{\"name\":\"Khmer\",\"code\":\"km\",\"longCode\":\"km-KH\"},{\"name\":\"Norwegian (Bokmål)\",\"code\":\"nb\",\"longCode\":\"nb\"},{\"name\":\"Norwegian (Bokmål)\",\"code\":\"no\",\"longCode\":\"no\"},{\"name\":\"Persian\",\"code\":\"fa\",\"longCode\":\"fa\"},{\"name\":\"Polish\",\"code\":\"pl\",\"longCode\":\"pl-PL\"},{\"name\":\"Portuguese\",\"code\":\"pt\",\"longCode\":\"pt\"},{\"name\":\"Portuguese (Angola preAO)\",\"code\":\"pt\",\"longCode\":\"pt-AO\"},{\"name\":\"Portuguese (Angola preAO)\",\"code\":\"pt\",\"longCode\":\"pt-AO\"},{\"name\":\"Portuguese (Brazil)\",\"code\":\"pt\",\"longCode\":\"pt-BR\"},{\"name\":\"Portuguese (Brazil)\",\"code\":\"pt\",\"longCode\":\"pt-BR\"},{\"name\":\"Portuguese (Moçambique preAO)\",\"code\":\"pt\",\"longCode\":\"pt-MZ\"},{\"name\":\"Portuguese (Moçambique preAO)\",\"code\":\"pt\",\"longCode\":\"pt-MZ\"},{\"name\":\"Portuguese (Portugal)\",\"code\":\"pt\",\"longCode\":\"pt-PT\"},{\"name\":\"Portuguese (Portugal)\",\"code\":\"pt\",\"longCode\":\"pt-PT\"},{\"name\":\"Romanian\",\"code\":\"ro\",\"longCode\":\"ro-RO\"},{\"name\":\"Russian\",\"code\":\"ru\",\"longCode\":\"ru-RU\"},{\"name\":\"Simple German\",\"code\":\"de-DE-x-simple-language\",\"longCode\":\"de-DE-x-simple-language\"},{\"name\":\"Slovak\",\"code\":\"sk\",\"longCode\":\"sk-SK\"},{\"name\":\"Slovenian\",\"code\":\"sl\",\"longCode\":\"sl-SI\"},{\"name\":\"Spanish\",\"code\":\"es\",\"longCode\":\"es\"},{\"name\":\"Spanish\",\"code\":\"es\",\"longCode\":\"es\"},{\"name\":\"Spanish (voseo)\",\"code\":\"es\",\"longCode\":\"es-AR\"},{\"name\":\"Swedish\",\"code\":\"sv\",\"longCode\":\"sv\"},{\"name\":\"Tagalog\",\"code\":\"tl\",\"longCode\":\"tl-PH\"},{\"name\":\"Tamil\",\"code\":\"ta\",\"longCode\":\"ta-IN\"},{\"name\":\"Ukrainian\",\"code\":\"uk\",\"longCode\":\"uk-UA\"}]\n"
     ]
    }
   ],
   "source": [
    "import requests\n",
    "\n",
    "url = \"https://dnaber-languagetool.p.rapidapi.com/v2/languages\"\n",
    "\n",
    "headers = {\n",
    "\t\"X-RapidAPI-Key\": \"7798c19b40msh9672054d4a4cb3cp176d9cjsn9d6a5cf1b9bf\",\n",
    "\t\"X-RapidAPI-Host\": \"dnaber-languagetool.p.rapidapi.com\"\n",
    "}\n",
    "\n",
    "response = requests.request(\"GET\", url, headers=headers)\n",
    "\n",
    "print(response.text)"
   ]
  }
 ],
 "metadata": {
  "kernelspec": {
   "display_name": "Python 3.8.10 64-bit",
   "language": "python",
   "name": "python3"
  },
  "language_info": {
   "codemirror_mode": {
    "name": "ipython",
    "version": 3
   },
   "file_extension": ".py",
   "mimetype": "text/x-python",
   "name": "python",
   "nbconvert_exporter": "python",
   "pygments_lexer": "ipython3",
   "version": "3.8.10"
  },
  "orig_nbformat": 4,
  "vscode": {
   "interpreter": {
    "hash": "916dbcbb3f70747c44a77c7bcd40155683ae19c65e1c03b4aa3499c5328201f1"
   }
  }
 },
 "nbformat": 4,
 "nbformat_minor": 2
}
