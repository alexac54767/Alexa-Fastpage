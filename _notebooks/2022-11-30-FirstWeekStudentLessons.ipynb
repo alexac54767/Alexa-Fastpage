{
 "cells": [
  {
   "cell_type": "markdown",
   "metadata": {},
   "source": [
    "# Week 1 Student Lessons\n",
    "> A collection of all my hacks and learnings from week one of student lessons.\n",
    "\n",
    "- toc: false\n",
    "- comments: true\n",
    "- permalink: /studentlessons/weekone\n",
    "- image: /images/thumbsup.jpg\n",
    "- categories: [week 14]"
   ]
  },
  {
   "cell_type": "code",
   "execution_count": null,
   "metadata": {},
   "outputs": [],
   "source": []
  }
 ],
 "metadata": {
  "kernelspec": {
   "display_name": "Python 3.8.10 64-bit",
   "language": "python",
   "name": "python3"
  },
  "language_info": {
   "name": "python",
   "version": "3.8.10"
  },
  "orig_nbformat": 4,
  "vscode": {
   "interpreter": {
    "hash": "916dbcbb3f70747c44a77c7bcd40155683ae19c65e1c03b4aa3499c5328201f1"
   }
  }
 },
 "nbformat": 4,
 "nbformat_minor": 2
}
