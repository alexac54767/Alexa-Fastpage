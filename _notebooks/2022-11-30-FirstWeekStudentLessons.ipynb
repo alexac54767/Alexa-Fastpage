{
 "cells": [
  {
   "cell_type": "markdown",
   "metadata": {},
   "source": [
    "# Week 1 Student Lessons\n",
    "> A collection of all my hacks and learnings from week one of student lessons.\n",
    "\n",
    "- toc: false\n",
    "- comments: true\n",
    "- permalink: /studentlessons/weekone\n",
    "- image: /images/thumbsup.jpg\n",
    "- categories: [week 14]"
   ]
  },
  {
   "cell_type": "markdown",
   "metadata": {},
   "source": [
    "### 3.1-3.2\n",
    "\n",
    "## 3.1.1 Data Types and Variables"
   ]
  },
  {
   "cell_type": "code",
   "execution_count": 2,
   "metadata": {},
   "outputs": [
    {
     "name": "stdout",
     "output_type": "stream",
     "text": [
      "Timmy is 25\n"
     ]
    }
   ],
   "source": [
    "# I fixed the variables sicne they were swapped, making it confusing for the user\n",
    "age = \"25\"\n",
    "name = \"Timmy\"\n",
    "\n",
    "print(name + \" is \" + age)"
   ]
  },
  {
   "cell_type": "code",
   "execution_count": 1,
   "metadata": {},
   "outputs": [
    {
     "name": "stdout",
     "output_type": "stream",
     "text": [
      "My car is a Tesla made in 2020\n",
      "age: 16\n",
      "can drive\n"
     ]
    }
   ],
   "source": [
    "# Here I assigned and used different types of variables\n",
    "car = \"Tesla\" #example of a string\n",
    "yearmake = \"2020\"\n",
    "ownerage = 16 #example of an integer\n",
    "haslicense = True #example of a Boolean\n",
    "\n",
    "print(\"My car is a \" + car + \" made in \" + yearmake)\n",
    "print(\"age: \" + str(ownerage))\n",
    "\n",
    "if haslicense == True:\n",
    "    print(\"can drive\")\n",
    "else:\n",
    "    print(\"cannot drive\")"
   ]
  },
  {
   "cell_type": "markdown",
   "metadata": {},
   "source": [
    "## 3.1.2 Variables\n",
    "- An assignment operator asigns the value on the right of it (in this case =) to the variable on the left.\n",
    "- Collegeboard pseudocode uses the arrow, <--, to assign values to variables.\n",
    "- A variable, x, is initially given a value of 15. Later on, the value for x is changed to 22. If you print x, the command would display 22, since it has been updated and assigned the new value."
   ]
  },
  {
   "cell_type": "markdown",
   "metadata": {},
   "source": [
    "## 3.2.1 List and Strings Using Variables\n",
    "- A list is finite series of ordered values.\n",
    "- An element a smaller part in a bigger system, such as an item in a list.\n",
    "- An easy way to reference the elements in a list/string is to index it (the 3rd element, 2nd element, etc).\n",
    "- example of a string: \"cookie monster\""
   ]
  },
  {
   "cell_type": "code",
   "execution_count": 3,
   "metadata": {},
   "outputs": [
    {
     "name": "stdout",
     "output_type": "stream",
     "text": [
      "chores\n",
      "finish hacks\n"
     ]
    }
   ],
   "source": [
    "# here I defined my own list\n",
    "todolist = [\"finish hacks\", \"math hw\", \"chores\"]\n",
    "print(todolist[2]) # indexing from begining\n",
    "print(todolist[-3]) # indexing from the end"
   ]
  },
  {
   "cell_type": "markdown",
   "metadata": {},
   "source": [
    "## 3.2.2 Data Abstraction with Lists"
   ]
  },
  {
   "cell_type": "code",
   "execution_count": 4,
   "metadata": {},
   "outputs": [
    {
     "name": "stdout",
     "output_type": "stream",
     "text": [
      "[2, 3, 4]\n"
     ]
    }
   ],
   "source": [
    "num1=input(\"Input a number. \")\n",
    "num2=input(\"Input a number. \")\n",
    "num3=input(\"Input a number. \")\n",
    "add=input(\"How much would you like to add? \")\n",
    "\n",
    "# Add code in the space below\n",
    "\n",
    "numlist = [int(num1), int(num2), int(num3)] # Here I defined numlist so that it could be used in the abstraction later\n",
    "\n",
    "# The following is the code that adds the inputted addend to the other numbers. It is hidden from the user.\n",
    "\n",
    "for i in numlist:\n",
    "    numlist[i -1] += int(add)\n",
    "\n",
    "print(numlist)"
   ]
  },
  {
   "cell_type": "markdown",
   "metadata": {},
   "source": [
    "## 3.2.3 Managing Complexity with lists"
   ]
  },
  {
   "cell_type": "code",
   "execution_count": 8,
   "metadata": {},
   "outputs": [
    {
     "name": "stdout",
     "output_type": "stream",
     "text": [
      "Hello, alexac54767 running /bin/python3\n",
      "You will be asked 4 questions.\n",
      "Question: Are you ready to take a test?\n",
      "Question: The purpose of lists and dictionaries are to manage the ____ of a program\n",
      "complexity is correct!\n",
      "Question: Lists are a form of data ______\n",
      "abstraction is correct!\n",
      "Question: Which brackets are used to assign values to a variable to make a list?\n",
      "[] is correct!\n",
      "alexac54767 you scored 3/4\n"
     ]
    }
   ],
   "source": [
    "import getpass, sys\n",
    "\n",
    "def question_with_response(prompt):\n",
    "    print(\"Question: \" + prompt)\n",
    "    msg = input()\n",
    "    return msg\n",
    "\n",
    "questions = 4\n",
    "correct = 0\n",
    "\n",
    "print('Hello, ' + getpass.getuser() + \" running \" + sys.executable)\n",
    "print(\"You will be asked \" + str(questions) + \" questions.\")\n",
    "question_with_response(\"Are you ready to take a test?\")\n",
    "\n",
    "rsp = question_with_response(\"The purpose of lists and dictionaries are to manage the ____ of a program\")\n",
    "if rsp == \"complexity\":\n",
    "    print(rsp + \" is correct!\")\n",
    "    correct += 1\n",
    "else:\n",
    "    print(rsp + \" is incorrect!\")\n",
    "\n",
    "rsp = question_with_response(\"Lists are a form of data ______\")\n",
    "if rsp == \"abstraction\":\n",
    "    print(rsp + \" is correct!\")\n",
    "    correct += 1\n",
    "else:\n",
    "    print(rsp + \" is incorrect!\")\n",
    "\n",
    "rsp = question_with_response(\"Which brackets are used to assign values to a variable to make a list?\")\n",
    "if rsp == \"[]\":\n",
    "    print(rsp + \" is correct!\")\n",
    "    correct += 1\n",
    "else:\n",
    "    print(rsp + \" is incorrect!\") \n",
    "\n",
    "print(getpass.getuser() + \" you scored \" + str(correct) +\"/\" + str(questions))"
   ]
  },
  {
   "cell_type": "code",
   "execution_count": 5,
   "metadata": {},
   "outputs": [
    {
     "name": "stdout",
     "output_type": "stream",
     "text": [
      "pizza hot dog sushi strawberry sandwich\n",
      "['pizza', 'hot dog', 'sushi', 'strawberry', 'sandwich']\n"
     ]
    }
   ],
   "source": [
    "food1 = \"pizza\" \n",
    "food2 = \"hot dog\" \n",
    "food3 = \"sushi\"\n",
    "food4 = \"strawberry\"\n",
    "food5 = \"sandwich\"\n",
    "print(food1, food2, food3, food4, food5)\n",
    "\n",
    "food = [food1, food2, food3, food4, food5] #this is simplifying it (making food a list and then only need one word to print it)\n",
    "print(food)"
   ]
  },
  {
   "cell_type": "code",
   "execution_count": 6,
   "metadata": {},
   "outputs": [
    {
     "name": "stdout",
     "output_type": "stream",
     "text": [
      "Alexa Alexa Lydia Sri\n",
      "['Alexa', 'Ava', 'Lydia', 'Sri']\n"
     ]
    }
   ],
   "source": [
    "# slow way\n",
    "name1 = \"Alexa\"\n",
    "name2 = \"Ava\"\n",
    "name3 = \"Lydia\"\n",
    "name4 = \"Sri\"\n",
    "print(name1, name1, name3, name4)\n",
    "\n",
    "# managing complexity\n",
    "names = [name1, name2, name3, name4]\n",
    "print(names)"
   ]
  },
  {
   "cell_type": "markdown",
   "metadata": {},
   "source": [
    "## 3.3.1 algorithm that uses sequencing without using programming language\n",
    "- algorithms: a finite set of instruction that accomplish a task (it can be expressed by natural language, diagrams, + more)\n",
    "- 3 parts to an algorithm: <mark>sequencing, selection, and iteration</mark>.\n",
    "- every algorithm can be created by a mixture of sequencing, selection, and iteration\n",
    "\n",
    "    - sequence: the order of how to do something to achieve a result\n",
    "    - selection: allows an algorithm to make a decision based on if a condition is met\n",
    "    - iteration: a loop and doing something again until a condition is met"
   ]
  },
  {
   "cell_type": "markdown",
   "metadata": {},
   "source": [
    "## Describe the given algorithm \n",
    "- sequencing: \n",
    "    - The sequencing in this algorithm provided is how it has the steps (1-5) that must be performed in order. To go onto step 2, you miust do step 1 first.\n",
    "- Selection:\n",
    "    - Selection is used in this algorithm when it decides what to do when it evaluates if the numer equals the item. If it does, it must decide to display \"item foud\". However, if it doesn't, then the algorithm decides to display \"item not found\".\n",
    "- Iteration:\n",
    "    - Iteration is used in this algorithm when it must cycle through the list, checking if the condition is met. Once it has gone through all of the number, it returns to step 2 to repeat."
   ]
  },
  {
   "cell_type": "markdown",
   "metadata": {},
   "source": [
    "## 3.3.2 Mathematical Expressions\n",
    "- Question: How do we represent a step-by-step algorithmic process using sequential code statements?\n",
    "\n",
    "- Sequential statements are used in processes to specify how signals are assigned\n",
    "- the process is executed in order as a whole\n",
    "- after all the sequential statements in the process are executed the signals are assigned new values. \n",
    "- execute in the order in which they appear in the process (sequencing)\n",
    "- numerical values can be within variables\n",
    "- variable values can be inside other variables"
   ]
  },
  {
   "cell_type": "markdown",
   "metadata": {},
   "source": [
    "## 3.3.3 Evaluate expression using arithmetic operator\n",
    "- arithmetic operator: language that use addition, subtraction, multiplication, division, and modulus operators\n",
    "- order of arithmetic operation = same with mathematic operation(PEMDAS but Subtraction first)\n",
    "    - addition: a+b \n",
    "    - subtraction: a-b \n",
    "    - multiplication: a*b \n",
    "    - division: a/b \n",
    "    - modulus: a MOD b\n",
    "        - syntax of MOD is %\n",
    "        - divides given numerator by denominator and result = remainder for the division \n",
    "        - ex: 10 % 3 = 1 "
   ]
  },
  {
   "cell_type": "code",
   "execution_count": 9,
   "metadata": {},
   "outputs": [
    {
     "name": "stdout",
     "output_type": "stream",
     "text": [
      "3.0\n"
     ]
    }
   ],
   "source": [
    "num1 = 5\n",
    "num2 = num1 * 3\n",
    "num3 = num2 / num1 * (9 % 2) * 4\n",
    "result = (num3 % num1 + num2) % num3 * 3 / 5\n",
    "\n",
    "print(result)"
   ]
  },
  {
   "cell_type": "markdown",
   "metadata": {},
   "source": [
    "### crossword puzzle hack\n",
    "- 1 down - Iteration (creates a loop in the algorithm)\n",
    "- 2 down - Selection (allows an algorithm to create a decision)\n",
    "- 3 across - Sequence (an order of events)"
   ]
  },
  {
   "cell_type": "markdown",
   "metadata": {},
   "source": [
    "## 3.4 Evaluate expression that manipulates strings\n",
    "- string concatenation: joins two or more strings end-to-end to make a new string\n",
    "- substring: part of an existing string\n",
    "    - substring (str1, str2, length): returns a substring of consecutive character from str1, starting the character at position 'start' and containing 'length' character\n",
    "    - ^ [Website that explains this](https://www.freecodecamp.org/news/how-to-substring-a-string-in-python/)\n",
    "- strings: ordered sequences of characters\n",
    "    - substring (str1, str2, length): returns a substring of consecutive character from str1, starting the character at position 'start' and containing 'length' character\n",
    "\n",
    "![]({{site.baseurl}}/images/funestactivityhackfrom3.3and3.4.jpg)"
   ]
  },
  {
   "cell_type": "code",
   "execution_count": 10,
   "metadata": {},
   "outputs": [
    {
     "data": {
      "text/plain": [
       "16"
      ]
     },
     "execution_count": 10,
     "metadata": {},
     "output_type": "execute_result"
    }
   ],
   "source": [
    "# - len (str): returns the number of character is str\n",
    "len(\"Hi Mr. Mortensen\")"
   ]
  },
  {
   "cell_type": "code",
   "execution_count": 12,
   "metadata": {},
   "outputs": [
    {
     "name": "stdout",
     "output_type": "stream",
     "text": [
      "Hi Mr.Mortensen\n"
     ]
    }
   ],
   "source": [
    "# concat (str1, str2): returns a single string consisting of str1 followed by str 2\n",
    "string1 = \"Hi \"\n",
    "string2 = \"Mr.Mortensen\"\n",
    "print(string1 + string2)"
   ]
  },
  {
   "cell_type": "code",
   "execution_count": 13,
   "metadata": {},
   "outputs": [
    {
     "name": "stdout",
     "output_type": "stream",
     "text": [
      "Mr\n"
     ]
    }
   ],
   "source": [
    "# substring (str1, str2, length): returns a substring of consecutive character from str1, starting the character at position 'start' and containing 'length' character\n",
    "string = \"Hi Mr. Mortensen\"\n",
    "print(string[3:5])"
   ]
  },
  {
   "cell_type": "code",
   "execution_count": 14,
   "metadata": {},
   "outputs": [
    {
     "name": "stdout",
     "output_type": "stream",
     "text": [
      "gree pa\n",
      "16\n",
      "7\n"
     ]
    }
   ],
   "source": [
    "# Challenge Problem\n",
    "string1 = \"degree\"\n",
    "string2 = \" passenger\"\n",
    "FinalString = string1 + string2\n",
    "print(FinalString[2:9])\n",
    "print(len(FinalString))\n",
    "print(len(FinalString[2:9]))"
   ]
  }
 ],
 "metadata": {
  "kernelspec": {
   "display_name": "Python 3.8.10 64-bit",
   "language": "python",
   "name": "python3"
  },
  "language_info": {
   "codemirror_mode": {
    "name": "ipython",
    "version": 3
   },
   "file_extension": ".py",
   "mimetype": "text/x-python",
   "name": "python",
   "nbconvert_exporter": "python",
   "pygments_lexer": "ipython3",
   "version": "3.8.10"
  },
  "orig_nbformat": 4,
  "vscode": {
   "interpreter": {
    "hash": "916dbcbb3f70747c44a77c7bcd40155683ae19c65e1c03b4aa3499c5328201f1"
   }
  }
 },
 "nbformat": 4,
 "nbformat_minor": 2
}
