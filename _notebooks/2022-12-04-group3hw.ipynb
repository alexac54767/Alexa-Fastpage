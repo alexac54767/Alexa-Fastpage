{
 "cells": [
  {
   "cell_type": "markdown",
   "metadata": {},
   "source": [
    "# 3.5-3.7 Student Lesson (group 3)\n",
    "> My homework for the 3.5-3.7 lesson\n",
    "\n",
    "- toc: true\n",
    "- comments: true\n",
    "- permalink: /students/groupthree\n",
    "- image: /images/thumbs up.jpg\n",
    "- categories: [week 14]\n"
   ]
  },
  {
   "cell_type": "markdown",
   "metadata": {},
   "source": [
    "### Hack 1: 3.5\n",
    "[x] Explain in your own words what each logical operator does\n",
    "[x] Code your own scenario that makes sense for each logical operator"
   ]
  },
  {
   "cell_type": "markdown",
   "metadata": {},
   "source": [
    "### Hack 1\n",
    "- <mark>NOT</mark>: The NOT logical operator returns the opposite condtion of the data\n",
    "- <mark>AND</mark>: The AND logical operator determines if 2 conditions are met\n",
    "- <mark>OR</mark>: The OR logical operator determines if 1 of the conditions are met"
   ]
  },
  {
   "cell_type": "code",
   "execution_count": 29,
   "metadata": {},
   "outputs": [
    {
     "name": "stdout",
     "output_type": "stream",
     "text": [
      "True\n"
     ]
    }
   ],
   "source": [
    "# Scenario for NOT logical operator\n",
    "ispassing = False\n",
    "isstudentpassing = not(ispassing)\n",
    "print(isstudentpassing)"
   ]
  },
  {
   "cell_type": "code",
   "execution_count": 37,
   "metadata": {},
   "outputs": [
    {
     "name": "stdout",
     "output_type": "stream",
     "text": [
      "Bring a hoodie!\n"
     ]
    }
   ],
   "source": [
    "# Scenario for AND logical operator\n",
    "temp = input(\"what is the temperature today?\")\n",
    "if int(temp) >= 40 and int(temp) <= 70:\n",
    "    print(\"Bring a hoodie!\")\n",
    "if int(temp) < 40:\n",
    "    print(\"bring snow gear!\")\n",
    "if int(temp) > 70:\n",
    "    print(\"No jacket today!\")"
   ]
  },
  {
   "cell_type": "code",
   "execution_count": 38,
   "metadata": {},
   "outputs": [
    {
     "name": "stdout",
     "output_type": "stream",
     "text": [
      "student passed this class\n"
     ]
    }
   ],
   "source": [
    "# Scenario for OR logical operator\n",
    "APscore = 4\n",
    "Finalscore = 68\n",
    "if APscore >= 3 or Finalscore >= 75:\n",
    "    print(\"student passed this class\")\n",
    "else:\n",
    "    print(\"student did not pass this class\")"
   ]
  },
  {
   "cell_type": "markdown",
   "metadata": {},
   "source": [
    "### Hack 2: 3.6\n",
    "[x] Level I: Vowel Count\n",
    "Return the number (count) of vowels in the given string. We will consider a, e, i, o, u as vowels for this challenge (but not y). The input string will only consist of lower case letters and/or spaces.\n",
    "\n",
    "Hint: If you use a lot of if-statements and there are more than one outcome, that is to be expected. If not, don't panic, just keep trying.\n",
    "\n",
    "\n",
    "[x] Level III: Mutliples of 3 or 5\n",
    "If we list all the natural numbers below 10 that are multiples of 3 or 5, we get 3, 5, 6 and 9. The sum of these multiples is 23.\n",
    "\n",
    "Finish the solution so that it returns the sum of all the multiples of 3 or 5 below the number passed in. Additionally, if the number is negative, return 0 (for languages that do have them).\n",
    "\n",
    "Note: If the number is a multiple of both 3 and 5, only count it once.\n",
    "\n",
    "Hint: What do you know about for loops? Since your code incorporates a list of numbers from 1 to the max number, can you use for loops along with conditionals?\n",
    "\n",
    "[x] binary conditional logic\n",
    "[x] define key terms"
   ]
  },
  {
   "cell_type": "markdown",
   "metadata": {},
   "source": [
    "### Defining Key Terms:\n",
    "- <mark>Boolean</mark>: a boolean is an operator that determines if a condition is true or false\n",
    "- <mark>Selection</mark>: When an algorithm must make a decision (if a condition is met)\n",
    "- <mark>AND</mark>: AND is a logical operator that determines of 2 conditions are both met\n",
    "- <mark>OR</mark>: OR is a logical operator that determines if 1 of 2 conditions is met\n",
    "- <mark>NOT</mark>: NOT is a logical operator that displays the oposition condition of the data\n"
   ]
  },
  {
   "cell_type": "code",
   "execution_count": 5,
   "metadata": {},
   "outputs": [
    {
     "name": "stdout",
     "output_type": "stream",
     "text": [
      "You have been accepted into our STEM program!\n"
     ]
    }
   ],
   "source": [
    "# Binary Conditional Logic Code\n",
    "gpa = 4.0\n",
    "extracirriculars = \"present\"\n",
    "if gpa >= 4.0 and extracirriculars == \"present\":\n",
    "    major = input(\"What is your major\")\n",
    "    if major == \"math\" or major == \"science\":\n",
    "        print(\"You have been accepted into our STEM program!\")\n",
    "    elif major == \"english\" or major == \"history\":\n",
    "        print(\"You have been accepted into our arts program!\")\n",
    "    else:\n",
    "        print(\"You have been accepted into our \" + major + \" program!\")\n",
    "else:\n",
    "    print(\"I'm sorry, you are not accepted to this program\")\n"
   ]
  },
  {
   "cell_type": "code",
   "execution_count": 6,
   "metadata": {},
   "outputs": [
    {
     "name": "stdout",
     "output_type": "stream",
     "text": [
      "7\n"
     ]
    }
   ],
   "source": [
    "# Challenge Level 1\n",
    "input_string = input(\"Input a string to check how many vowels it has. \")\n",
    "vowelcount = 0\n",
    "for character in input_string: #iterates through the string character by character\n",
    "    if character == \"a\":\n",
    "        vowelcount += 1\n",
    "    elif character == \"e\":\n",
    "        vowelcount += 1\n",
    "    elif character == \"i\":\n",
    "        vowelcount += 1\n",
    "    elif character == \"o\":\n",
    "        vowelcount += 1\n",
    "    elif character == \"u\":\n",
    "        vowelcount += 1\n",
    "print(vowelcount)"
   ]
  },
  {
   "cell_type": "code",
   "execution_count": 7,
   "metadata": {},
   "outputs": [
    {
     "name": "stdout",
     "output_type": "stream",
     "text": [
      "0 is a multiple of 3\n",
      "3 is a multiple of 3\n",
      "5 is a multiple of 5\n",
      "6 is a multiple of 3\n",
      "9 is a multiple of 3\n",
      "10 is a multiple of 5\n",
      "12 is a multiple of 3\n",
      "15 is a multiple of 3\n",
      "18 is a multiple of 3\n",
      "20 is a multiple of 5\n",
      "21 is a multiple of 3\n",
      "24 is a multiple of 3\n",
      "143\n"
     ]
    }
   ],
   "source": [
    "# Level 3 challenge\n",
    "numberstring = input(\"Input a number to find the sum of all the multiples of 3 or 5 below it. \")\n",
    "numbertocheck = int(numberstring)\n",
    "totalmultiples = 0\n",
    "if numbertocheck >= 0: # if the number is negative it will display the sum as 0\n",
    "    for n in range(numbertocheck+1):\n",
    "        if n/3 == int(n/3): #checks for multiples of 3\n",
    "            print(str(n) + \" is a multiple of 3\")\n",
    "            totalmultiples += n    #elif prevents duplicates of numbers with both multiples of 3 and 5\n",
    "        elif n/5 == int(n/5): # checks for multiples of 5\n",
    "            print(str(n) + \" is a multiple of 5\")\n",
    "            totalmultiples += n\n",
    "print(totalmultiples)\n"
   ]
  },
  {
   "cell_type": "markdown",
   "metadata": {},
   "source": [
    "### Hack 3\n",
    "\n",
    "[x] For the first hack, pretend you are a school's test grader. Create an array with integers, each integer representing one score from a student's taken tests. If the average of the student's test scores are at least 75 percent, then display that the student is elligible for credit, and if not, display that the student must retake the tests over break. \n",
    "[x] The second hack is more number-oriented. Create an algorithm that calculates the sum of two numbers, then determines whether the sum is greater than or less than 100.\n",
    "[x] The hacks above was heavily derived from CollegeBoard. As a computer science student, you should be able to create an algorithm utilizing conditionals. Try something number-oriented if you get stuck. Creativity gets points."
   ]
  },
  {
   "cell_type": "code",
   "execution_count": 1,
   "metadata": {},
   "outputs": [
    {
     "name": "stdout",
     "output_type": "stream",
     "text": [
      "87.0 is the student's grade average\n",
      "student is eligible for credit\n"
     ]
    }
   ],
   "source": [
    "# Hack 3 #1\n",
    "def average(lst):\n",
    "    return sum(lst)/len(lst)\n",
    "\n",
    "gradelist = [92, 83, 90, 74, 86, 97]\n",
    "averagegrade = average(gradelist)\n",
    "\n",
    "print(str(averagegrade) + \" is the student's grade average\")\n",
    "\n",
    "if averagegrade >= 75:\n",
    "    print(\"student is eligible for credit\")\n",
    "else:\n",
    "    print(\"student needs to retake tests during break\")"
   ]
  },
  {
   "cell_type": "code",
   "execution_count": 2,
   "metadata": {},
   "outputs": [
    {
     "name": "stdout",
     "output_type": "stream",
     "text": [
      "202 is greater than or equal to 100\n"
     ]
    }
   ],
   "source": [
    "# Hack 3 #2\n",
    "num1 = input(\"What is your first number?\")\n",
    "num2 = input(\"What is your second number?\")\n",
    "sumofnumbers = int(num1) + int(num2)\n",
    "if sumofnumbers >= 100:\n",
    "    print(str(sumofnumbers) + \" is greater than or equal to 100\")\n",
    "else:\n",
    "     print(str(sumofnumbers) + \" is less than than 100\")\n"
   ]
  },
  {
   "cell_type": "code",
   "execution_count": 5,
   "metadata": {},
   "outputs": [
    {
     "name": "stdout",
     "output_type": "stream",
     "text": [
      "You is available on Netflix\n",
      "show/movie is recommended\n"
     ]
    }
   ],
   "source": [
    "# Hack 3 #3\n",
    "# to test if a show is included in Netflix, and if it is recommended\n",
    "showdictionary = {\n",
    "    'Wednesday':5,  # key=title name and value=rating out of 5 stars\n",
    "    'You':3, \n",
    "    'Knight Before Christmas':4, \n",
    "    'Red Notice':5,\n",
    "    'Truth or Dare':1\n",
    "}\n",
    "show = input(\"What show are you looking for?\")\n",
    "if show in showdictionary.keys():\n",
    "    print(show + \" is available on Netflix\")\n",
    "    if showdictionary[show] >= 3:\n",
    "         print(\"show/movie is recommended\")\n",
    "    else:\n",
    "        print(\"show is not recommended\")\n",
    "else:\n",
    "    print(show + \" is not available on Netflix\")"
   ]
  },
  {
   "cell_type": "markdown",
   "metadata": {},
   "source": [
    "## Hack 4\n",
    "[x] Create 3 differnt flow charts representing nested statements and transfer them into code.\n",
    "[] Create a piece of code that displays four statements instead of three. Try to do more if you can.\n",
    "[x] Make piece of code that gives three different recommandations for possible classes to take at a school based on two different condtions. These conditions could be if the student likes STEM or not."
   ]
  },
  {
   "cell_type": "code",
   "execution_count": 9,
   "metadata": {},
   "outputs": [
    {
     "name": "stdout",
     "output_type": "stream",
     "text": [
      "Class recommendations: Advanced Function Analysis, AP Calculus AB, AP Calculus BC, AP Statistics\n"
     ]
    }
   ],
   "source": [
    "# Hack 4 #2 Class recommendations\n",
    "STEM = input(\"Are you intrested in STEM? Y or N\")\n",
    "if STEM == \"Y\":\n",
    "    subject = input(\"Do you like math or science better?\")\n",
    "    if subject == \"math\":\n",
    "        print(\"Class recommendations: Advanced Function Analysis, AP Calculus AB, AP Calculus BC, AP Statistics\")\n",
    "    if subject == \"science\":\n",
    "        print(\"Class recommendations: Chemistry, Physics, AP Enviornmental Science, AP Physics, AP Chemistry\")\n",
    "else:\n",
    "    language = input(\"Are you intrested in language? Y or N\")\n",
    "    if language == \"Y\":\n",
    "        lansubject = input(\"Do you prefer a foreign language or English?\")\n",
    "        if lansubject == \"foreign language\":\n",
    "            print(\"Class recommendations: Spanish, Mandarin, AP Spanish, AP Mandarin\")\n",
    "        if lansubject == \"English\":\n",
    "            print(\"Class recommendations: American Literature, AP English Literature\")\n",
    "    if language == \"N\":\n",
    "        print(\"See class list for more options!\")"
   ]
  },
  {
   "cell_type": "markdown",
   "metadata": {},
   "source": [
    "### Flowchart #1: Is it cold?"
   ]
  },
  {
   "cell_type": "code",
   "execution_count": null,
   "metadata": {
    "vscode": {
     "languageId": "html"
    }
   },
   "outputs": [],
   "source": [
    "<!-- <img src=\"_images/ColdFlowChart.png\" alt=\"flowchart1\">"
   ]
  },
  {
   "cell_type": "code",
   "execution_count": 43,
   "metadata": {},
   "outputs": [
    {
     "name": "stdout",
     "output_type": "stream",
     "text": [
      "It is cold!\n",
      "Bring a hoodie!\n"
     ]
    }
   ],
   "source": [
    "# FLowchart #1 code\n",
    "temp = input(\"what is the temperature today?\")\n",
    "if int(temp) <= 73:\n",
    "    print(\"It is cold!\")\n",
    "    if int(temp) <= 40:\n",
    "        print(\"Bring a snow jacket!\")\n",
    "    else:\n",
    "        print(\"Bring a hoodie!\")\n",
    "else:\n",
    "    print(\"It's warm today! Don't bring a jacket :)\")"
   ]
  },
  {
   "cell_type": "markdown",
   "metadata": {},
   "source": [
    "### Flowchart #2: Is the class difficult?"
   ]
  },
  {
   "cell_type": "code",
   "execution_count": null,
   "metadata": {
    "vscode": {
     "languageId": "html"
    }
   },
   "outputs": [],
   "source": [
    "<!-- <img src=\"_images/Istheclassdifficult.png\" alt=\"flowchart2\">"
   ]
  },
  {
   "cell_type": "code",
   "execution_count": 44,
   "metadata": {},
   "outputs": [
    {
     "name": "stdout",
     "output_type": "stream",
     "text": [
      "This class is not difficult\n"
     ]
    }
   ],
   "source": [
    "# Flowchart #2 code\n",
    "passingrate = 72\n",
    "testaverage = 82\n",
    "if passingrate > 70 and passingrate <= 100:\n",
    "    if testaverage >= 80:\n",
    "        print(\"This class is not difficult\")\n",
    "    else:\n",
    "        print(\"this class is difficult\")\n",
    "else:\n",
    "    print(\"this class is difficult\")"
   ]
  },
  {
   "cell_type": "markdown",
   "metadata": {},
   "source": [
    "### Flowchart #3: Should Alexa work at school during first period off roll?"
   ]
  },
  {
   "cell_type": "code",
   "execution_count": null,
   "metadata": {
    "vscode": {
     "languageId": "html"
    }
   },
   "outputs": [],
   "source": [
    "<!-- <img src=\"_images/Offrollflowchart.png\" alt=\"flowchart3\"> -->"
   ]
  },
  {
   "cell_type": "code",
   "execution_count": 48,
   "metadata": {},
   "outputs": [
    {
     "name": "stdout",
     "output_type": "stream",
     "text": [
      "Go to school\n"
     ]
    }
   ],
   "source": [
    "# Flowchart #3 code\n",
    "feeling = input(\"Are you tired today?\")\n",
    "if feeling == \"yes\":\n",
    "    print(\"Stay home and sleep\")\n",
    "if feeling == \"no\":\n",
    "    homework = input(\"Do you have homework to do?\")\n",
    "    if homework == \"yes\":\n",
    "        print(\"Go to school\")\n",
    "    else:\n",
    "        print(\"Stay home and sleep\")"
   ]
  },
  {
   "cell_type": "code",
   "execution_count": 52,
   "metadata": {},
   "outputs": [
    {
     "name": "stdout",
     "output_type": "stream",
     "text": [
      "water is potable\n",
      "water is warm\n",
      "water is not in ideal condition\n",
      "chill with ice\n"
     ]
    }
   ],
   "source": [
    "# displaying 4 statements\n",
    "drinkable = \"potable\"\n",
    "temperature = \"warm\"\n",
    "if drinkable == \"potable\":\n",
    "    print(\"water is potable\")\n",
    "    if temperature == \"cold\":\n",
    "        print(\"water is \" + str(temperature)) \n",
    "        print(\"water is in ideal condition\")\n",
    "        print(\"drink up!\")\n",
    "    else:\n",
    "        print(\"water is \" + str(temperature)) \n",
    "        print(\"water is not in ideal condition\")\n",
    "        print(\"chill with ice\")\n",
    "else:\n",
    "    print(\"do not drink, water is not potable\")"
   ]
  },
  {
   "cell_type": "markdown",
   "metadata": {},
   "source": [
    "### Kahoot quiz: The Kahoot is not playble\n"
   ]
  }
 ],
 "metadata": {
  "kernelspec": {
   "display_name": "Python 3.8.10 64-bit",
   "language": "python",
   "name": "python3"
  },
  "language_info": {
   "codemirror_mode": {
    "name": "ipython",
    "version": 3
   },
   "file_extension": ".py",
   "mimetype": "text/x-python",
   "name": "python",
   "nbconvert_exporter": "python",
   "pygments_lexer": "ipython3",
   "version": "3.8.10"
  },
  "orig_nbformat": 4,
  "vscode": {
   "interpreter": {
    "hash": "916dbcbb3f70747c44a77c7bcd40155683ae19c65e1c03b4aa3499c5328201f1"
   }
  }
 },
 "nbformat": 4,
 "nbformat_minor": 2
}
