{
 "cells": [
  {
   "cell_type": "markdown",
   "metadata": {},
   "source": [
    "# 3.5-3.7 Student Lesson (group 3)\n",
    "> My homework for the 3.8-3.10 lesson\n",
    "\n",
    "- toc: true\n",
    "- comments: true\n",
    "- permalink: /students/groupfour\n",
    "- image: /images/thumbsup.jpg\n",
    "- categories: [week 15]\n"
   ]
  },
  {
   "cell_type": "markdown",
   "metadata": {},
   "source": [
    "### **Hacks** Unit 3 Section 3.8.1 \n",
    "1. Define an Iteration: loop that continues repeating until condition is met\n",
    "2. Make your own example of an iteration with at least 4 steps and a stopping condition(Similar to mine that I did)\n",
    "3. Program a simple iteration."
   ]
  },
  {
   "cell_type": "markdown",
   "metadata": {},
   "source": [
    "- Iteration: loop that continues repeating until condition is met\n",
    "- Example of iteration with stopping condition:\n",
    "    - I am doing an easter egg hunt and trying to frind the golden egg. I have split the searching area into sections\n",
    "    1. I walk to a section\n",
    "    2. I look aroung to try and find the golden egg\n",
    "    3. If it is not there, I add one to the section number (move onto next section)\n",
    "    4. I repeat steps 1 through 4\n",
    "    5. Once I find the egg, I stop searching to go brag to the kids\n",
    "\n"
   ]
  },
  {
   "cell_type": "code",
   "execution_count": null,
   "metadata": {},
   "outputs": [],
   "source": [
    "# hack #3 program simple iteration\n",
    "hourshomework = 0\n",
    "while hourshomework < 8:\n",
    "    print(\"Too easy\")\n",
    "    hourshomework += 1\n",
    "    if hourshomework == 6:\n",
    "        break\n"
   ]
  },
  {
   "cell_type": "markdown",
   "metadata": {},
   "source": [
    "### **Hacks** Unit 3 Section 3.8.2\n",
    "1. What is an iteration statement, in your own words?\n",
    "2. Create a descending list of numbers using for loop\n",
    "3. Using while loop, make a list of numbers which will form an output of 3,16,29,42,55,68,81"
   ]
  },
  {
   "cell_type": "markdown",
   "metadata": {},
   "source": [
    "- Iteration statement: a condition that must be met in a loop or it will continue repeating"
   ]
  },
  {
   "cell_type": "code",
   "execution_count": null,
   "metadata": {},
   "outputs": [],
   "source": [
    "numlist = [100]\n",
    "for i in numlist:\n",
    "    numlist.append(i)\n",
    "    i -= 1\n",
    "    \n",
    "\n",
    "print(numlist)\n"
   ]
  },
  {
   "cell_type": "markdown",
   "metadata": {},
   "source": [
    "### Lists Quiz \n",
    "\n",
    "![quizscore]({{site.baseurl}}/images/group4quiz.jpg)"
   ]
  }
 ],
 "metadata": {
  "kernelspec": {
   "display_name": "Python 3.8.10 64-bit",
   "language": "python",
   "name": "python3"
  },
  "language_info": {
   "codemirror_mode": {
    "name": "ipython",
    "version": 3
   },
   "file_extension": ".py",
   "mimetype": "text/x-python",
   "name": "python",
   "nbconvert_exporter": "python",
   "pygments_lexer": "ipython3",
   "version": "3.8.10"
  },
  "orig_nbformat": 4,
  "vscode": {
   "interpreter": {
    "hash": "916dbcbb3f70747c44a77c7bcd40155683ae19c65e1c03b4aa3499c5328201f1"
   }
  }
 },
 "nbformat": 4,
 "nbformat_minor": 2
}
