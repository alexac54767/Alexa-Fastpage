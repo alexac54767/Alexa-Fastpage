{
 "cells": [
  {
   "cell_type": "markdown",
   "metadata": {},
   "source": [
    "# Week 2 Student Lessons\n",
    "> A collection of all my hacks and learnings from week two of student lessons.\n",
    "\n",
    "- toc: false\n",
    "- comments: true\n",
    "- permalink: /studentlessons/weektwo\n",
    "- image: /images/thumbsup.jpg\n",
    "- categories: [week 15]"
   ]
  },
  {
   "cell_type": "markdown",
   "metadata": {},
   "source": [
    "## 3.5-3.7 Student Lesson (group 3)"
   ]
  },
  {
   "cell_type": "markdown",
   "metadata": {},
   "source": [
    "## What is a boolean?\n",
    "- <mark>boolean</mark> = a denoting a system of algebraic notation used to represent logical propositions, especially in computing and electronics.\n",
    "- simple terms: determines if something is true or false\n",
    "- used in binary (0 = false and 1 = true)"
   ]
  },
  {
   "cell_type": "code",
   "execution_count": 1,
   "metadata": {},
   "outputs": [
    {
     "name": "stdout",
     "output_type": "stream",
     "text": [
      "True\n"
     ]
    }
   ],
   "source": [
    "# example of a boolean\n",
    "score = 3\n",
    "i = score\n",
    "if i == 3:\n",
    "    print(\"True\") # either is true or false\n",
    "else:\n",
    "    print(\"False\")"
   ]
  },
  {
   "cell_type": "markdown",
   "metadata": {},
   "source": [
    "### Hack 1: 3.5\n",
    "[x] Explain in your own words what each logical operator does\n",
    "[x] Code your own scenario that makes sense for each logical operator\n",
    "\n",
    "\n",
    "- <mark>NOT</mark>: The NOT logical operator returns the opposite condtion of the data\n",
    "- <mark>AND</mark>: The AND logical operator determines if 2 conditions are met\n",
    "- <mark>OR</mark>: The OR logical operator determines if 1 of the conditions are met"
   ]
  },
  {
   "cell_type": "code",
   "execution_count": null,
   "metadata": {},
   "outputs": [],
   "source": [
    "# Scenario for NOT logical operator\n",
    "ispassing = False\n",
    "isstudentpassing = not(ispassing)\n",
    "print(isstudentpassing)"
   ]
  },
  {
   "cell_type": "code",
   "execution_count": null,
   "metadata": {},
   "outputs": [],
   "source": [
    "# Scenario for AND logical operator\n",
    "temp = input(\"what is the temperature today?\")\n",
    "if int(temp) >= 40 and int(temp) <= 70:\n",
    "    print(\"Bring a hoodie!\")\n",
    "if int(temp) < 40:\n",
    "    print(\"bring snow gear!\")\n",
    "if int(temp) > 70:\n",
    "    print(\"No jacket today!\")"
   ]
  },
  {
   "cell_type": "code",
   "execution_count": null,
   "metadata": {},
   "outputs": [],
   "source": [
    "# Scenario for OR logical operator\n",
    "APscore = 4\n",
    "Finalscore = 68\n",
    "if APscore >= 3 or Finalscore >= 75:\n",
    "    print(\"student passed this class\")\n",
    "else:\n",
    "    print(\"student did not pass this class\")"
   ]
  },
  {
   "cell_type": "markdown",
   "metadata": {},
   "source": [
    "### Notes\n",
    "- <mark>Selection</mark>: specific block of code that will execute (depending on  algorithm condition returning true or false)\n",
    "- <mark>Algorithm</mark>: finite set of instructions that accomplish a specific task\n",
    "- <mark>Conditional Statement / If-Statement</mark>: statement that affects the sequence of control by executing certain statements depending on the value of a boolean (true or false)\n",
    "- <mark>Conditionals</mark> allow for the expression of algorithms that utilize selection without a programming language\n",
    "    - \"In which the code in block of statements is executed if the Boolean expression condition evaluates to true; no action is taken if condition evaluates to false\""
   ]
  },
  {
   "cell_type": "markdown",
   "metadata": {},
   "source": [
    "### Conditionals are ues in many languages\n",
    "- here is an example of one in Javascript:"
   ]
  },
  {
   "cell_type": "code",
   "execution_count": null,
   "metadata": {
    "vscode": {
     "languageId": "javascript"
    }
   },
   "outputs": [],
   "source": [
    "if (30 == 7) {\n",
    "    console.log(\"The condition is true\")\n",
    "}\n",
    "else if (30 != 7) {\n",
    "    console.log(\"The condition is false\")\n",
    "}"
   ]
  },
  {
   "cell_type": "markdown",
   "metadata": {},
   "source": [
    "### Hack 2: 3.6\n",
    "[x] Level I: Vowel Count\n",
    "Return the number (count) of vowels in the given string. We will consider a, e, i, o, u as vowels for this challenge (but not y). The input string will only consist of lower case letters and/or spaces.\n",
    "\n",
    "Hint: If you use a lot of if-statements and there are more than one outcome, that is to be expected. If not, don't panic, just keep trying.\n",
    "\n",
    "\n",
    "[x] Level III: Mutliples of 3 or 5\n",
    "If we list all the natural numbers below 10 that are multiples of 3 or 5, we get 3, 5, 6 and 9. The sum of these multiples is 23.\n",
    "\n",
    "Finish the solution so that it returns the sum of all the multiples of 3 or 5 below the number passed in. Additionally, if the number is negative, return 0 (for languages that do have them).\n",
    "\n",
    "Note: If the number is a multiple of both 3 and 5, only count it once.\n",
    "\n",
    "Hint: What do you know about for loops? Since your code incorporates a list of numbers from 1 to the max number, can you use for loops along with conditionals?\n",
    "\n",
    "[x] binary conditional logic\n",
    "[x] define key terms"
   ]
  },
  {
   "cell_type": "markdown",
   "metadata": {},
   "source": [
    "### Defining Key Terms:\n",
    "- <mark>Boolean</mark>: a boolean is an operator that determines if a condition is true or false\n",
    "- <mark>Selection</mark>: When an algorithm must make a decision (if a condition is met)\n",
    "- <mark>AND</mark>: AND is a logical operator that determines of 2 conditions are both met\n",
    "- <mark>OR</mark>: OR is a logical operator that determines if 1 of 2 conditions is met\n",
    "- <mark>NOT</mark>: NOT is a logical operator that displays the oposition condition of the data\n"
   ]
  },
  {
   "cell_type": "code",
   "execution_count": null,
   "metadata": {},
   "outputs": [],
   "source": [
    "# Binary Conditional Logic Code\n",
    "gpa = 4.0\n",
    "extracirriculars = \"present\"\n",
    "if gpa >= 4.0 and extracirriculars == \"present\":\n",
    "    major = input(\"What is your major\")\n",
    "    if major == \"math\" or major == \"science\":\n",
    "        print(\"You have been accepted into our STEM program!\")\n",
    "    elif major == \"english\" or major == \"history\":\n",
    "        print(\"You have been accepted into our arts program!\")\n",
    "    else:\n",
    "        print(\"You have been accepted into our \" + major + \" program!\")\n",
    "else:\n",
    "    print(\"I'm sorry, you are not accepted to this program\")\n"
   ]
  },
  {
   "cell_type": "code",
   "execution_count": null,
   "metadata": {},
   "outputs": [],
   "source": [
    "# My first attempt at the challenge level 1\n",
    "# my first attempt at the Level 1 Challenge < better to not use the contians function\n",
    "# also needs to iterate through to check every character (what if there are multiple of each vowel?)\n",
    "word=input(\"Input a word to check how many vowels it has. \")\n",
    "i == 0 #number of vowels\n",
    "if word.__contains__(\"a\"):\n",
    "    i =+ 1\n",
    "if word.__contains__(\"e\"):\n",
    "    i =+ 1\n",
    "if word.__contains__(\"i\"):\n",
    "    i =+ 1\n",
    "if word.__contains__(\"o\"):\n",
    "    i =+ 1\n",
    "if word.__contains__(\"u\"):\n",
    "    i =+ 1\n",
    "\n",
    "if i == 0:\n",
    "    print(\"this word has no vowels\")\n",
    "else:\n",
    "    print(i)"
   ]
  },
  {
   "cell_type": "code",
   "execution_count": null,
   "metadata": {},
   "outputs": [],
   "source": [
    "# Challenge Level 1 (final attempt)\n",
    "input_string = input(\"Input a string to check how many vowels it has. \")\n",
    "vowelcount = 0\n",
    "for character in input_string: #iterates through the string character by character\n",
    "    if character == \"a\":\n",
    "        vowelcount += 1\n",
    "    elif character == \"e\":\n",
    "        vowelcount += 1\n",
    "    elif character == \"i\":\n",
    "        vowelcount += 1\n",
    "    elif character == \"o\":\n",
    "        vowelcount += 1\n",
    "    elif character == \"u\":\n",
    "        vowelcount += 1\n",
    "print(vowelcount)"
   ]
  },
  {
   "cell_type": "code",
   "execution_count": null,
   "metadata": {},
   "outputs": [],
   "source": [
    "# Level 3 challenge\n",
    "numberstring = input(\"Input a number to find the sum of all the multiples of 3 or 5 below it. \")\n",
    "numbertocheck = int(numberstring)\n",
    "totalmultiples = 0\n",
    "if numbertocheck >= 0: # if the number is negative it will display the sum as 0\n",
    "    for n in range(numbertocheck+1):\n",
    "        if n/3 == int(n/3): #checks for multiples of 3\n",
    "            print(str(n) + \" is a multiple of 3\")\n",
    "            totalmultiples += n    #elif prevents duplicates of numbers with both multiples of 3 and 5\n",
    "        elif n/5 == int(n/5): # checks for multiples of 5\n",
    "            print(str(n) + \" is a multiple of 5\")\n",
    "            totalmultiples += n\n",
    "print(totalmultiples)\n"
   ]
  },
  {
   "cell_type": "markdown",
   "metadata": {},
   "source": [
    "### Hack 3\n",
    "\n",
    "[x] For the first hack, pretend you are a school's test grader. Create an array with integers, each integer representing one score from a student's taken tests. If the average of the student's test scores are at least 75 percent, then display that the student is elligible for credit, and if not, display that the student must retake the tests over break. \n",
    "[x] The second hack is more number-oriented. Create an algorithm that calculates the sum of two numbers, then determines whether the sum is greater than or less than 100.\n",
    "[x] The hacks above was heavily derived from CollegeBoard. As a computer science student, you should be able to create an algorithm utilizing conditionals. Try something number-oriented if you get stuck. Creativity gets points."
   ]
  },
  {
   "cell_type": "code",
   "execution_count": null,
   "metadata": {},
   "outputs": [],
   "source": [
    "# Hack 3 #1\n",
    "def average(lst):\n",
    "    return sum(lst)/len(lst)\n",
    "\n",
    "gradelist = [92, 83, 90, 74, 86, 97]\n",
    "averagegrade = average(gradelist)\n",
    "\n",
    "print(str(averagegrade) + \" is the student's grade average\")\n",
    "\n",
    "if averagegrade >= 75:\n",
    "    print(\"student is eligible for credit\")\n",
    "else:\n",
    "    print(\"student needs to retake tests during break\")"
   ]
  },
  {
   "cell_type": "code",
   "execution_count": null,
   "metadata": {},
   "outputs": [],
   "source": [
    "# Hack 3 #2\n",
    "num1 = input(\"What is your first number?\")\n",
    "num2 = input(\"What is your second number?\")\n",
    "sumofnumbers = int(num1) + int(num2)\n",
    "if sumofnumbers >= 100:\n",
    "    print(str(sumofnumbers) + \" is greater than or equal to 100\")\n",
    "else:\n",
    "     print(str(sumofnumbers) + \" is less than than 100\")\n"
   ]
  },
  {
   "cell_type": "code",
   "execution_count": null,
   "metadata": {},
   "outputs": [],
   "source": [
    "# Hack 3 #3\n",
    "# to test if a show is included in Netflix, and if it is recommended\n",
    "showdictionary = {\n",
    "    'Wednesday':5,  # key=title name and value=rating out of 5 stars\n",
    "    'You':3, \n",
    "    'Knight Before Christmas':4, \n",
    "    'Red Notice':5,\n",
    "    'Truth or Dare':1\n",
    "}\n",
    "show = input(\"What show are you looking for?\")\n",
    "if show in showdictionary.keys():\n",
    "    print(show + \" is available on Netflix\")\n",
    "    if showdictionary[show] >= 3:\n",
    "         print(\"show/movie is recommended\")\n",
    "    else:\n",
    "        print(\"show is not recommended\")\n",
    "else:\n",
    "    print(show + \" is not available on Netflix\")"
   ]
  },
  {
   "cell_type": "markdown",
   "metadata": {},
   "source": [
    "## Nested Conditions\n",
    "- conditional statements within conditional statements\n",
    "- called \"nested\" within another\n",
    "- else if inside of another ese if"
   ]
  },
  {
   "cell_type": "markdown",
   "metadata": {},
   "source": [
    "## Hack 4\n",
    "[x] Create 3 differnt flow charts representing nested statements and transfer them into code.\n",
    "[] Create a piece of code that displays four statements instead of three. Try to do more if you can.\n",
    "[x] Make piece of code that gives three different recommandations for possible classes to take at a school based on two different condtions. These conditions could be if the student likes STEM or not."
   ]
  },
  {
   "cell_type": "code",
   "execution_count": null,
   "metadata": {},
   "outputs": [],
   "source": [
    "# Hack 4 #2 Class recommendations\n",
    "STEM = input(\"Are you intrested in STEM? Y or N\")\n",
    "if STEM == \"Y\":\n",
    "    subject = input(\"Do you like math or science better?\")\n",
    "    if subject == \"math\":\n",
    "        print(\"Class recommendations: Advanced Function Analysis, AP Calculus AB, AP Calculus BC, AP Statistics\")\n",
    "    if subject == \"science\":\n",
    "        print(\"Class recommendations: Chemistry, Physics, AP Enviornmental Science, AP Physics, AP Chemistry\")\n",
    "else:\n",
    "    language = input(\"Are you intrested in language? Y or N\")\n",
    "    if language == \"Y\":\n",
    "        lansubject = input(\"Do you prefer a foreign language or English?\")\n",
    "        if lansubject == \"foreign language\":\n",
    "            print(\"Class recommendations: Spanish, Mandarin, AP Spanish, AP Mandarin\")\n",
    "        if lansubject == \"English\":\n",
    "            print(\"Class recommendations: American Literature, AP English Literature\")\n",
    "    if language == \"N\":\n",
    "        print(\"See class list for more options!\")"
   ]
  },
  {
   "cell_type": "markdown",
   "metadata": {},
   "source": [
    "### Flowchart #1: Is it cold?"
   ]
  },
  {
   "cell_type": "code",
   "execution_count": null,
   "metadata": {},
   "outputs": [],
   "source": [
    "# FLowchart #1 code\n",
    "temp = input(\"what is the temperature today?\")\n",
    "if int(temp) <= 73:\n",
    "    print(\"It is cold!\")\n",
    "    if int(temp) <= 40:\n",
    "        print(\"Bring a snow jacket!\")\n",
    "    else:\n",
    "        print(\"Bring a hoodie!\")\n",
    "else:\n",
    "    print(\"It's warm today! Don't bring a jacket :)\")"
   ]
  },
  {
   "cell_type": "markdown",
   "metadata": {},
   "source": [
    "### Flowchart #2: Is the class difficult?"
   ]
  },
  {
   "cell_type": "code",
   "execution_count": null,
   "metadata": {},
   "outputs": [],
   "source": [
    "# Flowchart #2 code\n",
    "passingrate = 72\n",
    "testaverage = 82\n",
    "if passingrate > 70 and passingrate <= 100:\n",
    "    if testaverage >= 80:\n",
    "        print(\"This class is not difficult\")\n",
    "    else:\n",
    "        print(\"this class is difficult\")\n",
    "else:\n",
    "    print(\"this class is difficult\")"
   ]
  },
  {
   "cell_type": "markdown",
   "metadata": {},
   "source": [
    "### Flowchart #3: Should Alexa work at school during first period off roll?"
   ]
  },
  {
   "cell_type": "code",
   "execution_count": null,
   "metadata": {},
   "outputs": [],
   "source": [
    "# Flowchart #3 code\n",
    "feeling = input(\"Are you tired today?\")\n",
    "if feeling == \"yes\":\n",
    "    print(\"Stay home and sleep\")\n",
    "if feeling == \"no\":\n",
    "    homework = input(\"Do you have homework to do?\")\n",
    "    if homework == \"yes\":\n",
    "        print(\"Go to school\")\n",
    "    else:\n",
    "        print(\"Stay home and sleep\")"
   ]
  },
  {
   "cell_type": "code",
   "execution_count": null,
   "metadata": {},
   "outputs": [],
   "source": [
    "# displaying 4 statements\n",
    "drinkable = \"potable\"\n",
    "temperature = \"warm\"\n",
    "if drinkable == \"potable\":\n",
    "    print(\"water is potable\")\n",
    "    if temperature == \"cold\":\n",
    "        print(\"water is \" + str(temperature)) \n",
    "        print(\"water is in ideal condition\")\n",
    "        print(\"drink up!\")\n",
    "    else:\n",
    "        print(\"water is \" + str(temperature)) \n",
    "        print(\"water is not in ideal condition\")\n",
    "        print(\"chill with ice\")\n",
    "else:\n",
    "    print(\"do not drink, water is not potable\")"
   ]
  },
  {
   "cell_type": "markdown",
   "metadata": {},
   "source": [
    "## 3.8-3.10 Student Lesson (group 4)"
   ]
  },
  {
   "cell_type": "markdown",
   "metadata": {},
   "source": [
    "### **Hacks** Unit 3 Section 3.8.1 \n",
    "1. Define an Iteration\n",
    "2. Make your own example of an iteration with at least 4 steps and a stopping condition(Similar to mine that I did)\n",
    "3. Program a simple iteration."
   ]
  },
  {
   "cell_type": "markdown",
   "metadata": {},
   "source": [
    "- Iteration: loop that continues repeating until condition is met\n",
    "- Example of iteration with stopping condition:\n",
    "    - I am doing an easter egg hunt and trying to frind the golden egg. I have split the searching area into sections\n",
    "    1. I walk to a section\n",
    "    2. I look aroung to try and find the golden egg\n",
    "    3. If it is not there, I add one to the section number (move onto next section)\n",
    "    4. I repeat steps 1 through 4\n",
    "    5. Once I find the egg, I stop searching to go brag to the kids\n",
    "\n"
   ]
  },
  {
   "cell_type": "code",
   "execution_count": null,
   "metadata": {},
   "outputs": [],
   "source": [
    "# hack #3 program simple iteration\n",
    "hourshomework = 0\n",
    "while hourshomework < 8:\n",
    "    print(\"Too easy\")\n",
    "    hourshomework += 1\n",
    "    if hourshomework == 6:\n",
    "        break\n"
   ]
  },
  {
   "cell_type": "markdown",
   "metadata": {},
   "source": [
    "### **Hacks** Unit 3 Section 3.8.2\n",
    "1. What is an iteration statement, in your own words?\n",
    "2. Create a descending list of numbers using for loop\n",
    "3. Using while loop, make a list of numbers which will form an output of 3,16,29,42,55,68,81"
   ]
  },
  {
   "cell_type": "markdown",
   "metadata": {},
   "source": [
    "- Iteration statement: a condition that must be met in a loop or it will continue repeating"
   ]
  },
  {
   "cell_type": "code",
   "execution_count": null,
   "metadata": {},
   "outputs": [],
   "source": [
    "# 2. For loop decending numbers\n",
    "numlist = [50]\n",
    "for i in numlist:\n",
    "    i -= 1\n",
    "    numlist.append(i)\n",
    "    if i == 0:\n",
    "        break\n",
    "print(numlist)"
   ]
  },
  {
   "cell_type": "code",
   "execution_count": null,
   "metadata": {},
   "outputs": [],
   "source": [
    "# 3. While loop with output of 3, 16, 29, 42, 55, 68, 81\n",
    "i = 3\n",
    "print(i)\n",
    "while i <= 68:\n",
    "    i += 13\n",
    "    print(i)"
   ]
  },
  {
   "cell_type": "markdown",
   "metadata": {},
   "source": [
    "### Find the lowest value in a list \n",
    "- Use the list made bellow\n",
    "- Make a variable to hold the minimum and set it to potential minimum value\n",
    "- Loop\n",
    "- Check each element to see if it is less than the minimum variable\n",
    "- If the element is less than the minimum variable, update the minimum\n",
    "- After all the elements of the list have been checked, display the minimum value"
   ]
  },
  {
   "cell_type": "code",
   "execution_count": null,
   "metadata": {},
   "outputs": [],
   "source": [
    "# For loop to find minimum value in list\n",
    "nums = [\"10\", \"15\", \"20\", \"25\", \"30\", \"35\"]\n",
    "min = 20\n",
    "for n in nums:\n",
    "    if int(n) < int(min):\n",
    "        min = n\n",
    "print(min)"
   ]
  },
  {
   "cell_type": "code",
   "execution_count": null,
   "metadata": {},
   "outputs": [],
   "source": [
    "import getpass, sys\n",
    "import random\n",
    "\n",
    "def ask_question (question, answer):\n",
    "\n",
    "    print(question)\n",
    "    ans = input(question)\n",
    "    print(ans)\n",
    "   \n",
    "    if ans == answer:\n",
    "        print(\"Correct!\")\n",
    "        return 1\n",
    "\n",
    "    else:\n",
    "        print(\"Wrong\")\n",
    "        return 0\n",
    "\n",
    "question_list = [\"What allows a value to be inserted into a list at index i?\" , \"What allows an element at index i to be deleted from a list?\" , \"What returns the number of elements currently in a specific list?\" , \"What allows a value to be added at the end of a list?\"]\n",
    "answer_list = [\"index()\", \"remove()\", \"length()\" , \"append()\"]\n",
    "\n",
    "# Set points to 0 at the start of the quiz\n",
    "points = 0\n",
    "\n",
    "# If the length of the quiz is greater than 0, then random questions will be chosen from the \"question_list\" set\n",
    "while len(question_list) > 0:\n",
    "    index = random.randint(0, len(question_list) - 1)\n",
    "    \n",
    "# The points system where a point is rewarded for each correct answer    \n",
    "    points = points + ask_question(question_list[index], answer_list[index])\n",
    "    \n",
    "# If a question or answer has already been used, then it shall be deleted    \n",
    "    del question_list[index]\n",
    "    del answer_list[index]\n",
    "\n",
    "# Calculating score using the points system and dividing it by the total number of questions (6)\n",
    "score = (points / 4)\n",
    "\n",
    "# Calculating the percentage of correct answers by multiplying the score by 100\n",
    "percent = (score * 100)\n",
    "\n",
    "# Printing the percentage, and formatting the percentage in a way where two decimals can be shown (through \"{:.2f}\")\n",
    "print(\"{:.2f}\".format(percent) + \"%\")\n",
    "\n",
    "# Adding final remarks based upon the users given scores\n",
    "if points >= 5:\n",
    "         print(\"Your total score is: \", points, \"out of 4. Amazing job!\")\n",
    "\n",
    "elif points == 4:\n",
    "         print(\"Your total score is: \", points, \"out of 4. Not too bad, keep on studying! \" )\n",
    "\n",
    "else:\n",
    "         print(\"Your total score is: \", points, \"out of 4. Its alright, better luck next time!\")\n"
   ]
  },
  {
   "cell_type": "code",
   "execution_count": null,
   "metadata": {},
   "outputs": [],
   "source": [
    "# Extra!\n",
    "monthly_earnings = []\n",
    "\n",
    "a = 0\n",
    "while a == 0:\n",
    "    money = input(\"How much money did you make this month?\")\n",
    "    if money == \"\":\n",
    "        break\n",
    "    monthly_earnings.append(int(money))\n",
    "\n",
    "sort = input(\"Do you want to sort your earnings?\")\n",
    "\n",
    "if sort == \"yes\":\n",
    "    print(\"sorted:\")\n",
    "    print(sorted(monthly_earnings))\n",
    "else:\n",
    "    print(\"unsorted:\")\n",
    "    print(monthly_earnings)\n",
    "print(\"Your highest monthly earning is $\" + str(max(monthly_earnings)))\n",
    "print(\"You have been working for \" + str(len(monthly_earnings)) + \" months\")"
   ]
  }
 ],
 "metadata": {
  "kernelspec": {
   "display_name": "Python 3.8.10 64-bit",
   "language": "python",
   "name": "python3"
  },
  "language_info": {
   "codemirror_mode": {
    "name": "ipython",
    "version": 3
   },
   "file_extension": ".py",
   "mimetype": "text/x-python",
   "name": "python",
   "nbconvert_exporter": "python",
   "pygments_lexer": "ipython3",
   "version": "3.8.10"
  },
  "orig_nbformat": 4,
  "vscode": {
   "interpreter": {
    "hash": "916dbcbb3f70747c44a77c7bcd40155683ae19c65e1c03b4aa3499c5328201f1"
   }
  }
 },
 "nbformat": 4,
 "nbformat_minor": 2
}
