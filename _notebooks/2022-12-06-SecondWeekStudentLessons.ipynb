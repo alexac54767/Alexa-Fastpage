{
 "cells": [
  {
   "cell_type": "markdown",
   "metadata": {},
   "source": [
    "# Week 2 Student Lessons\n",
    "> A collection of all my hacks and learnings from week two of student lessons.\n",
    "\n",
    "- toc: false\n",
    "- comments: true\n",
    "- permalink: /studentlessons/weektwo\n",
    "- image: /images/thumbsup.jpg\n",
    "- categories: [week 15]"
   ]
  },
  {
   "cell_type": "markdown",
   "metadata": {},
   "source": [
    "## 3.5-3.7 Student Lesson (group 3)"
   ]
  },
  {
   "cell_type": "markdown",
   "metadata": {},
   "source": [
    "## What is a boolean?\n",
    "- <mark>boolean</mark> = a denoting a system of algebraic notation used to represent logical propositions, especially in computing and electronics.\n",
    "- simple terms: determines if something is true or false\n",
    "- used in binary (0 = false and 1 = true)"
   ]
  },
  {
   "cell_type": "code",
   "execution_count": 1,
   "metadata": {},
   "outputs": [
    {
     "name": "stdout",
     "output_type": "stream",
     "text": [
      "True\n"
     ]
    }
   ],
   "source": [
    "# example of a boolean\n",
    "score = 3\n",
    "i = score\n",
    "if i == 3:\n",
    "    print(\"True\") # either is true or false\n",
    "else:\n",
    "    print(\"False\")"
   ]
  },
  {
   "cell_type": "markdown",
   "metadata": {},
   "source": [
    "### Hack 1: 3.5\n",
    "[x] Explain in your own words what each logical operator does\n",
    "[x] Code your own scenario that makes sense for each logical operator\n",
    "\n",
    "\n",
    "- <mark>NOT</mark>: The NOT logical operator returns the opposite condtion of the data\n",
    "- <mark>AND</mark>: The AND logical operator determines if 2 conditions are met\n",
    "- <mark>OR</mark>: The OR logical operator determines if 1 of the conditions are met"
   ]
  },
  {
   "cell_type": "code",
   "execution_count": null,
   "metadata": {},
   "outputs": [],
   "source": [
    "# Scenario for NOT logical operator\n",
    "ispassing = False\n",
    "isstudentpassing = not(ispassing)\n",
    "print(isstudentpassing)"
   ]
  },
  {
   "cell_type": "code",
   "execution_count": 1,
   "metadata": {},
   "outputs": [
    {
     "name": "stdout",
     "output_type": "stream",
     "text": [
      "Bring a hoodie!\n"
     ]
    }
   ],
   "source": [
    "# Scenario for AND logical operator\n",
    "temp = input(\"what is the temperature today?\")\n",
    "if int(temp) >= 40 and int(temp) <= 70:\n",
    "    print(\"Bring a hoodie!\")\n",
    "if int(temp) < 40:\n",
    "    print(\"bring snow gear!\")\n",
    "if int(temp) > 70:\n",
    "    print(\"No jacket today!\")"
   ]
  },
  {
   "cell_type": "code",
   "execution_count": 2,
   "metadata": {},
   "outputs": [
    {
     "name": "stdout",
     "output_type": "stream",
     "text": [
      "student passed this class\n"
     ]
    }
   ],
   "source": [
    "# Scenario for OR logical operator\n",
    "APscore = 4\n",
    "Finalscore = 68\n",
    "if APscore >= 3 or Finalscore >= 75:\n",
    "    print(\"student passed this class\")\n",
    "else:\n",
    "    print(\"student did not pass this class\")"
   ]
  },
  {
   "cell_type": "markdown",
   "metadata": {},
   "source": [
    "### Notes\n",
    "- <mark>Selection</mark>: specific block of code that will execute (depending on  algorithm condition returning true or false)\n",
    "- <mark>Algorithm</mark>: finite set of instructions that accomplish a specific task\n",
    "- <mark>Conditional Statement / If-Statement</mark>: statement that affects the sequence of control by executing certain statements depending on the value of a boolean (true or false)\n",
    "- <mark>Conditionals</mark> allow for the expression of algorithms that utilize selection without a programming language\n",
    "    - \"In which the code in block of statements is executed if the Boolean expression condition evaluates to true; no action is taken if condition evaluates to false\""
   ]
  },
  {
   "cell_type": "markdown",
   "metadata": {},
   "source": [
    "### Conditionals are ues in many languages\n",
    "- here is an example of one in Javascript:"
   ]
  },
  {
   "cell_type": "code",
   "execution_count": null,
   "metadata": {
    "vscode": {
     "languageId": "javascript"
    }
   },
   "outputs": [],
   "source": [
    "if (30 == 7) {\n",
    "    console.log(\"The condition is true\")\n",
    "}\n",
    "else if (30 != 7) {\n",
    "    console.log(\"The condition is false\")\n",
    "}"
   ]
  },
  {
   "cell_type": "markdown",
   "metadata": {},
   "source": [
    "### Hack 2: 3.6\n",
    "[x] Level I: Vowel Count\n",
    "Return the number (count) of vowels in the given string. We will consider a, e, i, o, u as vowels for this challenge (but not y). The input string will only consist of lower case letters and/or spaces.\n",
    "\n",
    "Hint: If you use a lot of if-statements and there are more than one outcome, that is to be expected. If not, don't panic, just keep trying.\n",
    "\n",
    "\n",
    "[x] Level III: Mutliples of 3 or 5\n",
    "If we list all the natural numbers below 10 that are multiples of 3 or 5, we get 3, 5, 6 and 9. The sum of these multiples is 23.\n",
    "\n",
    "Finish the solution so that it returns the sum of all the multiples of 3 or 5 below the number passed in. Additionally, if the number is negative, return 0 (for languages that do have them).\n",
    "\n",
    "Note: If the number is a multiple of both 3 and 5, only count it once.\n",
    "\n",
    "Hint: What do you know about for loops? Since your code incorporates a list of numbers from 1 to the max number, can you use for loops along with conditionals?\n",
    "\n",
    "[x] binary conditional logic\n",
    "[x] define key terms"
   ]
  },
  {
   "cell_type": "markdown",
   "metadata": {},
   "source": [
    "### Defining Key Terms:\n",
    "- <mark>Boolean</mark>: a boolean is an operator that determines if a condition is true or false\n",
    "- <mark>Selection</mark>: When an algorithm must make a decision (if a condition is met)\n",
    "- <mark>AND</mark>: AND is a logical operator that determines of 2 conditions are both met\n",
    "- <mark>OR</mark>: OR is a logical operator that determines if 1 of 2 conditions is met\n",
    "- <mark>NOT</mark>: NOT is a logical operator that displays the oposition condition of the data\n"
   ]
  },
  {
   "cell_type": "code",
   "execution_count": 3,
   "metadata": {},
   "outputs": [
    {
     "name": "stdout",
     "output_type": "stream",
     "text": [
      "You have been accepted into our STEM program!\n"
     ]
    }
   ],
   "source": [
    "# Binary Conditional Logic Code\n",
    "gpa = 4.0\n",
    "extracirriculars = \"present\"\n",
    "if gpa >= 4.0 and extracirriculars == \"present\":\n",
    "    major = input(\"What is your major\")\n",
    "    if major == \"math\" or major == \"science\":\n",
    "        print(\"You have been accepted into our STEM program!\")\n",
    "    elif major == \"english\" or major == \"history\":\n",
    "        print(\"You have been accepted into our arts program!\")\n",
    "    else:\n",
    "        print(\"You have been accepted into our \" + major + \" program!\")\n",
    "else:\n",
    "    print(\"I'm sorry, you are not accepted to this program\")\n"
   ]
  },
  {
   "cell_type": "code",
   "execution_count": null,
   "metadata": {},
   "outputs": [],
   "source": [
    "# My first attempt at the challenge level 1\n",
    "# my first attempt at the Level 1 Challenge < better to not use the contians function\n",
    "# also needs to iterate through to check every character (what if there are multiple of each vowel?)\n",
    "word=input(\"Input a word to check how many vowels it has. \")\n",
    "i == 0 #number of vowels\n",
    "if word.__contains__(\"a\"):\n",
    "    i =+ 1\n",
    "if word.__contains__(\"e\"):\n",
    "    i =+ 1\n",
    "if word.__contains__(\"i\"):\n",
    "    i =+ 1\n",
    "if word.__contains__(\"o\"):\n",
    "    i =+ 1\n",
    "if word.__contains__(\"u\"):\n",
    "    i =+ 1\n",
    "\n",
    "if i == 0:\n",
    "    print(\"this word has no vowels\")\n",
    "else:\n",
    "    print(i)"
   ]
  },
  {
   "cell_type": "code",
   "execution_count": 4,
   "metadata": {},
   "outputs": [
    {
     "name": "stdout",
     "output_type": "stream",
     "text": [
      "4\n"
     ]
    }
   ],
   "source": [
    "# Challenge Level 1 (final attempt)\n",
    "input_string = input(\"Input a string to check how many vowels it has. \")\n",
    "vowelcount = 0\n",
    "for character in input_string: #iterates through the string character by character\n",
    "    if character == \"a\":\n",
    "        vowelcount += 1\n",
    "    elif character == \"e\":\n",
    "        vowelcount += 1\n",
    "    elif character == \"i\":\n",
    "        vowelcount += 1\n",
    "    elif character == \"o\":\n",
    "        vowelcount += 1\n",
    "    elif character == \"u\":\n",
    "        vowelcount += 1\n",
    "print(vowelcount)"
   ]
  },
  {
   "cell_type": "code",
   "execution_count": 5,
   "metadata": {},
   "outputs": [
    {
     "name": "stdout",
     "output_type": "stream",
     "text": [
      "0 is a multiple of 3\n",
      "3 is a multiple of 3\n",
      "5 is a multiple of 5\n",
      "6 is a multiple of 3\n",
      "9 is a multiple of 3\n",
      "10 is a multiple of 5\n",
      "12 is a multiple of 3\n",
      "15 is a multiple of 3\n",
      "60\n"
     ]
    }
   ],
   "source": [
    "# Level 3 challenge\n",
    "numberstring = input(\"Input a number to find the sum of all the multiples of 3 or 5 below it. \")\n",
    "numbertocheck = int(numberstring)\n",
    "totalmultiples = 0\n",
    "if numbertocheck >= 0: # if the number is negative it will display the sum as 0\n",
    "    for n in range(numbertocheck+1):\n",
    "        if n/3 == int(n/3): #checks for multiples of 3\n",
    "            print(str(n) + \" is a multiple of 3\")\n",
    "            totalmultiples += n    #elif prevents duplicates of numbers with both multiples of 3 and 5\n",
    "        elif n/5 == int(n/5): # checks for multiples of 5\n",
    "            print(str(n) + \" is a multiple of 5\")\n",
    "            totalmultiples += n\n",
    "print(totalmultiples)\n"
   ]
  },
  {
   "cell_type": "markdown",
   "metadata": {},
   "source": [
    "### Hack 3\n",
    "\n",
    "[x] For the first hack, pretend you are a school's test grader. Create an array with integers, each integer representing one score from a student's taken tests. If the average of the student's test scores are at least 75 percent, then display that the student is elligible for credit, and if not, display that the student must retake the tests over break. \n",
    "[x] The second hack is more number-oriented. Create an algorithm that calculates the sum of two numbers, then determines whether the sum is greater than or less than 100.\n",
    "[x] The hacks above was heavily derived from CollegeBoard. As a computer science student, you should be able to create an algorithm utilizing conditionals. Try something number-oriented if you get stuck. Creativity gets points."
   ]
  },
  {
   "cell_type": "code",
   "execution_count": 6,
   "metadata": {},
   "outputs": [
    {
     "name": "stdout",
     "output_type": "stream",
     "text": [
      "87.0 is the student's grade average\n",
      "student is eligible for credit\n"
     ]
    }
   ],
   "source": [
    "# Hack 3 #1\n",
    "def average(lst):\n",
    "    return sum(lst)/len(lst)\n",
    "\n",
    "gradelist = [92, 83, 90, 74, 86, 97]\n",
    "averagegrade = average(gradelist)\n",
    "\n",
    "print(str(averagegrade) + \" is the student's grade average\")\n",
    "\n",
    "if averagegrade >= 75:\n",
    "    print(\"student is eligible for credit\")\n",
    "else:\n",
    "    print(\"student needs to retake tests during break\")"
   ]
  },
  {
   "cell_type": "code",
   "execution_count": 7,
   "metadata": {},
   "outputs": [
    {
     "name": "stdout",
     "output_type": "stream",
     "text": [
      "7 is less than than 100\n"
     ]
    }
   ],
   "source": [
    "# Hack 3 #2\n",
    "num1 = input(\"What is your first number?\")\n",
    "num2 = input(\"What is your second number?\")\n",
    "sumofnumbers = int(num1) + int(num2)\n",
    "if sumofnumbers >= 100:\n",
    "    print(str(sumofnumbers) + \" is greater than or equal to 100\")\n",
    "else:\n",
    "     print(str(sumofnumbers) + \" is less than than 100\")\n"
   ]
  },
  {
   "cell_type": "code",
   "execution_count": 8,
   "metadata": {},
   "outputs": [
    {
     "name": "stdout",
     "output_type": "stream",
     "text": [
      "You is available on Netflix\n",
      "show/movie is recommended\n"
     ]
    }
   ],
   "source": [
    "# Hack 3 #3\n",
    "# to test if a show is included in Netflix, and if it is recommended\n",
    "showdictionary = {\n",
    "    'Wednesday':5,  # key=title name and value=rating out of 5 stars\n",
    "    'You':3, \n",
    "    'Knight Before Christmas':4, \n",
    "    'Red Notice':5,\n",
    "    'Truth or Dare':1\n",
    "}\n",
    "show = input(\"What show are you looking for?\")\n",
    "if show in showdictionary.keys():\n",
    "    print(show + \" is available on Netflix\")\n",
    "    if showdictionary[show] >= 3:\n",
    "         print(\"show/movie is recommended\")\n",
    "    else:\n",
    "        print(\"show is not recommended\")\n",
    "else:\n",
    "    print(show + \" is not available on Netflix\")"
   ]
  },
  {
   "cell_type": "markdown",
   "metadata": {},
   "source": [
    "## Nested Conditions\n",
    "- conditional statements within conditional statements\n",
    "- called \"nested\" within another\n",
    "- else if inside of another ese if"
   ]
  },
  {
   "cell_type": "markdown",
   "metadata": {},
   "source": [
    "## Hack 4\n",
    "[x] Create 3 differnt flow charts representing nested statements and transfer them into code.\n",
    "[x] Create a piece of code that displays four statements instead of three. Try to do more if you can.\n",
    "[x] Make piece of code that gives three different recommandations for possible classes to take at a school based on two different condtions. These conditions could be if the student likes STEM or not."
   ]
  },
  {
   "cell_type": "code",
   "execution_count": 9,
   "metadata": {},
   "outputs": [
    {
     "name": "stdout",
     "output_type": "stream",
     "text": [
      "Class recommendations: Advanced Function Analysis, AP Calculus AB, AP Calculus BC, AP Statistics\n"
     ]
    }
   ],
   "source": [
    "# Hack 4 #2 Class recommendations\n",
    "STEM = input(\"Are you intrested in STEM? Y or N\")\n",
    "if STEM == \"Y\":\n",
    "    subject = input(\"Do you like math or science better?\")\n",
    "    if subject == \"math\":\n",
    "        print(\"Class recommendations: Advanced Function Analysis, AP Calculus AB, AP Calculus BC, AP Statistics\")\n",
    "    if subject == \"science\":\n",
    "        print(\"Class recommendations: Chemistry, Physics, AP Enviornmental Science, AP Physics, AP Chemistry\")\n",
    "else:\n",
    "    language = input(\"Are you intrested in language? Y or N\")\n",
    "    if language == \"Y\":\n",
    "        lansubject = input(\"Do you prefer a foreign language or English?\")\n",
    "        if lansubject == \"foreign language\":\n",
    "            print(\"Class recommendations: Spanish, Mandarin, AP Spanish, AP Mandarin\")\n",
    "        if lansubject == \"English\":\n",
    "            print(\"Class recommendations: American Literature, AP English Literature\")\n",
    "    if language == \"N\":\n",
    "        print(\"See class list for more options!\")"
   ]
  },
  {
   "cell_type": "markdown",
   "metadata": {},
   "source": [
    "### Flowchart #1: Is it cold?"
   ]
  },
  {
   "cell_type": "code",
   "execution_count": 10,
   "metadata": {},
   "outputs": [
    {
     "name": "stdout",
     "output_type": "stream",
     "text": [
      "It is cold!\n",
      "Bring a snow jacket!\n"
     ]
    }
   ],
   "source": [
    "# FLowchart #1 code\n",
    "temp = input(\"what is the temperature today?\")\n",
    "if int(temp) <= 73:\n",
    "    print(\"It is cold!\")\n",
    "    if int(temp) <= 40:\n",
    "        print(\"Bring a snow jacket!\")\n",
    "    else:\n",
    "        print(\"Bring a hoodie!\")\n",
    "else:\n",
    "    print(\"It's warm today! Don't bring a jacket :)\")"
   ]
  },
  {
   "cell_type": "markdown",
   "metadata": {},
   "source": [
    "### Flowchart #2: Is the class difficult?"
   ]
  },
  {
   "cell_type": "code",
   "execution_count": 11,
   "metadata": {},
   "outputs": [
    {
     "name": "stdout",
     "output_type": "stream",
     "text": [
      "This class is not difficult\n"
     ]
    }
   ],
   "source": [
    "# Flowchart #2 code\n",
    "passingrate = 72\n",
    "testaverage = 82\n",
    "if passingrate > 70 and passingrate <= 100:\n",
    "    if testaverage >= 80:\n",
    "        print(\"This class is not difficult\")\n",
    "    else:\n",
    "        print(\"this class is difficult\")\n",
    "else:\n",
    "    print(\"this class is difficult\")"
   ]
  },
  {
   "cell_type": "markdown",
   "metadata": {},
   "source": [
    "### Flowchart #3: Should Alexa work at school during first period off roll?"
   ]
  },
  {
   "cell_type": "code",
   "execution_count": 12,
   "metadata": {},
   "outputs": [
    {
     "name": "stdout",
     "output_type": "stream",
     "text": [
      "Stay home and sleep\n"
     ]
    }
   ],
   "source": [
    "# Flowchart #3 code\n",
    "feeling = input(\"Are you tired today?\")\n",
    "if feeling == \"yes\":\n",
    "    print(\"Stay home and sleep\")\n",
    "if feeling == \"no\":\n",
    "    homework = input(\"Do you have homework to do?\")\n",
    "    if homework == \"yes\":\n",
    "        print(\"Go to school\")\n",
    "    else:\n",
    "        print(\"Stay home and sleep\")"
   ]
  },
  {
   "cell_type": "code",
   "execution_count": 13,
   "metadata": {},
   "outputs": [
    {
     "name": "stdout",
     "output_type": "stream",
     "text": [
      "water is potable\n",
      "water is warm\n",
      "water is not in ideal condition\n",
      "chill with ice\n"
     ]
    }
   ],
   "source": [
    "# displaying 4 statements\n",
    "drinkable = \"potable\"\n",
    "temperature = \"warm\"\n",
    "if drinkable == \"potable\":\n",
    "    print(\"water is potable\")\n",
    "    if temperature == \"cold\":\n",
    "        print(\"water is \" + str(temperature)) \n",
    "        print(\"water is in ideal condition\")\n",
    "        print(\"drink up!\")\n",
    "    else:\n",
    "        print(\"water is \" + str(temperature)) \n",
    "        print(\"water is not in ideal condition\")\n",
    "        print(\"chill with ice\")\n",
    "else:\n",
    "    print(\"do not drink, water is not potable\")"
   ]
  },
  {
   "cell_type": "markdown",
   "metadata": {},
   "source": [
    "## 3.8-3.10 Student Lesson (group 4)"
   ]
  },
  {
   "cell_type": "markdown",
   "metadata": {},
   "source": [
    "- <mark>Iteration</mark>: a repeating portion of an algorithm, repeats a specified number of times or until a given condition is met\n",
    "- <mark>Iteration Statements</mark>: change the sequential flow of control by repeating a set of statements zero or more times, until a stopping condition is met\n",
    "- <mark>Repeat Until</mark>: if the condition evaluates to true initially, the loop body is not executed at all, due to the condition being checked before the loop\n",
    "\n"
   ]
  },
  {
   "cell_type": "markdown",
   "metadata": {},
   "source": [
    "- <mark>while loops</mark> = similar outpytut with variation in input\n",
    "- similar to <mark>for loop</mark> (requires a variable which is the starting value)"
   ]
  },
  {
   "cell_type": "markdown",
   "metadata": {},
   "source": [
    "### **Hacks** Unit 3 Section 3.8.1 \n",
    "1. Define an Iteration\n",
    "2. Make your own example of an iteration with at least 4 steps and a stopping condition(Similar to mine that I did)\n",
    "3. Program a simple iteration."
   ]
  },
  {
   "cell_type": "markdown",
   "metadata": {},
   "source": [
    "- Iteration: loop that continues repeating until condition is met\n",
    "- Example of iteration with stopping condition:\n",
    "    - I am doing an easter egg hunt and trying to frind the golden egg. I have split the searching area into sections\n",
    "    1. I walk to a section\n",
    "    2. I look aroung to try and find the golden egg\n",
    "    3. If it is not there, I add one to the section number (move onto next section)\n",
    "    4. I repeat steps 1 through 4\n",
    "    5. Once I find the egg, I stop searching to go brag to the kids\n",
    "\n"
   ]
  },
  {
   "cell_type": "code",
   "execution_count": 14,
   "metadata": {},
   "outputs": [
    {
     "name": "stdout",
     "output_type": "stream",
     "text": [
      "Too easy\n",
      "Too easy\n",
      "Too easy\n",
      "Too easy\n",
      "Too easy\n",
      "Too easy\n"
     ]
    }
   ],
   "source": [
    "# hack #3 program simple iteration\n",
    "hourshomework = 0\n",
    "while hourshomework < 8:\n",
    "    print(\"Too easy\")\n",
    "    hourshomework += 1\n",
    "    if hourshomework == 6:\n",
    "        break\n"
   ]
  },
  {
   "cell_type": "markdown",
   "metadata": {},
   "source": [
    "### **Hacks** Unit 3 Section 3.8.2\n",
    "1. What is an iteration statement, in your own words?\n",
    "2. Create a descending list of numbers using for loop\n",
    "3. Using while loop, make a list of numbers which will form an output of 3,16,29,42,55,68,81"
   ]
  },
  {
   "cell_type": "markdown",
   "metadata": {},
   "source": [
    "- Iteration statement: a condition that must be met in a loop or it will continue repeating"
   ]
  },
  {
   "cell_type": "markdown",
   "metadata": {},
   "source": [
    "## Lists Commands\n",
    "\n",
    "- <mark>append()</mark> - adding element to the end of the list\n",
    "- <mark>insert()</mark> - adding an element in a specific position\n",
    "- <mark>remove()</mark> - remove an item from the list\n",
    "- <mark>len()</mark> - returns the number of items in a list\n",
    "- <mark>sort()</mark> - changes order of list permanently \n",
    "- <mark>sorted()</mark> - returns a copy of the list which leaves the original copy unchanged\n",
    "- <mark>range()</mark> - use to work with number efficiently\n",
    "- <mark>min()</mark> - find the least value in list\n",
    "- <mark>max()</mark> - find the highest value in list\n",
    "- <mark>sum()</mark> - sum of all in list"
   ]
  },
  {
   "cell_type": "code",
   "execution_count": 15,
   "metadata": {},
   "outputs": [
    {
     "name": "stdout",
     "output_type": "stream",
     "text": [
      "[50, 49, 48, 47, 46, 45, 44, 43, 42, 41, 40, 39, 38, 37, 36, 35, 34, 33, 32, 31, 30, 29, 28, 27, 26, 25, 24, 23, 22, 21, 20, 19, 18, 17, 16, 15, 14, 13, 12, 11, 10, 9, 8, 7, 6, 5, 4, 3, 2, 1, 0]\n"
     ]
    }
   ],
   "source": [
    "# 2. For loop decending numbers\n",
    "numlist = [50]\n",
    "for i in numlist:\n",
    "    i -= 1\n",
    "    numlist.append(i) # using append to add to the end of a list\n",
    "    if i == 0:\n",
    "        break\n",
    "print(numlist)"
   ]
  },
  {
   "cell_type": "code",
   "execution_count": 16,
   "metadata": {},
   "outputs": [
    {
     "name": "stdout",
     "output_type": "stream",
     "text": [
      "3\n",
      "16\n",
      "29\n",
      "42\n",
      "55\n",
      "68\n",
      "81\n"
     ]
    }
   ],
   "source": [
    "# 3. While loop with output of 3, 16, 29, 42, 55, 68, 81\n",
    "i = 3\n",
    "print(i)\n",
    "while i <= 68:\n",
    "    i += 13\n",
    "    print(i)"
   ]
  },
  {
   "cell_type": "markdown",
   "metadata": {},
   "source": [
    "### Find the lowest value in a list \n",
    "- Use the list made bellow\n",
    "- Make a variable to hold the minimum and set it to potential minimum value\n",
    "- Loop\n",
    "- Check each element to see if it is less than the minimum variable\n",
    "- If the element is less than the minimum variable, update the minimum\n",
    "- After all the elements of the list have been checked, display the minimum value"
   ]
  },
  {
   "cell_type": "code",
   "execution_count": 17,
   "metadata": {},
   "outputs": [
    {
     "name": "stdout",
     "output_type": "stream",
     "text": [
      "10\n"
     ]
    }
   ],
   "source": [
    "# For loop to find minimum value in list\n",
    "nums = [\"10\", \"15\", \"20\", \"25\", \"30\", \"35\"]\n",
    "min = 20\n",
    "for n in nums:\n",
    "    if int(n) < int(min):\n",
    "        min = n\n",
    "print(min)"
   ]
  },
  {
   "cell_type": "code",
   "execution_count": 19,
   "metadata": {},
   "outputs": [
    {
     "name": "stdout",
     "output_type": "stream",
     "text": [
      "What allows an element at index i to be deleted from a list?\n",
      "remove()\n",
      "Correct!\n",
      "What allows a value to be added at the end of a list?\n",
      "append()\n",
      "Correct!\n",
      "What returns the number of elements currently in a specific list?\n",
      "length()\n",
      "Correct!\n",
      "What allows a value to be inserted into a list at index i?\n",
      "index()\n",
      "Correct!\n",
      "100.00%\n",
      "Your total score is:  4 out of 4. Not too bad, keep on studying! \n"
     ]
    }
   ],
   "source": [
    "import getpass, sys\n",
    "import random\n",
    "\n",
    "def ask_question (question, answer):\n",
    "\n",
    "    print(question)\n",
    "    ans = input(question)\n",
    "    print(ans)\n",
    "   \n",
    "    if ans == answer:\n",
    "        print(\"Correct!\")\n",
    "        return 1\n",
    "\n",
    "    else:\n",
    "        print(\"Wrong\")\n",
    "        return 0\n",
    "\n",
    "question_list = [\"What allows a value to be inserted into a list at index i?\" , \"What allows an element at index i to be deleted from a list?\" , \"What returns the number of elements currently in a specific list?\" , \"What allows a value to be added at the end of a list?\"]\n",
    "answer_list = [\"index()\", \"remove()\", \"length()\" , \"append()\"]\n",
    "\n",
    "# Set points to 0 at the start of the quiz\n",
    "points = 0\n",
    "\n",
    "# If the length of the quiz is greater than 0, then random questions will be chosen from the \"question_list\" set\n",
    "while len(question_list) > 0:\n",
    "    index = random.randint(0, len(question_list) - 1)\n",
    "    \n",
    "# The points system where a point is rewarded for each correct answer    \n",
    "    points = points + ask_question(question_list[index], answer_list[index])\n",
    "    \n",
    "# If a question or answer has already been used, then it shall be deleted    \n",
    "    del question_list[index]\n",
    "    del answer_list[index]\n",
    "\n",
    "# Calculating score using the points system and dividing it by the total number of questions (6)\n",
    "score = (points / 4)\n",
    "\n",
    "# Calculating the percentage of correct answers by multiplying the score by 100\n",
    "percent = (score * 100)\n",
    "\n",
    "# Printing the percentage, and formatting the percentage in a way where two decimals can be shown (through \"{:.2f}\")\n",
    "print(\"{:.2f}\".format(percent) + \"%\")\n",
    "\n",
    "# Adding final remarks based upon the users given scores\n",
    "if points >= 5:\n",
    "         print(\"Your total score is: \", points, \"out of 4. Amazing job!\")\n",
    "\n",
    "elif points == 4:\n",
    "         print(\"Your total score is: \", points, \"out of 4. Not too bad, keep on studying! \" )\n",
    "\n",
    "else:\n",
    "         print(\"Your total score is: \", points, \"out of 4. Its alright, better luck next time!\")\n"
   ]
  },
  {
   "cell_type": "code",
   "execution_count": 20,
   "metadata": {},
   "outputs": [
    {
     "name": "stdout",
     "output_type": "stream",
     "text": [
      "sorted:\n",
      "[2, 42, 3256, 5000]\n",
      "Your highest monthly earning is $5000\n",
      "You have been working for 4 months\n"
     ]
    }
   ],
   "source": [
    "# Extra!\n",
    "monthly_earnings = []\n",
    "\n",
    "a = 0\n",
    "while a == 0:\n",
    "    money = input(\"How much money did you make this month?\")\n",
    "    if money == \"\":\n",
    "        break\n",
    "    monthly_earnings.append(int(money)) # uses append()\n",
    "\n",
    "sort = input(\"Do you want to sort your earnings?\")\n",
    "\n",
    "if sort == \"yes\":\n",
    "    print(\"sorted:\")\n",
    "    print(sorted(monthly_earnings)) # uses sorted() which returns a copy of list\n",
    "else:\n",
    "    print(\"unsorted:\")\n",
    "    print(monthly_earnings)\n",
    "print(\"Your highest monthly earning is $\" + str(max(monthly_earnings))) #uses max()\n",
    "print(\"You have been working for \" + str(len(monthly_earnings)) + \" months\")"
   ]
  },
  {
   "cell_type": "markdown",
   "metadata": {},
   "source": [
    "## 3.9 and 3.11 Student Lesson (group 5)"
   ]
  },
  {
   "cell_type": "markdown",
   "metadata": {},
   "source": [
    "### 3 components to an algorithm:\n",
    "- selection\n",
    "- sequence\n",
    "- iteration"
   ]
  },
  {
   "cell_type": "markdown",
   "metadata": {},
   "source": [
    "- Algorithms can be written is different ways but work the same way!\n",
    "- Why is it important to know that algorithms that look different can do the same thing and that algorithms that look the same might have different results?\n",
    "    - This knowledge is important since it will cause people to look at and compare code more carefully. We can catch mistakes, make code more efficient, and overall learn from others. Mistakes are learning too!"
   ]
  },
  {
   "cell_type": "code",
   "execution_count": 21,
   "metadata": {},
   "outputs": [
    {
     "name": "stdout",
     "output_type": "stream",
     "text": [
      "What Grade Did You Get?\n",
      "Wow! Good job!\n"
     ]
    }
   ],
   "source": [
    "# Example of code that performs the same as another piece of code\n",
    "\n",
    "# code #1\n",
    "print(\"What Grade Did You Get?\")\n",
    "grade = int(input(\"Enter Grade:\"))\n",
    "if grade >= 90:\n",
    "        print(\"Wow! Good job!\")\n",
    "elif 70 < grade < 90:\n",
    "        print(\"Nice!\")\n",
    "elif grade < 70:\n",
    "        print(\"Do Better\")"
   ]
  },
  {
   "cell_type": "code",
   "execution_count": 22,
   "metadata": {},
   "outputs": [
    {
     "name": "stdout",
     "output_type": "stream",
     "text": [
      "What Grade Did You Get?\n",
      "Wow! Good job!\n"
     ]
    }
   ],
   "source": [
    "# code #2 with same funtion\n",
    "print(\"What Grade Did You Get?\")\n",
    "grade = int(input(\"Enter Grade:\"))\n",
    "A = grade >= 90\n",
    "B = 70 <= grade < 90\n",
    "C = grade < 70\n",
    "if A:\n",
    "        print(\"Wow! Good job!\")\n",
    "elif B:\n",
    "        print(\"Nice!\")\n",
    "elif C:\n",
    "        print(\"Do Better\")"
   ]
  },
  {
   "cell_type": "markdown",
   "metadata": {},
   "source": [
    "### Nested Conditionals"
   ]
  },
  {
   "cell_type": "code",
   "execution_count": 23,
   "metadata": {},
   "outputs": [
    {
     "name": "stdout",
     "output_type": "stream",
     "text": [
      "Go to school\n",
      "Go do you work at school!\n"
     ]
    }
   ],
   "source": [
    "# Conditional in conversion hack: Should Alexa go into school and work during first period offroll\n",
    "isalexatired = True\n",
    "havehw = True\n",
    "\n",
    "if isalexatired == True and havehw == False:\n",
    "    print(\"Stay home and sleep!\")\n",
    "else:\n",
    "    if havehw == True:\n",
    "        print(\"Go to school\")\n",
    "    else:\n",
    "        print(\"Stay home and sleep!\")\n",
    "\n",
    "# Boolean conversion\n",
    "gotoschool = not(isalexatired) or isalexatired and havehw\n",
    "if gotoschool == True:\n",
    "    print(\"Go do you work at school!\")\n",
    "if gotoschool == False:\n",
    "    print(\"Stay home and sleep queen\")\n"
   ]
  },
  {
   "cell_type": "markdown",
   "metadata": {},
   "source": [
    "### Developing Algorithms\n",
    "- good to outline process before coding\n",
    "- make sure everything is sequenced correctly! (goes through in intended order)\n",
    "- should make a **flow chart** or use **natural language**"
   ]
  },
  {
   "cell_type": "markdown",
   "metadata": {},
   "source": [
    "### Natural Language for Netflix Code\n",
    "1. Input what show user is looking for\n",
    "2. check if show is in showdictionary\n",
    "3. If it is in dictionary, move onto step 4. If not, print \"show is not available on Netflix\"\n",
    "4. check if the show has a rating of 3 or higher \n",
    "5. If it does, print \"show is recommended\"; if it doesn't print \"how is not recommended\""
   ]
  },
  {
   "cell_type": "code",
   "execution_count": 24,
   "metadata": {},
   "outputs": [
    {
     "name": "stdout",
     "output_type": "stream",
     "text": [
      "You is available on Netflix\n",
      "show/movie is recommended\n"
     ]
    }
   ],
   "source": [
    "# to test if a show is included in Netflix, and if it is recommended\n",
    "showdictionary = {\n",
    "    'Wednesday':5,  # key=title name and value=rating out of 5 stars\n",
    "    'You':3, \n",
    "    'Knight Before Christmas':4, \n",
    "    'Red Notice':5,\n",
    "    'Truth or Dare':1\n",
    "}\n",
    "show = input(\"What show are you looking for?\")\n",
    "if show in showdictionary.keys():\n",
    "    print(show + \" is available on Netflix\")\n",
    "    if showdictionary[show] >= 3:\n",
    "         print(\"show/movie is recommended\")\n",
    "    else:\n",
    "        print(\"show is not recommended\")\n",
    "else:\n",
    "    print(show + \" is not available on Netflix\")"
   ]
  },
  {
   "cell_type": "markdown",
   "metadata": {},
   "source": [
    "### Pre-Existing Algorithms\n",
    "- can be helpful to use pre-exsiting functions\n",
    "- common and simple ones include:\n",
    "    - determining min or max of two or more numbers\n",
    "    - computing the sum or average\n",
    "    - identifying if an integer is even or odd"
   ]
  },
  {
   "cell_type": "code",
   "execution_count": 25,
   "metadata": {},
   "outputs": [
    {
     "name": "stdout",
     "output_type": "stream",
     "text": [
      "I'm thinking of a number between 0 and 100.\n",
      "You guessed 78.\n",
      "You guessed too high\n",
      "Guess a number between 0 and 78.\n",
      "You guessed 34.\n",
      "You guessed too low\n",
      "Guess a number between 34 and 78.\n",
      "You guessed 45.\n",
      "You guessed too high\n",
      "Guess a number between 34 and 45.\n",
      "You guessed 56.\n",
      "You guessed too high\n",
      "Guess a number between 34 and 56.\n",
      "You guessed 38.\n",
      "You guessed too low\n",
      "Guess a number between 38 and 56.\n",
      "You guessed 42.\n",
      "You guessed too low\n",
      "Guess a number between 42 and 56.\n",
      "You guessed 43.\n",
      "You guessed the number in 7 guesses!\n"
     ]
    }
   ],
   "source": [
    "import random\n",
    "\n",
    "#sets variables for the game\n",
    "num_guesses = 0\n",
    "user_guess = -1\n",
    "upper_bound = 100\n",
    "lower_bound = 0\n",
    "\n",
    "#generates a random number\n",
    "number = random.randint(0,100)\n",
    "\n",
    "# print(number)     #for testing purposes\n",
    "\n",
    "print(f\"I'm thinking of a number between 0 and 100.\")\n",
    "\n",
    "#Write a function that gets a guess from the user using input()\n",
    "def guess():\n",
    "    guessednum = input(\"Choose a number!\")\n",
    "    return guessednum \n",
    "\n",
    "#Change the print statements to give feedback on whether the player guessed too high or too low\n",
    "def search(number, guess):\n",
    "    global lower_bound, upper_bound\n",
    "    if int(guess) < int(number):\n",
    "        print(\"You guessed too low\") \n",
    "        lower_bound = guess\n",
    "        return lower_bound, upper_bound\n",
    "    elif int(guess) > int(number):\n",
    "        print(\"You guessed too high\")\n",
    "        upper_bound = guess\n",
    "        return lower_bound, upper_bound\n",
    "    else:\n",
    "        upper_bound, lower_bound = guess, guess\n",
    "        return lower_bound, upper_bound \n",
    "\n",
    "while user_guess != number:\n",
    "    user_guess = guess()\n",
    "    num_guesses += 1\n",
    "    print(f\"You guessed {user_guess}.\")\n",
    "    lower_bound, upper_bound = search(number, user_guess)\n",
    "    if int(upper_bound) == int(number):\n",
    "        break\n",
    "    else:\n",
    "        print(f\"Guess a number between {lower_bound} and {upper_bound}.\")\n",
    "\n",
    "print(f\"You guessed the number in {num_guesses} guesses!\")"
   ]
  },
  {
   "cell_type": "markdown",
   "metadata": {},
   "source": [
    "### Binary Search\n",
    "- what is it?: repeatedly dividing a search interval in half\n",
    "1. put the numbers in order\n",
    "    - ascending\n",
    "    - descending\n",
    "2. find the middle number first\n",
    "    - this is found by taking the highest index number plus the lowest index number and divide by 2\n",
    "\n",
    "3.  the numbers on the right will be greater and the numbers on the left will be smaller\n",
    "    - this can be represented with a binary tree\n",
    "        - middle number with the smaller number branched off on the left and bigger numbers branched off on the right\n",
    "\n",
    "- these lists are not always numbers\n",
    "    - lists can be made with strings\n",
    "    - ex. [\"apple\", \"banana\", \"cherry\", \"peach\", \"watermelon\"]\n",
    "    - alphabetical order\n",
    "        - a-z\n",
    "        - z-a"
   ]
  },
  {
   "cell_type": "code",
   "execution_count": 26,
   "metadata": {},
   "outputs": [
    {
     "name": "stdout",
     "output_type": "stream",
     "text": [
      "3\n",
      "middle is 57\n"
     ]
    }
   ],
   "source": [
    "# indexing a set of numbers: 12, 14, 43, 57, 79, 80, 99\n",
    "index = [12, 14, 43, 57, 79, 80, 99]\n",
    "index.sort()\n",
    "mid = int(len(index) / 2) \n",
    "print(mid)\n",
    "print(\"middle is\",index[mid])"
   ]
  },
  {
   "cell_type": "markdown",
   "metadata": {},
   "source": [
    "## Unit 3 Vocabulary\n",
    "- **variables**: \"containers\" or used to store information to be referenced and manipulated in a computer program\n",
    "- **data types**:  a classification that specifies which type of value a variable has and what type of mathematical, relational or logical operations can be applied to it\n",
    "- **assignment operators**: the operator used to assign a new value to a variable\n",
    "- **lists**: an abstract data type that represents a finite number of ordered values\n",
    "- **dictionaries**: an abstract data type that defines an unordered collection of data as a set of key-value pairs\n",
    "- **class**:  a template definition of a method and variable in a particular kind of object\n",
    "- **algorithm**: a procedure used for solving a problem or performing a computation\n",
    "- **sequence**: the order of how to do something to achieve a result\n",
    "- **selection**: allows an algorithm to make a decision based on if a condition is met\n",
    "- **iteration**: iteration: a loop and doing something again until a condition is met\n",
    "- **expressions**: a concept in which a number of variables or constants, and operators and functions, are put together in a single statement that is acted on by a particular programming language\n",
    "- **comparison operators**: compare the values within an expression, such as to check if the value held by a variable matches the value held by another variable\n",
    "- **boolean expression**: a logical statement that is either TRUE or FALSE\n",
    "    - **selection**: \n",
    "    - **iteration**\n",
    "- **truth tables**: a breakdown of all the possible truth values returned by a logical expression (usually 1/0, true/false)\n",
    "- **characters**: a display unit of information equivalent to one alphabetic letter or symbol\n",
    "- **strings**: an array data structure of bytes (or words) that stores a sequence of elements\n",
    "- **length**: length() function returns the number of items in an object\n",
    "- **concatenation**: the operation of joining two strings together\n",
    "- **python if**: a conditional statement tha decides if a certian condition is true/decides whether certain statements need to be executed or not\n",
    "- **python elif**: elif = else if and checks for multiple expressions (if the condition for if is False, it checks the condition of the next elif block)\n",
    "- **python else conditionals**: else catches anything which isn't caught by the previous conditions (like and if statement)\n",
    "- **nested selection statements**:\n",
    "- **Python for loop**:\n",
    "- **Python while loop with range and with list**:\n",
    "- **Combining loops with conditionals to Break, Continue**:\n",
    "- **Procedural Abstraction**:\n",
    "- **Python Def procedures**:\n",
    "- **paramerters**:\n",
    "- **return values**:\n",
    "\n",
    "\n",
    "\n",
    "Idk:\n",
    "- Traversing Strings\n",
    "- 2D Lists\n",
    "- upper/lower"
   ]
  }
 ],
 "metadata": {
  "kernelspec": {
   "display_name": "Python 3.8.10 64-bit",
   "language": "python",
   "name": "python3"
  },
  "language_info": {
   "codemirror_mode": {
    "name": "ipython",
    "version": 3
   },
   "file_extension": ".py",
   "mimetype": "text/x-python",
   "name": "python",
   "nbconvert_exporter": "python",
   "pygments_lexer": "ipython3",
   "version": "3.8.10"
  },
  "orig_nbformat": 4,
  "vscode": {
   "interpreter": {
    "hash": "916dbcbb3f70747c44a77c7bcd40155683ae19c65e1c03b4aa3499c5328201f1"
   }
  }
 },
 "nbformat": 4,
 "nbformat_minor": 2
}
