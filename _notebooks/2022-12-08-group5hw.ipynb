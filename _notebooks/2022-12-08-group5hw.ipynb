{
 "cells": [
  {
   "cell_type": "markdown",
   "metadata": {},
   "source": [
    "# 3.9 and 3.11 Student Lesson (group 5)\n",
    "> My homework for the 3.9 and 3.11 lesson\n",
    "\n",
    "- toc: true\n",
    "- comments: true\n",
    "- permalink: /students/groupfive\n",
    "- image: /images/thumbs up.jpg\n",
    "- categories: [week 15]\n"
   ]
  },
  {
   "cell_type": "markdown",
   "metadata": {},
   "source": [
    "#### Hacks 1\n",
    "\n",
    "- why is it important to know that algorithms that look different can do the same thing and that algorithms that look the same might have different results?(0.15)\n",
    "- for the converted conditional to boolean conversion(0.10)\n",
    "- total: 0.25"
   ]
  },
  {
   "cell_type": "markdown",
   "metadata": {},
   "source": [
    "- Why is it important to know that algorithms that look different can do the same thing and that algorithms that look the same might have different results?\n",
    "    - <mark>This knowledge is important since it will cause people to look at and compare code more carefully. We can catch mistakes, make code more efficient, and overall learn from others. Mistakes are learning too! </mark>"
   ]
  },
  {
   "cell_type": "code",
   "execution_count": 13,
   "metadata": {},
   "outputs": [
    {
     "name": "stdout",
     "output_type": "stream",
     "text": [
      "Go to school\n",
      "Go do you work at school!\n"
     ]
    }
   ],
   "source": [
    "# Conditional in conversion hack: Should Alexa go into school and work during first period offroll\n",
    "isalexatired = True\n",
    "havehw = True\n",
    "\n",
    "if isalexatired == True and havehw == False:\n",
    "    print(\"Stay home and sleep!\")\n",
    "else:\n",
    "    if havehw == True:\n",
    "        print(\"Go to school\")\n",
    "    else:\n",
    "        print(\"Stay home and sleep!\")\n",
    "\n",
    "# Boolean conversion\n",
    "gotoschool = not(isalexatired) or isalexatired and havehw\n",
    "if gotoschool == True:\n",
    "    print(\"Go do you work at school!\")\n",
    "if gotoschool == False:\n",
    "    print(\"Stay home and sleep queen\")\n"
   ]
  },
  {
   "cell_type": "markdown",
   "metadata": {},
   "source": [
    "#### Hacks 2\n",
    "\n",
    "Develop your own complex algorithm using a flowchart and natural language, then code it!\n",
    "\n",
    "Requirements:\n",
    "- Includes both a flowchart AND natural language\n",
    "- Working code of the same algorithm\n",
    "- Incorporates selection AND/OR iteration\n",
    "- Make it creative!"
   ]
  },
  {
   "cell_type": "markdown",
   "metadata": {},
   "source": [
    "### <mark>Natural Language for Netflix Code</mark>\n",
    "1. Input what show user is looking for\n",
    "2. check if show is in showdictionary\n",
    "3. If it is in dictionary, move onto step 4. If not, print \"show is not available on Netflix\"\n",
    "4. check if the show has a rating of 3 or higher \n",
    "5. If it does, print \"show is recommended\"; if it doesn't print \"how is not recommended\"\n",
    "\n",
    "<mark>Flow chart is in review ticket</mark>"
   ]
  },
  {
   "cell_type": "code",
   "execution_count": 1,
   "metadata": {},
   "outputs": [
    {
     "name": "stdout",
     "output_type": "stream",
     "text": [
      "You is available on Netflix\n",
      "show/movie is recommended\n"
     ]
    }
   ],
   "source": [
    "# to test if a show is included in Netflix, and if it is recommended\n",
    "showdictionary = {\n",
    "    'Wednesday':5,  # key=title name and value=rating out of 5 stars\n",
    "    'You':3, \n",
    "    'Knight Before Christmas':4, \n",
    "    'Red Notice':5,\n",
    "    'Truth or Dare':1\n",
    "}\n",
    "show = input(\"What show are you looking for?\")\n",
    "if show in showdictionary.keys():\n",
    "    print(show + \" is available on Netflix\")\n",
    "    if showdictionary[show] >= 3:\n",
    "         print(\"show/movie is recommended\")\n",
    "    else:\n",
    "        print(\"show is not recommended\")\n",
    "else:\n",
    "    print(show + \" is not available on Netflix\")"
   ]
  },
  {
   "cell_type": "markdown",
   "metadata": {},
   "source": [
    "#### Hacks 3\n",
    "\n",
    "Fix the number guessing game\n",
    "1. Make a flow chart for the algorithm number guessing game <- <mark>flow chart is in review ticket</mark>\n",
    "2. Make a function that gets the user guess\n",
    "3. Modify the existing search function to give more encouraging feedback"
   ]
  },
  {
   "cell_type": "code",
   "execution_count": 12,
   "metadata": {},
   "outputs": [
    {
     "name": "stdout",
     "output_type": "stream",
     "text": [
      "I'm thinking of a number between 0 and 100.\n",
      "You guessed 72.\n",
      "You guessed too high\n",
      "Guess a number between 0 and 72.\n",
      "You guessed 34.\n",
      "You guessed too low\n",
      "Guess a number between 34 and 72.\n",
      "You guessed 45.\n",
      "You guessed too low\n",
      "Guess a number between 45 and 72.\n",
      "You guessed 56.\n",
      "You guessed too high\n",
      "Guess a number between 45 and 56.\n",
      "You guessed 48.\n",
      "You guessed too low\n",
      "Guess a number between 48 and 56.\n",
      "You guessed 49.\n",
      "You guessed too low\n",
      "Guess a number between 49 and 56.\n",
      "You guessed 52.\n",
      "You guessed the number in 7 guesses!\n"
     ]
    }
   ],
   "source": [
    "import random\n",
    "\n",
    "#sets variables for the game\n",
    "num_guesses = 0\n",
    "user_guess = -1\n",
    "upper_bound = 100\n",
    "lower_bound = 0\n",
    "\n",
    "#generates a random number\n",
    "number = random.randint(0,100)\n",
    "\n",
    "# print(number)     #for testing purposes\n",
    "\n",
    "print(f\"I'm thinking of a number between 0 and 100.\")\n",
    "\n",
    "#Write a function that gets a guess from the user using input()\n",
    "def guess():\n",
    "    guessednum = input(\"Choose a number!\")\n",
    "    return guessednum \n",
    "\n",
    "#Change the print statements to give feedback on whether the player guessed too high or too low\n",
    "def search(number, guess):\n",
    "    global lower_bound, upper_bound\n",
    "    if int(guess) < int(number):\n",
    "        print(\"You guessed too low\") \n",
    "        lower_bound = guess\n",
    "        return lower_bound, upper_bound\n",
    "    elif int(guess) > int(number):\n",
    "        print(\"You guessed too high\")\n",
    "        upper_bound = guess\n",
    "        return lower_bound, upper_bound\n",
    "    else:\n",
    "        upper_bound, lower_bound = guess, guess\n",
    "        return lower_bound, upper_bound \n",
    "\n",
    "while user_guess != number:\n",
    "    user_guess = guess()\n",
    "    num_guesses += 1\n",
    "    print(f\"You guessed {user_guess}.\")\n",
    "    lower_bound, upper_bound = search(number, user_guess)\n",
    "    if int(upper_bound) == int(number):\n",
    "        break\n",
    "    else:\n",
    "        print(f\"Guess a number between {lower_bound} and {upper_bound}.\")\n",
    "\n",
    "print(f\"You guessed the number in {num_guesses} guesses!\")"
   ]
  },
  {
   "cell_type": "markdown",
   "metadata": {},
   "source": [
    "### Hacks 4\n",
    "\n",
    "1. calculate the middle index and create a binary tree for each of these lists\n",
    " * <mark>Binary Trees in review ticket</mark>\n",
    "    - 12, 14, 43, 57, 79, 80, 99\n",
    "    - 92, 43, 74, 66, 30, 12, 1 \n",
    "    - 7, 13, 96, 111, 33, 84, 60 \n",
    "2. Using one of the sets of numbers from the question above, what would be the second number looked at in a binary search if the number is more than the middle number?:\n",
    "    - In the first set of numbers, the second number looked at in a binary search if it is more than the middle number would be <mark>80</mark>.\n",
    "    - In the second set of numbers, the second number looked at in a binary search if it is more than the middle number would be <mark>74</mark>.\n",
    "    - In the third set of numbers, the second number looked at in a binary search if it is more than the middle number would be <mark>96</mark>.\n",
    "    \n",
    "    \n",
    "    \n",
    "3. Which of the following lists can NOT a binary search be used in order to find a targeted value?\n",
    "\n",
    "    a. [\"amy\", \"beverly\", \"christian\", \"devin\"]\n",
    "\n",
    "    b. [-1, 2, 6, 9, 19]\n",
    "\n",
    "    c. <mark>[3, 2, 8, 12, 99]</mark>\n",
    "    \n",
    "    d. [\"xylophone\", \"snowman\", \"snake\", \"doorbell\", \"author\"]\n",
    "\n",
    "    Answer = <mark>C</mark> "
   ]
  },
  {
   "cell_type": "code",
   "execution_count": 31,
   "metadata": {},
   "outputs": [
    {
     "name": "stdout",
     "output_type": "stream",
     "text": [
      "3\n",
      "middle is 57\n"
     ]
    }
   ],
   "source": [
    "# set one index\n",
    "index = [12, 14, 43, 57, 79, 80, 99]\n",
    "index.sort()\n",
    "mid = int(len(index) / 2) \n",
    "print(mid)\n",
    "print(\"middle is\",index[mid])"
   ]
  },
  {
   "cell_type": "code",
   "execution_count": 30,
   "metadata": {},
   "outputs": [
    {
     "name": "stdout",
     "output_type": "stream",
     "text": [
      "3\n",
      "middle is 43\n"
     ]
    }
   ],
   "source": [
    "# set two index\n",
    "index =[1, 12, 30, 43, 66, 74, 92]\n",
    "index.sort()\n",
    "mid = int(len(index) / 2) \n",
    "print(mid)\n",
    "print(\"middle is\",index[mid])"
   ]
  },
  {
   "cell_type": "code",
   "execution_count": 29,
   "metadata": {},
   "outputs": [
    {
     "name": "stdout",
     "output_type": "stream",
     "text": [
      "3\n",
      "middle is 60\n"
     ]
    }
   ],
   "source": [
    "# set three index\n",
    "index = [7, 13, 33, 60, 84, 96, 111]\n",
    "index.sort()\n",
    "mid = int(len(index) / 2) \n",
    "print(mid)\n",
    "print(\"middle is\",index[mid])"
   ]
  }
 ],
 "metadata": {
  "kernelspec": {
   "display_name": "Python 3.8.10 64-bit",
   "language": "python",
   "name": "python3"
  },
  "language_info": {
   "codemirror_mode": {
    "name": "ipython",
    "version": 3
   },
   "file_extension": ".py",
   "mimetype": "text/x-python",
   "name": "python",
   "nbconvert_exporter": "python",
   "pygments_lexer": "ipython3",
   "version": "3.8.10"
  },
  "orig_nbformat": 4,
  "vscode": {
   "interpreter": {
    "hash": "916dbcbb3f70747c44a77c7bcd40155683ae19c65e1c03b4aa3499c5328201f1"
   }
  }
 },
 "nbformat": 4,
 "nbformat_minor": 2
}
