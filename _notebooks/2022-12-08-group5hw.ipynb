{
 "cells": [
  {
   "cell_type": "markdown",
   "metadata": {},
   "source": [
    "# 3.9 and 3.11 Student Lesson (group 5)\n",
    "> My homework for the 3.9 and 3.11 lesson\n",
    "\n",
    "- toc: true\n",
    "- comments: true\n",
    "- permalink: /students/groupfive\n",
    "- image: /images/thumbsup.jpg\n",
    "- categories: [week 15]\n"
   ]
  },
  {
   "cell_type": "markdown",
   "metadata": {},
   "source": [
    "#### Hacks 1\n",
    "\n",
    "- why is it important to know that algorithms that look different can do the same thing and that algorithms that look the same might have different results?(0.15)\n",
    "- for the converted conditional to boolean conversion(0.10)\n",
    "- total: 0.25"
   ]
  },
  {
   "cell_type": "markdown",
   "metadata": {},
   "source": [
    "- Why is it important to know that algorithms that look different can do the same thing and that algorithms that look the same might have different results?\n",
    "    - This knowledge is important since it will cause people to look at and compare code more carefully. We can catch mistakes, make code more efficient, and overall learn from others. Mistakes are learning too!"
   ]
  },
  {
   "cell_type": "code",
   "execution_count": null,
   "metadata": {},
   "outputs": [],
   "source": [
    "# Conditional in conversion hack: Should Alexa go into school and work during first period offroll\n",
    "isalexatired = True\n",
    "havehw = True\n",
    "\n",
    "if isalexatired == True and havehw == False:\n",
    "    print(\"Stay home and sleep!\")\n",
    "else:\n",
    "    if havehw == True:\n",
    "        print(\"Go to school\")\n",
    "    else:\n",
    "        print(\"Stay home and sleep!\")\n",
    "\n",
    "# Boolean conversion\n",
    "gotoschool = not(isalexatired) or isalexatired and havehw\n",
    "if gotoschool == True:\n",
    "    print(\"Go do you work at school!\")\n",
    "if gotoschool == False:\n",
    "    print(\"Stay home and sleep queen\")\n"
   ]
  },
  {
   "cell_type": "markdown",
   "metadata": {},
   "source": [
    "#### Hacks 2\n",
    "\n",
    "Develop your own complex algorithm using a flowchart and natural language, then code it!\n",
    "\n",
    "Requirements:\n",
    "- Includes both a flowchart AND natural language\n",
    "- Working code of the same algorithm\n",
    "- Incorporates selection AND/OR iteration\n",
    "- Make it creative!"
   ]
  },
  {
   "cell_type": "markdown",
   "metadata": {},
   "source": [
    "### Natural Language for Netflix Code\n",
    "1. Input what show user is looking for\n",
    "2. check if show is in showdictionary\n",
    "3. If it is in dictionary, move onto step 4. If not, print \"show is not available on Netflix\"\n",
    "4. check if the show has a rating of 3 or higher \n",
    "5. If it does, print \"show is recommended\"; if it doesn't print \"how is not recommended\"\n",
    "\n",
    "- Flow chart is in review ticket"
   ]
  },
  {
   "cell_type": "code",
   "execution_count": 1,
   "metadata": {},
   "outputs": [
    {
     "name": "stdout",
     "output_type": "stream",
     "text": [
      "You is available on Netflix\n",
      "show/movie is recommended\n"
     ]
    }
   ],
   "source": [
    "# to test if a show is included in Netflix, and if it is recommended\n",
    "showdictionary = {\n",
    "    'Wednesday':5,  # key=title name and value=rating out of 5 stars\n",
    "    'You':3, \n",
    "    'Knight Before Christmas':4, \n",
    "    'Red Notice':5,\n",
    "    'Truth or Dare':1\n",
    "}\n",
    "show = input(\"What show are you looking for?\")\n",
    "if show in showdictionary.keys():\n",
    "    print(show + \" is available on Netflix\")\n",
    "    if showdictionary[show] >= 3:\n",
    "         print(\"show/movie is recommended\")\n",
    "    else:\n",
    "        print(\"show is not recommended\")\n",
    "else:\n",
    "    print(show + \" is not available on Netflix\")"
   ]
  },
  {
   "cell_type": "markdown",
   "metadata": {},
   "source": [
    "#### Hacks 3\n",
    "\n",
    "Fix the number guessing game\n",
    "1. Make a flow chart for the algorithm number guessing game\n",
    "2. Make a function that gets the user guess\n",
    "3. Modify the existing search function to give more encouraging feedback"
   ]
  },
  {
   "cell_type": "code",
   "execution_count": 5,
   "metadata": {},
   "outputs": [
    {
     "name": "stdout",
     "output_type": "stream",
     "text": [
      "I'm thinking of a number between 1 and 100.\n",
      "You guessed 78.\n",
      "you guessed too high\n",
      "Guess a number between 0 and 78.\n",
      "You guessed 32.\n",
      "you guessed too low\n",
      "Guess a number between 32 and 78.\n",
      "You guessed 45.\n",
      "you guessed too low\n",
      "Guess a number between 45 and 78.\n",
      "You guessed 66.\n",
      "you guessed too low\n",
      "Guess a number between 66 and 78.\n",
      "You guessed 72.\n",
      "you guessed too high\n",
      "Guess a number between 66 and 72.\n",
      "You guessed 69.\n",
      "you guessed too high\n",
      "Guess a number between 66 and 69.\n",
      "You guessed 67.\n",
      "Guess a number between 66 and 69.\n",
      "You guessed .\n"
     ]
    },
    {
     "ename": "ValueError",
     "evalue": "invalid literal for int() with base 10: ''",
     "output_type": "error",
     "traceback": [
      "\u001b[0;31m---------------------------------------------------------------------------\u001b[0m",
      "\u001b[0;31mValueError\u001b[0m                                Traceback (most recent call last)",
      "\u001b[1;32m/home/alexac54767/vscode/Alexa-Fastpage/_notebooks/2022-12-08-group5hw.ipynb Cell 9\u001b[0m in \u001b[0;36m<cell line: 34>\u001b[0;34m()\u001b[0m\n\u001b[1;32m     <a href='vscode-notebook-cell://wsl%2Bubuntu/home/alexac54767/vscode/Alexa-Fastpage/_notebooks/2022-12-08-group5hw.ipynb#W6sdnNjb2RlLXJlbW90ZQ%3D%3D?line=35'>36</a>\u001b[0m     num_guesses \u001b[39m+\u001b[39m\u001b[39m=\u001b[39m \u001b[39m1\u001b[39m\n\u001b[1;32m     <a href='vscode-notebook-cell://wsl%2Bubuntu/home/alexac54767/vscode/Alexa-Fastpage/_notebooks/2022-12-08-group5hw.ipynb#W6sdnNjb2RlLXJlbW90ZQ%3D%3D?line=36'>37</a>\u001b[0m     \u001b[39mprint\u001b[39m(\u001b[39mf\u001b[39m\u001b[39m\"\u001b[39m\u001b[39mYou guessed \u001b[39m\u001b[39m{\u001b[39;00muser_guess\u001b[39m}\u001b[39;00m\u001b[39m.\u001b[39m\u001b[39m\"\u001b[39m)\n\u001b[0;32m---> <a href='vscode-notebook-cell://wsl%2Bubuntu/home/alexac54767/vscode/Alexa-Fastpage/_notebooks/2022-12-08-group5hw.ipynb#W6sdnNjb2RlLXJlbW90ZQ%3D%3D?line=37'>38</a>\u001b[0m     lower_bound, upper_bound \u001b[39m=\u001b[39m search(number, \u001b[39mint\u001b[39;49m(user_guess))\n\u001b[1;32m     <a href='vscode-notebook-cell://wsl%2Bubuntu/home/alexac54767/vscode/Alexa-Fastpage/_notebooks/2022-12-08-group5hw.ipynb#W6sdnNjb2RlLXJlbW90ZQ%3D%3D?line=38'>39</a>\u001b[0m     \u001b[39mprint\u001b[39m(\u001b[39mf\u001b[39m\u001b[39m\"\u001b[39m\u001b[39mGuess a number between \u001b[39m\u001b[39m{\u001b[39;00mlower_bound\u001b[39m}\u001b[39;00m\u001b[39m and \u001b[39m\u001b[39m{\u001b[39;00mupper_bound\u001b[39m}\u001b[39;00m\u001b[39m.\u001b[39m\u001b[39m\"\u001b[39m)\n\u001b[1;32m     <a href='vscode-notebook-cell://wsl%2Bubuntu/home/alexac54767/vscode/Alexa-Fastpage/_notebooks/2022-12-08-group5hw.ipynb#W6sdnNjb2RlLXJlbW90ZQ%3D%3D?line=40'>41</a>\u001b[0m \u001b[39mif\u001b[39;00m user_guess \u001b[39m==\u001b[39m number:   \n",
      "\u001b[0;31mValueError\u001b[0m: invalid literal for int() with base 10: ''"
     ]
    }
   ],
   "source": [
    "import random\n",
    "\n",
    "#sets variables for the game\n",
    "num_guesses = 0\n",
    "user_guess = 0\n",
    "upper_bound = 100\n",
    "lower_bound = 0\n",
    "\n",
    "#generates a random number\n",
    "number = random.randint(1,100)\n",
    "\n",
    "# print(number)     #for testing purposes\n",
    "\n",
    "print(f\"I'm thinking of a number between 1 and 100.\")\n",
    "\n",
    "#Write a function that gets a guess from the user using input()\n",
    "def guess():\n",
    "    guess = input(\"What is your guess? (between 1 and 100)\")\n",
    "    return guess\n",
    "\n",
    "#Change the print statements to give feedback on whether the player guessed too high or too low\n",
    "def search(number, guess):\n",
    "    global lower_bound, upper_bound\n",
    "    if int(guess) < number:\n",
    "        print(\"you guessed too low\") #change this\n",
    "        lower_bound = guess\n",
    "    elif int(guess) > number:\n",
    "        print(\"you guessed too high\") #change this\n",
    "        upper_bound = guess\n",
    "    return lower_bound, upper_bound\n",
    "\n",
    "\n",
    "\n",
    "while user_guess != number:\n",
    "    user_guess = guess()\n",
    "    num_guesses += 1\n",
    "    print(f\"You guessed {user_guess}.\")\n",
    "    lower_bound, upper_bound = search(number, user_guess)\n",
    "    print(f\"Guess a number between {lower_bound} and {upper_bound}.\")\n",
    "\n",
    "  \n",
    "print(f\"You guessed the number in {num_guesses} guesses!\")"
   ]
  },
  {
   "cell_type": "markdown",
   "metadata": {},
   "source": [
    "### Hacks 4\n",
    "\n",
    "1. calculate the middle index and create a binary tree for each of these lists\n",
    "    - 12, 14, 43, 57, 79, 80, 99 = <mark>57</mark>\n",
    "    - 92, 43, 74, 66, 30, 12, 1 = in order: 1, 12, 30, 43, 66, 74, 92 = <mark>43</mark>\n",
    "    - 7, 13, 96, 111, 33, 84, 60 = in order: 7, 13, 33, 60, 84, 96, 111 = <mark>60</mark>\n",
    "2. Using one of the sets of numbers from the question above, what would be the second number looked at in a binary search if the number is more than the middle number?:\n",
    "    - In the first set of numbers, the second number looked at in a binary search if it is more than the middle number would be <mark>66</mark>.\n",
    "3. Which of the following lists can NOT a binary search be used in order to find a targeted value?\n",
    "\n",
    "    a. [\"amy\", \"beverly\", \"christian\", \"devin\"]\n",
    "\n",
    "    b. [-1, 2, 6, 9, 19]\n",
    "\n",
    "    c. [3, 2, 8, 12, 99]\n",
    "    \n",
    "    d. [\"xylophone\", \"snowman\", \"snake\", \"doorbell\", \"author\"]\n",
    "\n",
    "    Answer = <mark>A</mark> (even #)"
   ]
  }
 ],
 "metadata": {
  "kernelspec": {
   "display_name": "Python 3.8.10 64-bit",
   "language": "python",
   "name": "python3"
  },
  "language_info": {
   "codemirror_mode": {
    "name": "ipython",
    "version": 3
   },
   "file_extension": ".py",
   "mimetype": "text/x-python",
   "name": "python",
   "nbconvert_exporter": "python",
   "pygments_lexer": "ipython3",
   "version": "3.8.10"
  },
  "orig_nbformat": 4,
  "vscode": {
   "interpreter": {
    "hash": "916dbcbb3f70747c44a77c7bcd40155683ae19c65e1c03b4aa3499c5328201f1"
   }
  }
 },
 "nbformat": 4,
 "nbformat_minor": 2
}
