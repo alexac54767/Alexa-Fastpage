{
 "cells": [
  {
   "cell_type": "markdown",
   "metadata": {},
   "source": [
    "# 3.12 and 3.13 Student Lesson (group 6)\n",
    "> My homework for the 3.12-3.13 lesson\n",
    "\n",
    "- toc: true\n",
    "- comments: true\n",
    "- permalink: /students/groupsix\n",
    "- image: /images/thumbsup.jpg\n",
    "- categories: [week 15]\n"
   ]
  },
  {
   "cell_type": "markdown",
   "metadata": {},
   "source": [
    "## Hacks\n",
    "### Topic 3.12 (3.A):\n",
    "1. Define **procedure** and **parameter** in your own words\n",
    "2. Paste a **screenshot** of completion of the quiz\n",
    "3. Define **Return Values** and **Output Parameters** in your own words\n",
    "4. Code a **procedure** that finds the square root of any given number. (make sure to call and return the function)\n",
    "\n",
    "\n",
    "### Topic 3.13 (3.B):\n",
    "1. Explain, in your own words, why abstracting away your program logic into separate, modular functions is effective\n",
    "2. Create a procedure that uses other sub-procedures (other functions) within it and explain why the abstraction was needed (conciseness, shared behavior, etc.)\n",
    "3. Add another layer of abstraction to the word counter program (HINT: create a function that can count the number of words starting with ANY character in a given string -- how can we leverage parameters for this?)\n",
    "\n",
    "\n",
    "### Topic 3.13 (3.C):\n",
    "1. Define <font color=\"#ffffc2\" style=\"font-weight: bold\">procedure names</font> and <font color=\"#ffffc2\" style=\"font-weight: bold\">arguments</font> in your own words.\n",
    "2. Code some <font color=\"#ffffc2\" style=\"font-weight: bold\">procedures</font> that use <font color=\"#ffffc2\" style=\"font-weight: bold\">arguments</font> and <font color=\"#ffffc2\" style=\"font-weight: bold\">parameters</font> with Javascript and HTML (make sure they are interactive on your hacks page, allowing the user to input numbers and click a button to produce an output)\n",
    "  - Add two numbers\n",
    "  - Subtract two numbers\n",
    "  - Multiply two numbers\n",
    "  - Divide two numbers"
   ]
  },
  {
   "cell_type": "markdown",
   "metadata": {},
   "source": [
    "## Hack 1 Defining\n",
    "- **Procedure**: a procedure is like a function (it carries out an action)\n",
    "- **Parameter**: a parameter is a variable that holds data from previously in the function\n",
    "- **Return Values**: return values are what is returned after the \"return\" statement <- they allow for the data to be refrenced later in the code (ex: print)\n",
    "- **Output Parameters**: the parameters that refrence the output of a previous function"
   ]
  },
  {
   "cell_type": "code",
   "execution_count": 10,
   "metadata": {},
   "outputs": [
    {
     "name": "stdout",
     "output_type": "stream",
     "text": [
      "Question: What is are correct names for a procedure? \n",
      " A) Method \n",
      " B) Function \n",
      " C) Both\n",
      "Answer: c\n",
      "Correct :) \n",
      "\n",
      "Question: What is a procedure? \n",
      " A) Sequencing \n",
      " B) Selection \n",
      " C) Iteration \n",
      " D) All\n",
      "Answer: d\n",
      "Correct :) \n",
      "\n",
      "Question: Use this for following question: \n",
      " def inchesToFeet(lengthInches): \n",
      "\t lengthFeet = lengthInches / 12 \n",
      "\t return lengthFeet \n",
      "\n",
      " What is the procedure name, the parameter, and what the procedure returns? \n",
      " A) feetToInches, lengthInches, lengthMeters \n",
      " B) inchesToFeet, lengthInches, lengthFeet \n",
      " C) inchesToFeet, lengthFeet, lengthInches \n",
      " D) lengthInches, inchesToFeet, lengthFeet\n",
      "Answer: b\n",
      "Correct :) \n",
      "\n",
      "Score: 3 / 3\n"
     ]
    }
   ],
   "source": [
    "# Your quiz\n",
    "questionNum = 3\n",
    "correct = 0\n",
    "questions = [\n",
    "    \"What is are correct names for a procedure? \\n A) Method \\n B) Function \\n C) Both\",\n",
    "    \"What is a procedure? \\n A) Sequencing \\n B) Selection \\n C) Iteration \\n D) All\",\n",
    "    \"Use this for following question: \\n def inchesToFeet(lengthInches): \\n\\t lengthFeet = lengthInches / 12 \\n\\t return lengthFeet \\n\\n What is the procedure name, the parameter, and what the procedure returns? \\n A) feetToInches, lengthInches, lengthMeters \\n B) inchesToFeet, lengthInches, lengthFeet \\n C) inchesToFeet, lengthFeet, lengthInches \\n D) lengthInches, inchesToFeet, lengthFeet\"]\n",
    "answers = [\"c\", \"d\", \"b\"]\n",
    "\n",
    "def qna(question, answer):\n",
    "    print(\"Question:\", question)\n",
    "    response = input()\n",
    "    print(\"Answer:\", response)\n",
    "    \n",
    "    if response.lower() == answer:\n",
    "        print(\"Correct :) \\n\")\n",
    "        global correct\n",
    "        correct += 1\n",
    "    else:\n",
    "        print(\"Incorrect :( \\n\")\n",
    "for x in range(questionNum):\n",
    "    qna(questions[x], answers[x])\n",
    "    \n",
    "print(\"Score:\", correct, \"/ 3\")"
   ]
  },
  {
   "cell_type": "code",
   "execution_count": 9,
   "metadata": {},
   "outputs": [
    {
     "name": "stdout",
     "output_type": "stream",
     "text": [
      "The square root of 4 is 2.0\n"
     ]
    }
   ],
   "source": [
    "# Hacks 1 #4\n",
    "import math\n",
    "number = input(\"What number would you like to take the square root of?\")\n",
    "def square_root_function(number):\n",
    "    square_root = math.sqrt(int(number))\n",
    "    return square_root\n",
    "print(\"The square root of \" + number + \" is \" + str(square_root_function(number)))"
   ]
  },
  {
   "cell_type": "markdown",
   "metadata": {},
   "source": [
    "## Hack 2\n",
    "1. Explain, in your own words, why abstracting away your program logic into separate, modular functions is effective:\n",
    "    - abstracting away your program logic into seperate functions is effective since it allows for you to be more time efficicent, and make fewer errors. If you need to identify/change an error, you have less to work with and change. Also, it is easier to follow, and can reference pre-existing functions (making the coding simpler)"
   ]
  },
  {
   "cell_type": "code",
   "execution_count": 13,
   "metadata": {},
   "outputs": [
    {
     "name": "stdout",
     "output_type": "stream",
     "text": [
      "TGLC 's overall score for the competition is  97.25\n",
      "Scores have been given to  ['Code 5', 'Coed', 'TGLC']\n"
     ]
    }
   ],
   "source": [
    "# Hack 2 #2 Procedure with sub-procedure\n",
    "\n",
    "# This code simulates the scoring at a cheerleading competition <- the overall score for the comp is 25% of your first performance (day 1) and 75% of your second performance (day 2)\n",
    "scores_given = [\"Code 5\", \"Coed\"]\n",
    "team_name = input(\"What is the name of your team?\")\n",
    "\n",
    "def combined_score(score1, score2): #defining this function makes it much simpiler when trying to score hundreds of teams\n",
    "    # instead of writing all of this code again for each team, it is used repeatedly\n",
    "    combined_score = ((0.25*score1)+(0.75*score2))\n",
    "    print(team_name,\"'s overall score for the competition is \", combined_score)\n",
    "    scores_given.append(team_name)\n",
    "   \n",
    "\n",
    "combined_score(score1 = int(input(\"what was your day 1 score?\")), score2 = int(input(\"what was you day 2 score?\")))\n",
    "print(\"Scores have been given to \", scores_given)"
   ]
  },
  {
   "cell_type": "code",
   "execution_count": 4,
   "metadata": {},
   "outputs": [
    {
     "name": "stdout",
     "output_type": "stream",
     "text": [
      "Words starting with your letter: 1\n"
     ]
    }
   ],
   "source": [
    "# Hack 2 #3 Adding a layer onto the word count (allowing any letter to be inputted)\n",
    "\n",
    "# this function takes a string as input and returns a list of words, where each word\n",
    "# is a separate element in the list\n",
    "def split_string(s):\n",
    "    # use the split() method to split the string into a list of words\n",
    "    words = s.split(\" \")\n",
    "\n",
    "\t# initialize a new list to hold all non-empty strings\n",
    "    new_words = []\n",
    "    for word in words:\n",
    "        if word != \"\":\n",
    "            # add all non-empty substrings of `words` to `new_words`\n",
    "            new_words.append(word)\n",
    "    \n",
    "    return words\n",
    "\n",
    "# this function takes a list of words as input and returns the number of words\n",
    "# that start with the given letter (case-insensitive)\n",
    "def count_words_starting_with_letter(words, letter):\n",
    "    count = 0\n",
    "    \n",
    "    # loop through the list of words and check if each word starts with the given letter\n",
    "    for word in words:\n",
    "        # use the lower() method to make the comparison case-insensitive\n",
    "        if word.lower().startswith(letter):\n",
    "            count += 1\n",
    "    \n",
    "    return count\n",
    "\n",
    "# this function takes a string as input and returns the number of words that start with 'a'\n",
    "def count_words_starting_with_a_in_string(s):\n",
    "    # use the split_string() function to split the input string into a list of words\n",
    "    words = split_string(s)\n",
    "    \n",
    "    # use the count_words_starting_with_letter() function to count the number of words\n",
    "    # that start with 'a' in the list of words\n",
    "    count = count_words_starting_with_letter(words, \"a\")\n",
    "    \n",
    "    return count\n",
    "\n",
    "# see above\n",
    "def count_words_starting_with_d_in_string(s):\n",
    "    words = split_string(s)\n",
    "    count = count_words_starting_with_letter(words, \"d\")\n",
    "    return count\n",
    "\n",
    "       \n",
    "    # this function takes a string as input and returns the number of words that start with any inputted letter\n",
    "def count_words_starting_with_l_letter(s):\n",
    "    l = input(\"What letter would you like to check?\")\n",
    "    words = split_string(s)\n",
    "    count = count_words_starting_with_letter(words, l)\n",
    "    return count\n",
    "\n",
    "\n",
    "# example usage:\n",
    "s = \"   This is  a  test  string! Don't you think this is cool? \"\n",
    "l_count = count_words_starting_with_l_letter(s)\n",
    "a_count = count_words_starting_with_a_in_string(s)\n",
    "d_count = count_words_starting_with_d_in_string(s)\n",
    "print(\"Words starting with your letter:\", l_count)"
   ]
  },
  {
   "cell_type": "markdown",
   "metadata": {},
   "source": [
    "## Hack 3\n",
    "- **procedure names**: the name of the function in which you are calling\n",
    "- **arguments**: values that are sent to a function when called for"
   ]
  },
  {
   "cell_type": "markdown",
   "metadata": {},
   "source": [
    "### Adding 2 Numbers\n",
    "<button id=\"enter\" onclick=\"print(a,b)\">Add</button>\n",
    "<p id=\"result\"></p>\n",
    "<script>\n",
    "    function print(a,b) {\n",
    "        document.getElementById(\"result\").innerHTML = a + b\n",
    "    }\n",
    "    var a = 1\n",
    "    var b = 2\n",
    "</script>\n",
    "\n",
    "```html\n",
    "<!-- function is called here -->\n",
    "<button id=\"enter\" onclick=\"print(a,b)\">Add</button> \n",
    "<p id=\"result\"></p>\n",
    "<!-- javascript -->\n",
    "<script>\n",
    "    function print(a,b) {\n",
    "        document.getElementById(\"result\").innerHTML = a + b // math\n",
    "    }\n",
    "    // variables are defined\n",
    "    var a = 1\n",
    "    var b = 2\n",
    "</script>\n",
    "```"
   ]
  },
  {
   "cell_type": "markdown",
   "metadata": {},
   "source": [
    "## Subtracting 2 Numbers\n",
    "<button id=\"enter\" onclick=print(a,b)>Subtract</button>\n",
    "<p id=\"result\"></p>\n",
    "<script>\n",
    "    function print(a,b) {\n",
    "        document.getElementById(\"result\").innerHTML = a - b\n",
    "    }\n",
    "    var a = 1\n",
    "    var b = 2\n",
    "</script>\n",
    "\n",
    "```html\n",
    "<!-- function is called here -->\n",
    "<button id=\"enter\" onclick=\"print(a,b)\">Subtract</button> \n",
    "<p id=\"result\"></p>\n",
    "<!-- javascript -->\n",
    "<script>\n",
    "    function print(a,b) {\n",
    "        document.getElementById(\"result\").innerHTML = a - b // math\n",
    "    }\n",
    "    // variables are defined\n",
    "    var a = 1\n",
    "    var b = 2\n",
    "</script>\n",
    "```"
   ]
  },
  {
   "cell_type": "markdown",
   "metadata": {},
   "source": [
    "## Multiplying 2 Numbers\n",
    "<button id=\"enter\" onclick=print(a,b)>Multiply</button>\n",
    "<p id=\"result\"></p>\n",
    "<script>\n",
    "    function print(a,b) {\n",
    "        document.getElementById(\"result\").innerHTML = a * b\n",
    "    }\n",
    "    var a = 1\n",
    "    var b = 2\n",
    "</script>\n",
    "\n",
    "```html\n",
    "<!-- function is called here -->\n",
    "<button id=\"enter\" onclick=\"print(a,b)\">Multiply</button> \n",
    "<p id=\"result\"></p>\n",
    "<!-- javascript -->\n",
    "<script>\n",
    "    function print(a,b) {\n",
    "        document.getElementById(\"result\").innerHTML = a * b // math\n",
    "    }\n",
    "    // variables are defined\n",
    "    var a = 1\n",
    "    var b = 2\n",
    "</script>\n",
    "```"
   ]
  },
  {
   "cell_type": "markdown",
   "metadata": {},
   "source": [
    "## Dividing 2 Numbers\n",
    "<button id=\"enter\" onclick=print(a,b)>Divide</button>\n",
    "<p id=\"result\"></p>\n",
    "<script>\n",
    "    function print(a,b) {\n",
    "        document.getElementById(\"result\").innerHTML = a / b\n",
    "    }\n",
    "    var a = 1\n",
    "    var b = 2\n",
    "</script>\n",
    "\n",
    "```html\n",
    "<!-- function is called here -->\n",
    "<button id=\"enter\" onclick=\"print(a,b)\">Divide</button> \n",
    "<p id=\"result\"></p>\n",
    "<!-- javascript -->\n",
    "<script>\n",
    "    function print(a,b) {\n",
    "        document.getElementById(\"result\").innerHTML = a / b // math\n",
    "    }\n",
    "    // variables are defined\n",
    "    var a = 1\n",
    "    var b = 2\n",
    "</script>\n",
    "```"
   ]
  }
 ],
 "metadata": {
  "kernelspec": {
   "display_name": "Python 3.9.12 ('base')",
   "language": "python",
   "name": "python3"
  },
  "language_info": {
   "codemirror_mode": {
    "name": "ipython",
    "version": 3
   },
   "file_extension": ".py",
   "mimetype": "text/x-python",
   "name": "python",
   "nbconvert_exporter": "python",
   "pygments_lexer": "ipython3",
   "version": "3.9.12"
  },
  "orig_nbformat": 4,
  "vscode": {
   "interpreter": {
    "hash": "8d841cfe698a1511308d5aa4c0fe72f09f5f5775a1c63a8ca9f781dcd6e4eb9f"
   }
  }
 },
 "nbformat": 4,
 "nbformat_minor": 2
}
