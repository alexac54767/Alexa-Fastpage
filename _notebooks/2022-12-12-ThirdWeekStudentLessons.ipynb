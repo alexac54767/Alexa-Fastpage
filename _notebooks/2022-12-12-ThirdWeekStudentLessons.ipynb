{
 "cells": [
  {
   "cell_type": "markdown",
   "metadata": {},
   "source": [
    "# Week 3 Student Lessons\n",
    "> A collection of all my hacks and learnings from week three of student lessons.\n",
    "\n",
    "- toc: false\n",
    "- comments: true\n",
    "- permalink: /studentlessons/weekthree\n",
    "- image: /images/thumbs up.jpg\n",
    "- categories: [week 16]"
   ]
  },
  {
   "cell_type": "markdown",
   "metadata": {},
   "source": [
    "## 3.12 and 3.13 Calling and Developing Procedures\n",
    "- A <mark>procedure</mark> = a named set of instructions that can take in parameters and return values\n",
    "    - May be called \"method\" or \"function\" in different programming languages\n",
    "- <mark>Parameters</mark> are independent variables used in the procedure to produce a result. It allows a procedure to execute without initially knowing specific input values\n",
    "- Procedures can be classified as sequencing, selection, and iteration\n",
    "\n",
    "### Calling Procedures\n",
    "- To call a procedure you would write the **name of the procedure** followed by the **parentheses with the parameters** of the procedure\n",
    "- Procedures do not require parameters, but the parentheses must be there (can be empty)"
   ]
  },
  {
   "cell_type": "code",
   "execution_count": 1,
   "metadata": {},
   "outputs": [
    {
     "name": "stdout",
     "output_type": "stream",
     "text": [
      "The product of 5 times 3 is 15\n"
     ]
    }
   ],
   "source": [
    "# Example of a procedure with parameters\n",
    "x = 5 # input calues can be changed when using parameters\n",
    "y = 3\n",
    "\n",
    "def multiply(x, y): # x and y are the parameters\n",
    "    product = x * y\n",
    "    return product\n",
    "\n",
    "answer = multiply(x, y) # this is calling the procedure\n",
    "print(\"The product of\", x, \"times\", y, \"is\", answer)"
   ]
  },
  {
   "cell_type": "markdown",
   "metadata": {},
   "source": [
    "### Determining the Result of a Procedure\n",
    "- To determine the result of a procedure or any code: follow code line by line and see what each one does\n",
    "\n",
    "- Using syntax, you can determine the result by\n",
    "\n",
    "   - function parameters\n",
    "   - return value and statements\n",
    "\n",
    "\n",
    "- return values:  write <mark>\"return\"</mark> followed by the expression you would like to return <mark>var</mark>\n",
    "\n",
    "\n",
    "- A <mark>return statement</mark> exits a function and instructs python to continue executing the program and to return a certain value\n",
    "\n",
    "- Value can be string, a tuple, or any other type that is being sent back to the main program "
   ]
  },
  {
   "cell_type": "code",
   "execution_count": 2,
   "metadata": {},
   "outputs": [],
   "source": [
    "# an example of calling a funtion with parameters \n",
    "def divide(num1,num2):\n",
    "      x = num1/num2\n",
    "      return x \n",
    "      # x = return value"
   ]
  },
  {
   "cell_type": "markdown",
   "metadata": {},
   "source": [
    "- <mark>Modularity</mark> - the practice of breaking a complex program into smaller, independent parts or modules that can be used and reused in different parts of the program\n",
    "- <mark>Abstraction</mark> - the practice of hiding the details of how a particular code or system works and exposing only the essential features or functions that are necessary for other parts of the program to use\n",
    "- <mark>Duplication</mark> - having multiple duplicate code blocks, often decreasing readability and efficiency\n",
    "- <mark>Logic</mark> - the sequence of steps and operations that a computer follows to execute a program, including the specific instructions and decision-making processes built into the code\n",
    "- <mark>Procedure</mark> - a module of code that is created to complete a certain task, this is basically a function\n",
    "- <mark>Procedure Name</mark> - the name that is given to a function/procedure\n",
    "- <mark>Parameters</mark> - a variable that is used in a function to allow for data to be imported into a function\n",
    "- <mark>Arguments</mark> - a way to provide information to a function, usually defined outside a function and then imported into a function with parameters"
   ]
  },
  {
   "cell_type": "code",
   "execution_count": 3,
   "metadata": {},
   "outputs": [
    {
     "name": "stdout",
     "output_type": "stream",
     "text": [
      "TGLC 's overall score for the competition is  97.25\n",
      "Scores have been given to  ['Code 5', 'Coed', 'TGLC']\n"
     ]
    }
   ],
   "source": [
    "# example of Modularity and Abstraction\n",
    "\n",
    "# This code simulates the scoring at a cheerleading competition <- the overall score for the comp is 25% of your first performance (day 1) and 75% of your second performance (day 2)\n",
    "scores_given = [\"Code 5\", \"Coed\"]\n",
    "team_name = input(\"What is the name of your team?\")\n",
    "\n",
    "def combined_score(score1, score2): #defining this function makes it much simpiler when trying to score hundreds of teams\n",
    "    # instead of writing all of this code again for each team, it is used repeatedly\n",
    "    combined_score = ((0.25*score1)+(0.75*score2))\n",
    "    print(team_name,\"'s overall score for the competition is \", combined_score)\n",
    "    scores_given.append(team_name)\n",
    "   \n",
    "\n",
    "combined_score(score1 = int(input(\"what was your day 1 score?\")), score2 = int(input(\"what was you day 2 score?\")))\n",
    "print(\"Scores have been given to \", scores_given)"
   ]
  },
  {
   "cell_type": "markdown",
   "metadata": {},
   "source": [
    "## 3.14-3.15 Libraries and Random Values"
   ]
  },
  {
   "cell_type": "markdown",
   "metadata": {},
   "source": [
    "**College Board Essential Knowledge**\n",
    " \n",
    "- A <mark>software library</mark> contains procedures that can be used in the creation of new programs.\n",
    "- Existing segments of code can come from internal or external sources, ie. libraries or previously written code.\n",
    "- **The use of libraries simplifies the task of creating complex programs.**\n",
    "- Application program interfaces (APIs) are specifications for how the procedures in a library behave and can be used.\n",
    "- Documentation for a library or API is necessary in understanding the key behaviors provided by the API/library and how to utilize them in your work."
   ]
  },
  {
   "cell_type": "markdown",
   "metadata": {},
   "source": [
    "**Defining a Library**\n",
    "\n",
    "- A <mark>library</mark> is a collection of code from an **external source** that can be used to add functionality to a program.\n",
    "- Libraries are very useful, as they can be used to save time and effort in the development process\n",
    "- Libraries are usually included in a program using a special keyword called <mark>\"import\"</mark> This keyword tells the program to look for the library and use its code"
   ]
  },
  {
   "cell_type": "markdown",
   "metadata": {},
   "source": [
    "**What is randomization?**\n",
    "- <mark>Randomization</mark> generates a value between two numbers. For example RANDOM(1,3) may result as 1 or 2 or 3"
   ]
  },
  {
   "cell_type": "code",
   "execution_count": 4,
   "metadata": {},
   "outputs": [
    {
     "name": "stdout",
     "output_type": "stream",
     "text": [
      "you're random number is 1\n",
      "better luck next time :(\n"
     ]
    }
   ],
   "source": [
    "import random # \"import\" and then the name of the library\n",
    "#imported library allows me to use their random number generator\n",
    "number = random.randint(0,100)\n",
    "print(\"you're random number is\",number)\n",
    "if number == 21:\n",
    "    print(\"you win!\")\n",
    "else:\n",
    "    print(\"better luck next time :(\")\n",
    "\n"
   ]
  },
  {
   "cell_type": "code",
   "execution_count": 5,
   "metadata": {},
   "outputs": [
    {
     "name": "stdout",
     "output_type": "stream",
     "text": [
      "your color is orange\n"
     ]
    }
   ],
   "source": [
    "# color spinner generator \n",
    "# another example of import random\n",
    "import random\n",
    "landed_on = random.randint(1,8)\n",
    "if landed_on <= 3:\n",
    "    color = \"green\"\n",
    "elif 4<= landed_on <= 5:\n",
    "    color = \"blue\"\n",
    "elif landed_on == 6:\n",
    "    color = \"purple\"\n",
    "elif landed_on == 7:\n",
    "    color = \"red\"\n",
    "elif landed_on == 8:\n",
    "    color = \"orange\"\n",
    "\n",
    "print(\"your color is\", color)"
   ]
  },
  {
   "cell_type": "markdown",
   "metadata": {},
   "source": [
    "### There are many different <mark>methods</mark> within the random library\n",
    "\n",
    "**seed()**\t          |  Initialize the random number generator\n",
    "\n",
    "**getstate()**      |  Returns the current internal state of the random number generator\n",
    "\n",
    "**setstate()**\t      |  Restores the internal state of the random number generator\n",
    "\n",
    "**getrandbits()**\t  |  Returns a number representing the random bits\n",
    "\n",
    "**randrange()**\t      |  Returns a random number between the given range\n",
    "\n",
    "**randint()**\t      |  Returns a random number between the given range\n",
    "\n",
    "**choice()**\t      |  Returns a random element from the given sequence\n",
    "\n",
    "**choices()**\t      |  Returns a list with a random selection from the given sequence\n",
    "\n",
    "**shuffle()**\t      |  Takes a sequence and returns the sequence in a random order\n",
    "\n",
    "**sample()**\t      |  Returns a given sample of a sequence\n",
    "\n",
    "**random()**\t      |  Returns a random float number between 0 and 1\n",
    "\n",
    "**uniform()**\t      |  Returns a random float number between two given parameters\n",
    "\n",
    "**betavariate()**\t  |  Returns a random float number between 0 and 1 based on the Beta distribution (used in statistics)\n",
    "\n",
    "**expovariate()**\t  |  Returns a random float number based on the Exponential distribution (used in statistics)\n",
    "\n",
    "**gammavariate()**\t  |  Returns a random float number based on the Gamma distribution (used in statistics)\n",
    "\n",
    "**gauss()**\t          |  Returns a random float number based on the Gaussian distribution (used in probability theories)\n",
    "\n",
    "**lognormvariate()**  |  Returns a random float number based on a log-normal distribution (used in probability theories)\n",
    "\n",
    "**normalvariate()**\t  |  Returns a random float number based on the normal distribution (used in probability theories)\n",
    "\n",
    "**vonmisesvariate()** |  Returns a random float number based on the von Mises distribution (used in directional statistics)\n",
    "\n",
    "**paretovariate()**\t  |  Returns a random float number based on the Pareto distribution (used in probability theories)\n",
    "\n",
    "**weibullvariate()**  |  Returns a random float number based on the Weibull distribution (used in statistics)\n"
   ]
  },
  {
   "cell_type": "markdown",
   "metadata": {},
   "source": [
    "- **Bits**: the smallest unit of data that a computer can process and store\n",
    "- **Bytes**: a unit of data that is eight binary digits long\n",
    "- **Hexadecimal**: a numbering system with base 16\n",
    "- **Nibble**: four consecutive binary digits or half of an 8-bit byte\n",
    "- **Binary Numbers**: a numbering scheme in which there are only two possible values for each digit -- 0 or 1 -- and is the basis for all binary code used in computing systems\n",
    "- **Unsigned Integer**: integers but have the property that they don't have a + or - sign associated with them\n",
    "- **Signed Integer**: integers that have a + or - sign associated with them\n",
    "- **Floating Point**: a positive or negative whole number with a decimal point\n",
    "- **Binary Data Abstractions**: \n",
    "- **Boolean**: a logical data type that can have only the values true or false\n",
    "- **ASCII**: (American Standard Code for Information Interchange) a standard code for characters stored in a computer or to be transmitted between computers\n",
    "- **Unicode**: a universal character encoding standard\n",
    "- **RGB**: a system for representing the colors to be used on a computer display\n",
    "- **Data Compression**: a reduction in the number of bits needed to represent data\n",
    "    - **Lossy**: data encoding and compression technique that deliberately discards some data in the compression process\n",
    "    - **Lossless**: restores and rebuilds file data in its original form after the file is decompressed"
   ]
  }
 ],
 "metadata": {
  "kernelspec": {
   "display_name": "Python 3.9.12 ('base')",
   "language": "python",
   "name": "python3"
  },
  "language_info": {
   "codemirror_mode": {
    "name": "ipython",
    "version": 3
   },
   "file_extension": ".py",
   "mimetype": "text/x-python",
   "name": "python",
   "nbconvert_exporter": "python",
   "pygments_lexer": "ipython3",
   "version": "3.9.12"
  },
  "orig_nbformat": 4,
  "vscode": {
   "interpreter": {
    "hash": "8d841cfe698a1511308d5aa4c0fe72f09f5f5775a1c63a8ca9f781dcd6e4eb9f"
   }
  }
 },
 "nbformat": 4,
 "nbformat_minor": 2
}
