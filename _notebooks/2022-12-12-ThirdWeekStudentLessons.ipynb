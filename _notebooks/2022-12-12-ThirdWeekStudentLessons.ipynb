{
 "cells": [
  {
   "cell_type": "markdown",
   "metadata": {},
   "source": [
    "# Week 3 Student Lessons\n",
    "> A collection of all my hacks and learnings from week three of student lessons.\n",
    "\n",
    "- toc: false\n",
    "- comments: true\n",
    "- permalink: /studentlessons/weekthree\n",
    "- image: /images/thumbs up.jpg\n",
    "- categories: [week 16]"
   ]
  },
  {
   "cell_type": "code",
   "execution_count": null,
   "metadata": {},
   "outputs": [],
   "source": []
  }
 ],
 "metadata": {
  "kernelspec": {
   "display_name": "Python 3.9.12 ('base')",
   "language": "python",
   "name": "python3"
  },
  "language_info": {
   "name": "python",
   "version": "3.9.12"
  },
  "orig_nbformat": 4,
  "vscode": {
   "interpreter": {
    "hash": "8d841cfe698a1511308d5aa4c0fe72f09f5f5775a1c63a8ca9f781dcd6e4eb9f"
   }
  }
 },
 "nbformat": 4,
 "nbformat_minor": 2
}
