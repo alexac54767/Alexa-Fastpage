{
 "cells": [
  {
   "cell_type": "markdown",
   "metadata": {},
   "source": [
    "# 3.14 and 3.15 Student Lesson (group 7)\n",
    "> My homework for the 3.14-3.15 lesson\n",
    "\n",
    "- toc: true\n",
    "- comments: true\n",
    "- permalink: /students/groupseven\n",
    "- image: /images/thumbsup.jpg\n",
    "- categories: [week 16]\n"
   ]
  },
  {
   "cell_type": "markdown",
   "metadata": {},
   "source": [
    "### Hack #1\n",
    "- Write a program that uses a library/libraries in any sort of manner.\n",
    "- Explain your work/code:\n",
    "    - <mark>this code below uses the pre-exisiting library \"random\" to generate a random number</mark>\n",
    "    - <mark>it uses the keyword \"input\" to include it in the code</mark>\n",
    "    - <mark>the random number is then used to see if you \"win\" the game or not</mark>"
   ]
  },
  {
   "cell_type": "code",
   "execution_count": 4,
   "metadata": {},
   "outputs": [
    {
     "name": "stdout",
     "output_type": "stream",
     "text": [
      "you're random number is 89\n",
      "better luck next time :(\n"
     ]
    }
   ],
   "source": [
    "import random\n",
    "number = random.randint(0,100)\n",
    "print(\"you're random number is\",number)\n",
    "if number == 21:\n",
    "    print(\"you win!\")\n",
    "else:\n",
    "    print(\"better luck next time :(\")\n",
    "\n"
   ]
  },
  {
   "cell_type": "markdown",
   "metadata": {},
   "source": [
    "### Hack 2\n",
    "\n",
    "* Define what an import random function do:\n",
    "    - <mark>an import random function would import the contents of the pre-existing random library so that you could use it in your code</mark>\n",
    "\n",
    "* List a few other things that we can import other than random:\n",
    "    - <mark> you can import more than just random. For example, you can import flask, math, or Numpy (a mathematical library).</mark>"
   ]
  },
  {
   "cell_type": "code",
   "execution_count": 7,
   "metadata": {},
   "outputs": [
    {
     "name": "stdout",
     "output_type": "stream",
     "text": [
      "The square root of 36 is 6.0\n"
     ]
    }
   ],
   "source": [
    "# another example of importing a library\n",
    "import math\n",
    "number = input(\"what number do you want to find the square root of?\")\n",
    "square_root = math.sqrt(int(number))\n",
    "print(\"The square root of\",number,\"is\",square_root)"
   ]
  },
  {
   "cell_type": "markdown",
   "metadata": {},
   "source": [
    "### Hack 3\n",
    "- For your hacks you need to create a random number generator that will simulate this situation:\n",
    "- There is a spinner divided into eight equal parts. 3 parts of the spinner are green, two parts are blue, one part is purple, one part is red, and one part is orange. How can you simulate this situation using a random number generator.\n",
    " \n",
    "- Also answer this question: What numbers can be outputted from RANDOM(12,20) and what numbers are excluded?:\n",
    "    - <mark>any number greater than or equal to 12 and less than or equal to 20 can be printed. (12,13,14,15,16,17,18,19,20)</mark>"
   ]
  },
  {
   "cell_type": "code",
   "execution_count": 9,
   "metadata": {},
   "outputs": [
    {
     "name": "stdout",
     "output_type": "stream",
     "text": [
      "your color is blue\n"
     ]
    }
   ],
   "source": [
    "# color spinner generator \n",
    "import random\n",
    "landed_on = random.randint(1,8)\n",
    "if landed_on <= 3:\n",
    "    color = \"green\"\n",
    "elif 4<= landed_on <= 5:\n",
    "    color = \"blue\"\n",
    "elif landed_on == 6:\n",
    "    color = \"purple\"\n",
    "elif landed_on == 7:\n",
    "    color = \"red\"\n",
    "elif landed_on == 8:\n",
    "    color = \"orange\"\n",
    "\n",
    "print(\"your color is\", color)"
   ]
  }
 ],
 "metadata": {
  "kernelspec": {
   "display_name": "Python 3.8.10 64-bit",
   "language": "python",
   "name": "python3"
  },
  "language_info": {
   "codemirror_mode": {
    "name": "ipython",
    "version": 3
   },
   "file_extension": ".py",
   "mimetype": "text/x-python",
   "name": "python",
   "nbconvert_exporter": "python",
   "pygments_lexer": "ipython3",
   "version": "3.8.10"
  },
  "orig_nbformat": 4,
  "vscode": {
   "interpreter": {
    "hash": "916dbcbb3f70747c44a77c7bcd40155683ae19c65e1c03b4aa3499c5328201f1"
   }
  }
 },
 "nbformat": 4,
 "nbformat_minor": 2
}
