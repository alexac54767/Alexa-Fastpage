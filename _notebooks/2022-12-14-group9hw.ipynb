{
 "cells": [
  {
   "cell_type": "markdown",
   "metadata": {},
   "source": [
    "# 3.17 and 3.18 Student Lesson (group 9)\n",
    "> My homework for the 3.17-3.18 lesson\n",
    "\n",
    "- toc: true\n",
    "- comments: true\n",
    "- permalink: /students/groupnine\n",
    "- image: /images/thumbs up.jpg\n",
    "- categories: [week 16]\n"
   ]
  },
  {
   "cell_type": "markdown",
   "metadata": {},
   "source": [
    "### Hack 1: Collatz and printing Hailstone Numbers"
   ]
  },
  {
   "cell_type": "code",
   "execution_count": 1,
   "metadata": {},
   "outputs": [
    {
     "name": "stdout",
     "output_type": "stream",
     "text": [
      "Hailstone numbers:  [34, 17, 52, 26, 13, 40, 20, 10, 5, 16, 8, 4, 2, 1] \n",
      "Number of iterations:  13\n"
     ]
    }
   ],
   "source": [
    "sequence = []\n",
    "def combinedcollatz(i):\n",
    "    while i > 1:\n",
    "        if (i % 2):    # i is odd\n",
    "            sequence.append(i)\n",
    "            i = 3*i + 1\n",
    "        else:   # i is even\n",
    "            sequence.append(i)\n",
    "            i = i//2\n",
    "    if i == 1:\n",
    "        sequence.append(1)\n",
    "    else:\n",
    "        print(i, \"is invalid, please try again\") #this will print if the number is invalid\n",
    "i = int(input('Enter i: '))\n",
    "combinedcollatz(i)\n",
    "print(\"Hailstone numbers: \", sequence, \"\\nNumber of iterations: \", len(sequence)-1)"
   ]
  },
  {
   "cell_type": "markdown",
   "metadata": {},
   "source": [
    "### Hack 2: Write 2 algorithms (efficent/innefficent)"
   ]
  },
  {
   "cell_type": "code",
   "execution_count": 16,
   "metadata": {},
   "outputs": [
    {
     "name": "stdout",
     "output_type": "stream",
     "text": [
      "mmmm mmmm not enought studying my friend\n",
      "mmmm mmmm not enought studying my friend\n",
      "mmmm mmmm not enought studying my friend\n",
      "mmmm mmmm not enought studying my friend\n",
      "mmmm mmmm not enought studying my friend\n",
      "mmmm mmmm not enought studying my friend\n",
      "mmmm mmmm not enought studying my friend\n",
      "mmmm mmmm not enought studying my friend\n",
      "mmmm mmmm not enought studying my friend\n",
      "mmmm mmmm not enought studying my friend\n",
      "Great job! You've studied enough\n"
     ]
    }
   ],
   "source": [
    "i = 0 # efficient code\n",
    "while i < 10:\n",
    "    print(\"mmmm mmmm not enought studying my friend\")\n",
    "    i += 1 \n",
    "    if i >= 10:\n",
    "        print(\"Great job! You've studied enough\")\n",
    "        break"
   ]
  },
  {
   "cell_type": "code",
   "execution_count": 19,
   "metadata": {},
   "outputs": [
    {
     "name": "stdout",
     "output_type": "stream",
     "text": [
      "mmmm mmmm not enought studying my friend\n",
      "mmmm mmmm not enought studying my friend\n",
      "mmmm mmmm not enought studying my friend\n",
      "mmmm mmmm not enought studying my friend\n",
      "mmmm mmmm not enought studying my friend\n",
      "mmmm mmmm not enought studying my friend\n",
      "mmmm mmmm not enought studying my friend\n",
      "mmmm mmmm not enought studying my friend\n",
      "mmmm mmmm not enought studying my friend\n",
      "mmmm mmmm not enought studying my friend\n",
      "Great job! You've studied enough\n"
     ]
    }
   ],
   "source": [
    "i = 0  # Inefficient code\n",
    "if i == 0:\n",
    "    print(\"mmmm mmmm not enought studying my friend\")\n",
    "    i += 1\n",
    "if i == 1:\n",
    "    print(\"mmmm mmmm not enought studying my friend\")\n",
    "    i += 1\n",
    "if i == 2:\n",
    "    print(\"mmmm mmmm not enought studying my friend\")\n",
    "    i += 1\n",
    "if i == 3:\n",
    "    print(\"mmmm mmmm not enought studying my friend\")\n",
    "    i += 1\n",
    "if i == 4:\n",
    "    print(\"mmmm mmmm not enought studying my friend\")\n",
    "    i += 1\n",
    "if i == 5:\n",
    "    print(\"mmmm mmmm not enought studying my friend\")\n",
    "    i += 1\n",
    "if i == 6:\n",
    "    print(\"mmmm mmmm not enought studying my friend\")\n",
    "    i += 1\n",
    "if i == 7:\n",
    "    print(\"mmmm mmmm not enought studying my friend\")\n",
    "    i += 1\n",
    "if i == 8:\n",
    "    print(\"mmmm mmmm not enought studying my friend\")\n",
    "    i += 1\n",
    "if i == 9:\n",
    "    print(\"mmmm mmmm not enought studying my friend\")\n",
    "    i += 1\n",
    "if i >= 10:\n",
    "    print(\"Great job! You've studied enough\")\n",
    "    i += 1"
   ]
  },
  {
   "cell_type": "markdown",
   "metadata": {},
   "source": [
    "### The difference in efficiency \n",
    "- The inefficient piece of code uses an if statement for every single hour of studying. It has a lot of repetition like the print(\"mmmm mmmm not enought studying my friend\"), as well as the i += 1 for every single hour. \n",
    "- The efficient code uses a while loop. The small piece of code iterates through the hours, and compares them to the conditions. It doesn't have repetition (modularity), allowing it to be faster and easier to change/read with the same result."
   ]
  },
  {
   "cell_type": "markdown",
   "metadata": {},
   "source": [
    "### Hack 3 Algorithm efficiency: \n",
    "- Algorithm efficiency is the amount of \"effort\", or steps, that an algorithm must go through to complete it's purpose. An efficent algorithm is fast and goes through fewer proccesses."
   ]
  },
  {
   "cell_type": "markdown",
   "metadata": {},
   "source": [
    "### Hack 4 Daily Tasks"
   ]
  },
  {
   "cell_type": "code",
   "execution_count": 26,
   "metadata": {},
   "outputs": [
    {
     "name": "stdout",
     "output_type": "stream",
     "text": [
      "Doing now:  brush teeth\n",
      "Doing now:  skin care\n",
      "Doing now:  pack water/lunch\n",
      "Doing now:  go to school\n",
      "Doing now:  homework\n",
      "Done:  ['brush teeth', 'skin care', 'pack water/lunch', 'go to school', 'homework']\n"
     ]
    }
   ],
   "source": [
    "tasks = [\"brush teeth\", \"skin care\", \"pack water/lunch\", \"go to school\", \"homework\"]\n",
    "finished = []\n",
    " \n",
    "def complete_tasks(tasks):\n",
    "  for task in tasks:\n",
    "# code to complete each task goes here\n",
    "    print(\"Doing now: \", task)\n",
    "    finished.append(task)\n",
    "\n",
    " \n",
    "# and so on for each task in the list\n",
    " \n",
    "# call the function to complete the tasks\n",
    "complete_tasks(tasks)\n",
    "print(\"Done: \", finished)"
   ]
  },
  {
   "cell_type": "markdown",
   "metadata": {},
   "source": [
    "This code takes the item in the tasks list and prints them as they go. Then, it appends the item into a \"finished\" list. It is also an efficient algorithm since it utilizes a for loop and calls the item within the definition of the function."
   ]
  },
  {
   "cell_type": "markdown",
   "metadata": {},
   "source": [
    "### <mark>Extra Credit</mark>"
   ]
  },
  {
   "cell_type": "code",
   "execution_count": 30,
   "metadata": {},
   "outputs": [
    {
     "name": "stdout",
     "output_type": "stream",
     "text": [
      "Your schedule:  ['Offroll', 'AP Calculus AB', 'ASB', 'APCSP', 'Photography']\n",
      "Period 1:  Offroll  Time: 8:35 AM-9:44 AM\n",
      "Period 2:  AP Calculus AB Time: 9:49 AM-10:58 AM\n",
      "Break: 10:58 AM-11:08 AM\n",
      "Period 3:  ASB Time: 11:13 AM-12:22 PM\n",
      "Lunch: 12:22 PM-12:52 PM\n",
      "Period 4:  APCSP Time: 12:57 PM-2:06 PM\n",
      "Office Hours: 2:06 PM-2:31 PM\n",
      "Period 5:  Photography Time: 2:36 PM-3:45 PM\n"
     ]
    }
   ],
   "source": [
    "class_schedule = []\n",
    "i = 0\n",
    "while i < 5:\n",
    "    period = input(\"What is a class in your schedule?\")\n",
    "    class_schedule.append(period)\n",
    "    i += 1\n",
    "    if i == 5:\n",
    "        break\n",
    "print(\"Your schedule: \", class_schedule)\n",
    "print(\"Period 1: \", class_schedule[0], \" Time: 8:35 AM-9:44 AM\")\n",
    "print(\"Period 2: \", class_schedule[1], \"Time: 9:49 AM-10:58 AM\")\n",
    "print(\"Break: 10:58 AM-11:08 AM\")\n",
    "print(\"Period 3: \", class_schedule[2], \"Time: 11:13 AM-12:22 PM\")\n",
    "print(\"Lunch: 12:22 PM-12:52 PM\")\n",
    "print(\"Period 4: \", class_schedule[3], \"Time: 12:57 PM-2:06 PM\")\n",
    "print(\"Office Hours: 2:06 PM-2:31 PM\")\n",
    "print(\"Period 5: \", class_schedule[4], \"Time: 2:36 PM-3:45 PM\")"
   ]
  }
 ],
 "metadata": {
  "kernelspec": {
   "display_name": "Python 3.9.12 ('base')",
   "language": "python",
   "name": "python3"
  },
  "language_info": {
   "codemirror_mode": {
    "name": "ipython",
    "version": 3
   },
   "file_extension": ".py",
   "mimetype": "text/x-python",
   "name": "python",
   "nbconvert_exporter": "python",
   "pygments_lexer": "ipython3",
   "version": "3.9.12"
  },
  "orig_nbformat": 4,
  "vscode": {
   "interpreter": {
    "hash": "8d841cfe698a1511308d5aa4c0fe72f09f5f5775a1c63a8ca9f781dcd6e4eb9f"
   }
  }
 },
 "nbformat": 4,
 "nbformat_minor": 2
}
