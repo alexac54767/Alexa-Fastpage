{
 "cells": [
  {
   "cell_type": "markdown",
   "metadata": {},
   "source": [
    "# 3.17 and 3.18 Student Lesson (group 9)\n",
    "> My homework for the 3.17-3.18 lesson\n",
    "\n",
    "- toc: true\n",
    "- comments: true\n",
    "- permalink: /students/groupnine\n",
    "- image: /images/thumbs up.jpg\n",
    "- categories: [week 16]\n"
   ]
  },
  {
   "cell_type": "markdown",
   "metadata": {},
   "source": [
    "### Hack 1: Collatz and printing Hailstone Numbers"
   ]
  },
  {
   "cell_type": "code",
   "execution_count": 1,
   "metadata": {},
   "outputs": [
    {
     "name": "stdout",
     "output_type": "stream",
     "text": [
      "Hailstone numbers:  [34, 17, 52, 26, 13, 40, 20, 10, 5, 16, 8, 4, 2, 1] \n",
      "Number of iterations:  13\n"
     ]
    }
   ],
   "source": [
    "sequence = []\n",
    "def combinedcollatz(i):\n",
    "    while i > 1:\n",
    "        if (i % 2):    # i is odd\n",
    "            sequence.append(i)\n",
    "            i = 3*i + 1\n",
    "        else:   # i is even\n",
    "            sequence.append(i)\n",
    "            i = i//2\n",
    "    if i == 1:\n",
    "        sequence.append(1)\n",
    "    else:\n",
    "        print(i, \"is invalid, please try again\") #this will print if the number is invalid\n",
    "i = int(input('Enter i: '))\n",
    "combinedcollatz(i)\n",
    "print(\"Hailstone numbers: \", sequence, \"\\nNumber of iterations: \", len(sequence)-1)"
   ]
  },
  {
   "cell_type": "markdown",
   "metadata": {},
   "source": [
    "## Hacks/assignment\n",
    "\n",
    "- Write 2 algorithms: One is efficent and one is innefficent, then explain why one is efficent while the other isn't. (.25)\n",
    "- Explain why one algorithm is more efficient than another using mathematical and/or formal reasoning. (.25)\n",
    "- use variables, if statements, and loops to program your algorithm and upload to jupyter notebooks/ fastpages. (.25)"
   ]
  },
  {
   "cell_type": "markdown",
   "metadata": {},
   "source": [
    "### Hack 2: Write 2 algorithms (efficent/innefficent)"
   ]
  },
  {
   "cell_type": "code",
   "execution_count": 13,
   "metadata": {},
   "outputs": [
    {
     "name": "stdout",
     "output_type": "stream",
     "text": [
      "There are  1  negative numbers\n",
      "There are  1  negative numbers\n"
     ]
    }
   ],
   "source": [
    "# Ineffifcient code\n",
    "numbers = [2, -5, 8, 123, -46]\n",
    "negnumbers = 0\n",
    "def testforneg(n):\n",
    "    for n in numbers:\n",
    "        if n < 0:\n",
    "            negnumbers =+ 1\n",
    "            print (\"There are \", negnumbers, \" negative numbers\")\n",
    "            if negnumbers == 0:\n",
    "                print(\"There are no negative numbers!\")\n",
    "\n",
    "testforneg(numbers)"
   ]
  },
  {
   "cell_type": "code",
   "execution_count": 6,
   "metadata": {},
   "outputs": [],
   "source": [
    "# efficient code\n"
   ]
  }
 ],
 "metadata": {
  "kernelspec": {
   "display_name": "Python 3.9.12 ('base')",
   "language": "python",
   "name": "python3"
  },
  "language_info": {
   "codemirror_mode": {
    "name": "ipython",
    "version": 3
   },
   "file_extension": ".py",
   "mimetype": "text/x-python",
   "name": "python",
   "nbconvert_exporter": "python",
   "pygments_lexer": "ipython3",
   "version": "3.9.12"
  },
  "orig_nbformat": 4,
  "vscode": {
   "interpreter": {
    "hash": "8d841cfe698a1511308d5aa4c0fe72f09f5f5775a1c63a8ca9f781dcd6e4eb9f"
   }
  }
 },
 "nbformat": 4,
 "nbformat_minor": 2
}
