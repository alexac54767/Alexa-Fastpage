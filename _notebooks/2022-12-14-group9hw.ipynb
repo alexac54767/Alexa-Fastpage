{
 "cells": [
  {
   "cell_type": "markdown",
   "metadata": {},
   "source": [
    "# 3.17 and 3.18 Student Lesson (group 9)\n",
    "> My homework for the 3.17-3.18 lesson\n",
    "\n",
    "- toc: true\n",
    "- comments: true\n",
    "- permalink: /students/groupnine\n",
    "- image: /images/thumbs up.jpg\n",
    "- categories: [week 16]\n"
   ]
  },
  {
   "cell_type": "markdown",
   "metadata": {},
   "source": [
    "### Hack 1: Collatz and printing Hailstone Numbers"
   ]
  },
  {
   "cell_type": "code",
   "execution_count": 6,
   "metadata": {},
   "outputs": [
    {
     "name": "stdout",
     "output_type": "stream",
     "text": [
      "Please enter a number: \n",
      "Number of iterations: 13\n",
      "Hailstone numbers:  [34, 17.0, 52.0, 26.0, 13.0, 40.0, 20.0, 10.0, 5.0, 16.0, 8.0, 4.0, 2.0, 1.0]\n"
     ]
    }
   ],
   "source": [
    "# Hack 1: trying to combine the 2 and make it efficient\n",
    "def collatz(i):\n",
    "    while i != 1:\n",
    "        if i % 2 > 0:\n",
    "             i =((3 * i) + 1)\n",
    "             list_.append(i)\n",
    "        else:\n",
    "            i = (i / 2)\n",
    "            list_.append(i)\n",
    "    return list_\n",
    "\n",
    "print('Please enter a number: ', end='')\n",
    "while True:\n",
    "    try:\n",
    "        i = int(input())\n",
    "        list_ = [i]\n",
    "        break\n",
    "    except ValueError:\n",
    "            print('Invaid selection, try again: ', end='')\n",
    "l = collatz(i)\n",
    "print('')\n",
    "print('Number of iterations:', len(l) - 1)\n",
    "print(\"Hailstone numbers: \", list_)"
   ]
  },
  {
   "cell_type": "markdown",
   "metadata": {},
   "source": [
    "## Hacks/assignment\n",
    "\n",
    "- Write 2 algorithms: One is efficent and one is innefficent, then explain why one is efficent while the other isn't. (.25)\n",
    "- Explain why one algorithm is more efficient than another using mathematical and/or formal reasoning. (.25)\n",
    "- use variables, if statements, and loops to program your algorithm and upload to jupyter notebooks/ fastpages. (.25)"
   ]
  },
  {
   "cell_type": "markdown",
   "metadata": {},
   "source": [
    "### Hack 2: Write 2 algorithms (efficent/innefficent)"
   ]
  },
  {
   "cell_type": "code",
   "execution_count": null,
   "metadata": {},
   "outputs": [],
   "source": [
    "# Ineffifcient code\n"
   ]
  },
  {
   "cell_type": "code",
   "execution_count": null,
   "metadata": {},
   "outputs": [],
   "source": [
    "# efficient code\n",
    "numberstring = input(\"Input a number to find the sum of all the multiples of 3 or 5 below it. \")\n",
    "numbertocheck = int(numberstring)\n",
    "totalmultiples = 0\n",
    "if numbertocheck >= 0: # if the number is negative it will display the sum as 0\n",
    "    for n in range(numbertocheck+1):\n",
    "        if n/3 == int(n/3): #checks for multiples of 3\n",
    "            print(str(n) + \" is a multiple of 3\")\n",
    "            totalmultiples += n    #elif prevents duplicates of numbers with both multiples of 3 and 5\n",
    "        elif n/5 == int(n/5): # checks for multiples of 5\n",
    "            print(str(n) + \" is a multiple of 5\")\n",
    "            totalmultiples += n\n",
    "print(totalmultiples)"
   ]
  }
 ],
 "metadata": {
  "kernelspec": {
   "display_name": "Python 3.9.12 ('base')",
   "language": "python",
   "name": "python3"
  },
  "language_info": {
   "codemirror_mode": {
    "name": "ipython",
    "version": 3
   },
   "file_extension": ".py",
   "mimetype": "text/x-python",
   "name": "python",
   "nbconvert_exporter": "python",
   "pygments_lexer": "ipython3",
   "version": "3.9.12"
  },
  "orig_nbformat": 4,
  "vscode": {
   "interpreter": {
    "hash": "8d841cfe698a1511308d5aa4c0fe72f09f5f5775a1c63a8ca9f781dcd6e4eb9f"
   }
  }
 },
 "nbformat": 4,
 "nbformat_minor": 2
}
