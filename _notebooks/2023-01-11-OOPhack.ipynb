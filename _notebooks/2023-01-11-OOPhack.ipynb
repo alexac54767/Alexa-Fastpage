{
 "cells": [
  {
   "attachments": {},
   "cell_type": "markdown",
   "metadata": {},
   "source": [
    "# Trying hack from OOP and MOB Lesson\n",
    "\n",
    "- title: Model and Object-Oriented Programming Hack\n",
    "- toc: true\n",
    "- categories: []\n",
    "- type: pbl\n",
    "- week: 18"
   ]
  },
  {
   "cell_type": "code",
   "execution_count": 19,
   "metadata": {},
   "outputs": [
    {
     "name": "stdout",
     "output_type": "stream",
     "text": [
      "Test 1, find user 3\n"
     ]
    },
    {
     "ename": "AttributeError",
     "evalue": "'NoneType' object has no attribute 'gradyear'",
     "output_type": "error",
     "traceback": [
      "\u001b[0;31m---------------------------------------------------------------------------\u001b[0m",
      "\u001b[0;31mAttributeError\u001b[0m                            Traceback (most recent call last)",
      "\u001b[1;32m/home/alexac54767/vscode/Alexa-Fastpage/_notebooks/2023-01-11-OOPhack.ipynb Cell 2\u001b[0m in \u001b[0;36m<cell line: 52>\u001b[0;34m()\u001b[0m\n\u001b[1;32m     <a href='vscode-notebook-cell://wsl%2Bubuntu/home/alexac54767/vscode/Alexa-Fastpage/_notebooks/2023-01-11-OOPhack.ipynb#W0sdnNjb2RlLXJlbW90ZQ%3D%3D?line=59'>60</a>\u001b[0m \u001b[39m# Find user\u001b[39;00m\n\u001b[1;32m     <a href='vscode-notebook-cell://wsl%2Bubuntu/home/alexac54767/vscode/Alexa-Fastpage/_notebooks/2023-01-11-OOPhack.ipynb#W0sdnNjb2RlLXJlbW90ZQ%3D%3D?line=60'>61</a>\u001b[0m \u001b[39mprint\u001b[39m(\u001b[39m\"\u001b[39m\u001b[39mTest 1, find user 3\u001b[39m\u001b[39m\"\u001b[39m)\n\u001b[0;32m---> <a href='vscode-notebook-cell://wsl%2Bubuntu/home/alexac54767/vscode/Alexa-Fastpage/_notebooks/2023-01-11-OOPhack.ipynb#W0sdnNjb2RlLXJlbW90ZQ%3D%3D?line=61'>62</a>\u001b[0m s \u001b[39m=\u001b[39m tester(students, s\u001b[39m.\u001b[39;49mgradyear, s\u001b[39m.\u001b[39mdob, s\u001b[39m.\u001b[39mage)\n\u001b[1;32m     <a href='vscode-notebook-cell://wsl%2Bubuntu/home/alexac54767/vscode/Alexa-Fastpage/_notebooks/2023-01-11-OOPhack.ipynb#W0sdnNjb2RlLXJlbW90ZQ%3D%3D?line=62'>63</a>\u001b[0m \u001b[39m# Change user\u001b[39;00m\n\u001b[1;32m     <a href='vscode-notebook-cell://wsl%2Bubuntu/home/alexac54767/vscode/Alexa-Fastpage/_notebooks/2023-01-11-OOPhack.ipynb#W0sdnNjb2RlLXJlbW90ZQ%3D%3D?line=63'>64</a>\u001b[0m \u001b[39mprint\u001b[39m(\u001b[39m\"\u001b[39m\u001b[39mTest 2, change user 3\u001b[39m\u001b[39m\"\u001b[39m)\n",
      "\u001b[0;31mAttributeError\u001b[0m: 'NoneType' object has no attribute 'gradyear'"
     ]
    }
   ],
   "source": [
    "from datetime import date\n",
    "import json\n",
    "class Student:\n",
    "    # constructor of a User object, initializes the instance variables within object (self)\n",
    "    def __init__(self, name, dob, gradyear, age):\n",
    "        self._name = name    # variables with self prefix become part of the object,\n",
    "        self._dob = dob\n",
    "        self._gradyear = gradyear\n",
    "        self._age = age\n",
    "    # a name getter method, extracts name from object\n",
    "    @property\n",
    "    def name(self):\n",
    "        return self._name\n",
    "    # a setter function, allows name to be updated after initial object creation\n",
    "    @name.setter\n",
    "    def name(self, name):\n",
    "        self._name = name\n",
    "    # a name getter method, extracts birthday from object\n",
    "    @property\n",
    "    def dob(self):\n",
    "        return self._dob\n",
    "    # a setter function, allows dob to be updated after initial object creation\n",
    "    @dob.setter\n",
    "    def dob(self, name, dob):\n",
    "        self._dob = dob\n",
    "        def calculate_age(born):\n",
    "            today = date.today()\n",
    "            return today.year - born.year - ((today.month, today.day) < (born.month, born.day))\n",
    "    # a name getter method, extracts graduation year from object\n",
    "    @property\n",
    "    def gradyear(self):\n",
    "        return self._gradyear\n",
    "    # a setter function, allows grad year to be updated after initial object creation\n",
    "    @gradyear.setter\n",
    "    def gradyear(self, name, gradyear):\n",
    "        self._gradyear = gradyear\n",
    "    @property\n",
    "    def age(self):\n",
    "        return self._age\n",
    "    \n",
    "    \n",
    "# dob = date(2004, 12, 31)\n",
    "# age = calculate_age(dob)\n",
    "# print(age)\n",
    "# place tester code inside of special if!  This allows include without tester running\n",
    "def tester(name, dob, gradyear, age):\n",
    "    result = None\n",
    "    for student in students:\n",
    "        # test for match in database\n",
    "        return result\n",
    "\n",
    "if __name__ == \"__main__\":\n",
    "    # define user objects\n",
    "    s1 = Student(name='Ava Carlson', dob='2006, 05, 16', gradyear='2024', age='16')\n",
    "    s2 = Student(name='Alexa Carlson', dob='2006, 05, 16', gradyear='2024', age='16')\n",
    "    s3 = Student(name='Dylan Carlson', dob='2001, 08, 15', gradyear='2020', age='21')\n",
    "    s4 = Student(name='Grant Carlson', dob='2004, 03, 23', gradyear='2022', age='18')\n",
    "    # put user objects in list for convenience\n",
    "    students = [s1, s2, s3, s4]\n",
    "    # Find user\n",
    "    print(\"Test 1, find user 3\")\n",
    "    s = tester(students, s.gradyear, s.dob, s.age)\n",
    "    # Change user\n",
    "    print(\"Test 2, change user 3\")\n",
    "    s.name = \"Brian Carlson\"\n",
    "    s.gradyear = \"1995\"\n",
    "    s.age = \"40\"\n",
    "    s = tester(students, s.gradyear, s.dob, s.age)\n",
    "    # Make dictionary\n",
    "    '''\n",
    "    The __dict__ in Python represents a dictionary or any mapping object that is used to store the attributes of the object.\n",
    "    Every object in Python has an attribute that is denoted by __dict__.\n",
    "    Use the json.dumps() method to convert the list of Users to a JSON string.\n",
    "    '''\n",
    "    print(\"Test 3, make a dictionary\")\n",
    "    json_string = json.dumps([student.__dict__ for student in students])\n",
    "    print(json_string)\n",
    "    print(\"Test 4, make a dictionary\")\n",
    "    json_string = json.dumps([vars(student) for student in students])\n",
    "    print(json_string)"
   ]
  }
 ],
 "metadata": {
  "kernelspec": {
   "display_name": "Python 3",
   "language": "python",
   "name": "python3"
  },
  "language_info": {
   "codemirror_mode": {
    "name": "ipython",
    "version": 3
   },
   "file_extension": ".py",
   "mimetype": "text/x-python",
   "name": "python",
   "nbconvert_exporter": "python",
   "pygments_lexer": "ipython3",
   "version": "3.8.10"
  },
  "orig_nbformat": 4,
  "vscode": {
   "interpreter": {
    "hash": "916dbcbb3f70747c44a77c7bcd40155683ae19c65e1c03b4aa3499c5328201f1"
   }
  }
 },
 "nbformat": 4,
 "nbformat_minor": 2
}
