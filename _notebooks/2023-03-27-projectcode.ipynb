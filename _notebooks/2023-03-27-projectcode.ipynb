{
 "cells": [
  {
   "attachments": {},
   "cell_type": "markdown",
   "metadata": {},
   "source": [
    "#  Project Code\n",
    "> Planning and starting code for the Runtime Terror Project\n",
    "- toc: true\n",
    "- categories: [project, collegeboard, week 27, resources, binary]\n",
    "- type: pbl\n",
    "- week: 27"
   ]
  },
  {
   "attachments": {},
   "cell_type": "markdown",
   "metadata": {},
   "source": [
    "## Images Mini-Lesson:\n",
    "- Grey Scale\n",
    "    - use code from 2.2\n",
    "    - research how it relates to binary\n",
    "    - update code so user can access images from browser (doesn't have to download image)"
   ]
  },
  {
   "cell_type": "code",
   "execution_count": 2,
   "metadata": {},
   "outputs": [
    {
     "name": "stdout",
     "output_type": "stream",
     "text": [
      "---- meta data -----\n",
      "Green Square\n",
      "Internet\n",
      "PNG\n",
      "RGBA\n",
      "Original size:  (16, 16)\n",
      "Scaled size:  (320, 320)\n",
      "-- original image --\n"
     ]
    },
    {
     "data": {
      "text/html": [
       "<img src=\"data:image/png;base64,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\">"
      ],
      "text/plain": [
       "<IPython.core.display.HTML object>"
      ]
     },
     "metadata": {},
     "output_type": "display_data"
    },
    {
     "name": "stdout",
     "output_type": "stream",
     "text": [
      "--- grey image ----\n"
     ]
    },
    {
     "data": {
      "text/html": [
       "<img src=\"data:image/png;base64,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\">"
      ],
      "text/plain": [
       "<IPython.core.display.HTML object>"
      ]
     },
     "metadata": {},
     "output_type": "display_data"
    },
    {
     "name": "stdout",
     "output_type": "stream",
     "text": [
      "\n"
     ]
    }
   ],
   "source": [
    "## Base off of this lesson code:\n",
    "\n",
    "from IPython.display import HTML, display\n",
    "from pathlib import Path  # https://medium.com/@ageitgey/python-3-quick-tip-the-easy-way-to-deal-with-file-paths-on-windows-mac-and-linux-11a072b58d5f\n",
    "from PIL import Image as pilImage # as pilImage is used to avoid conflicts\n",
    "from io import BytesIO\n",
    "import base64\n",
    "import numpy as np\n",
    "\n",
    "# prepares a series of images\n",
    "def image_data(path=Path(\"images/\"), images=None):  # path of static images is defaulted\n",
    "    if images is None:  # default image\n",
    "        images = [\n",
    "            {'source': \"Internet\", 'label': \"Green Square\", 'file': \"green-square-16.png\"},\n",
    "        ]\n",
    "    for image in images:\n",
    "        # File to open\n",
    "        image['filename'] = path / image['file']  # file with path\n",
    "    return images\n",
    "\n",
    "# Large image scaled to baseWidth of 320\n",
    "def scale_image(img):\n",
    "    baseWidth = 320\n",
    "    scalePercent = (baseWidth/float(img.size[0]))\n",
    "    scaleHeight = int((float(img.size[1])*float(scalePercent)))\n",
    "    scale = (baseWidth, scaleHeight)\n",
    "    return img.resize(scale)\n",
    "\n",
    "# PIL image converted to base64\n",
    "def image_to_base64(img, format):\n",
    "    with BytesIO() as buffer:\n",
    "        img.save(buffer, format)\n",
    "        return base64.b64encode(buffer.getvalue()).decode()\n",
    "\n",
    "# Set Properties of Image, Scale, and convert to Base64\n",
    "def image_management(image):  # path of static images is defaulted        \n",
    "    # Image open return PIL image object\n",
    "    img = pilImage.open(image['filename'])\n",
    "    \n",
    "    # Python Image Library operations\n",
    "    image['format'] = img.format\n",
    "    image['mode'] = img.mode\n",
    "    image['size'] = img.size\n",
    "    # Scale the Image\n",
    "    img = scale_image(img)\n",
    "    image['pil'] = img\n",
    "    image['scaled_size'] = img.size\n",
    "    # Scaled HTML\n",
    "    image['html'] = '<img src=\"data:image/png;base64,%s\">' % image_to_base64(image['pil'], image['format'])\n",
    "    \n",
    "# Create Grey Scale Base64 representation of Image\n",
    "def image_management_add_html_grey(image):\n",
    "    # Image open return PIL image object\n",
    "    img = image['pil']\n",
    "    format = image['format']\n",
    "    \n",
    "    img_data = img.getdata()  # Reference https://www.geeksforgeeks.org/python-pil-image-getdata/\n",
    "    image['data'] = np.array(img_data) # PIL image to numpy array\n",
    "    image['gray_data'] = [] # key/value for data converted to gray scale\n",
    "\n",
    "    # 'data' is a list of RGB data, the list is traversed and hex and binary lists are calculated and formatted\n",
    "    for pixel in image['data']:\n",
    "        # create gray scale of image, ref: https://www.geeksforgeeks.org/convert-a-numpy-array-to-an-image/\n",
    "        average = (pixel[0] + pixel[1] + pixel[2]) // 3  # average pixel values and use // for integer division\n",
    "        if len(pixel) > 3:\n",
    "            image['gray_data'].append((average, average, average, pixel[3])) # PNG format\n",
    "        else:\n",
    "            image['gray_data'].append((average, average, average))\n",
    "        # end for loop for pixels\n",
    "        \n",
    "    img.putdata(image['gray_data'])\n",
    "    image['html_grey'] = '<img src=\"data:image/png;base64,%s\">' % image_to_base64(img, format)\n",
    "\n",
    "\n",
    "# Jupyter Notebook Visualization of Images\n",
    "if __name__ == \"__main__\":\n",
    "    # Use numpy to concatenate two arrays\n",
    "    images = image_data()\n",
    "    \n",
    "    # Display meta data, scaled view, and grey scale for each image\n",
    "    for image in images:\n",
    "        image_management(image)\n",
    "        print(\"---- meta data -----\")\n",
    "        print(image['label'])\n",
    "        print(image['source'])\n",
    "        print(image['format'])\n",
    "        print(image['mode'])\n",
    "        print(\"Original size: \", image['size'])\n",
    "        print(\"Scaled size: \", image['scaled_size'])\n",
    "        \n",
    "        print(\"-- original image --\")\n",
    "        display(HTML(image['html'])) \n",
    "        \n",
    "        print(\"--- grey image ----\")\n",
    "        image_management_add_html_grey(image)\n",
    "        display(HTML(image['html_grey'])) \n",
    "    print()"
   ]
  },
  {
   "attachments": {},
   "cell_type": "markdown",
   "metadata": {},
   "source": [
    "## How this Code utilizes binary:\n",
    "- I asked Chat GPT and this is what it said:\n",
    "- \"This code does not utilize binary directly, but it uses base64 encoding to represent the PIL image data in a format that can be displayed in HTML. The image_to_base64() function converts the PIL image data to a base64-encoded string, which is then used to embed the image in an HTML <img> tag. The base64-encoded string is essentially a binary representation of the image data that can be transmitted over the web. The resulting image is displayed using the display() function from IPython.display, which renders the HTML in the Jupyter Notebook environment.\""
   ]
  }
 ],
 "metadata": {
  "kernelspec": {
   "display_name": "base",
   "language": "python",
   "name": "python3"
  },
  "language_info": {
   "codemirror_mode": {
    "name": "ipython",
    "version": 3
   },
   "file_extension": ".py",
   "mimetype": "text/x-python",
   "name": "python",
   "nbconvert_exporter": "python",
   "pygments_lexer": "ipython3",
   "version": "3.9.12"
  },
  "orig_nbformat": 4
 },
 "nbformat": 4,
 "nbformat_minor": 2
}
