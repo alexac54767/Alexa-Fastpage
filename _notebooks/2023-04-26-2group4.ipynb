{
 "cells": [
  {
   "attachments": {},
   "cell_type": "markdown",
   "metadata": {},
   "source": [
    "# Group 4 (DevOps) Lesson and Hacks\n",
    "\n",
    "- toc: true\n",
    "- categories: [week 31, student lesson, group 4, Dev Ops]\n",
    "- type: pbl"
   ]
  },
  {
   "cell_type": "code",
   "execution_count": 4,
   "metadata": {},
   "outputs": [
    {
     "name": "stdout",
     "output_type": "stream",
     "text": [
      "142.251.211.238\n"
     ]
    }
   ],
   "source": [
    "import socket\n",
    "\n",
    "# Change the following host and see what IP it prints!\n",
    "host = \"youtube.com\"\n",
    "ip = socket.gethostbyname(host)\n",
    "\n",
    "print(ip)"
   ]
  },
  {
   "cell_type": "code",
   "execution_count": 5,
   "metadata": {},
   "outputs": [
    {
     "name": "stdout",
     "output_type": "stream",
     "text": [
      "Successfully connected!\n"
     ]
    }
   ],
   "source": [
    "# Initiate a TCP connection to port 80\n",
    "with socket.socket(socket.AF_INET, socket.SOCK_STREAM) as s:\n",
    "    s.connect((ip, 80))\n",
    "    print(\"Successfully connected!\")"
   ]
  },
  {
   "attachments": {},
   "cell_type": "markdown",
   "metadata": {},
   "source": [
    "## Check-In\n",
    "\n",
    "1. What is an IP address?\n",
    "    - An IP adress is a series of numbers that identifies a device on a network.\n",
    "2. What is a TCP port?\n",
    "    - A TCP stands for transmission control protocol and is port that establishes communication between a program and an IP address."
   ]
  },
  {
   "cell_type": "code",
   "execution_count": 6,
   "metadata": {},
   "outputs": [
    {
     "name": "stdout",
     "output_type": "stream",
     "text": [
      "HTTP/1.1 200 OK\n",
      "Date: Thu, 27 Apr 2023 17:32:17 GMT\n",
      "Expires: -1\n",
      "Cache-Control: private, max-age=0\n",
      "Content-Type: text/html; charset=ISO-8859-1\n",
      "Content-Security-Policy-Report-Only: object-src 'none';base-uri 'self';script-src 'nonce-HJ8EzyKULr-0WUXb249ZJg' 'strict-dynamic' 'report-sample' 'unsafe-eval' 'unsafe-inline' https: http:;report-uri https://csp.withgoogle.com/csp/gws/other-hp\n",
      "P3P: CP=\"This is not a P3P policy! See g.co/p3phelp for more info.\"\n",
      "Server: gws\n",
      "X-XSS-Protection: 0\n",
      "X-Frame-Options: SAMEORIGIN\n",
      "Set-Cookie: 1P_JAR=2023-04-27-17; expires=Sat, 27-May-2023 17:32:17 GMT; path=/; domain=.google.com; Secure\n",
      "Set-Cookie: AEC=AUEFqZcGtUallSukZhiZvxvVHpjlLlqYKQDPChiWVohkKQ-aljIZiN3-wQ; expires=Tue, 24-Oct-2023 17:32:17 GMT; path=/; domain=.google.com; Secure; HttpOnly; SameSite=lax\n",
      "Set-Cookie: NID=511=hlLTKBHmcnFpODfV-rY63Fht3UWc45_Z8xIf-R52ukTQZedR8VZ8iCdQXB4fEOoiKpO-Qvp7W80acsXa8j7c4mdhrijkWBn1V0AAL1bvShQ3KqHx42aVliuDPWm4izvY44clFDMy7mGiiNTBzFexEmU37TJSShBy2W3HhyrFVho; expires=Fri, 27-Oct-2023 17:32:17 GMT; path=/; domain=.google.com; HttpOnly\n",
      "Accept-Ranges: none\n",
      "Vary: Accept-Encoding\n",
      "Transfer-Encoding: chunked\n",
      "\n",
      "5996\n",
      "<!doctype html><html itemscope=\"\" itemtype=\"http://schema.org/WebPage\" lang=\"en\"><head><meta content=\"Search the world's information, including webpages, images, videos and more. Google has many special features to help you find exactly what you're looking for.\" name=\"description\"><meta content=\"noodp\" name=\"robots\"><meta content=\"text/html; charset=UTF-8\" http-equiv=\"Content-Type\"><meta content=\"/images/branding/googleg/1x/googleg_standard_color_128dp.png\" itemprop=\"image\"><title>Google</title><script nonce=\"HJ8EzyKULr-0WUXb249ZJg\">(function(){window.google={kEI:'obFKZK_cL5e50PEP_Kmj-AY',kEXPI:'0,1359409,1709,4350,206,4804,2316,383,246,5,1129120,1197695,699,380097,16114,28684,22430,1362,12311,17588,4998,13228,3847,3600,32618,2226,2872,2891,3926,8434,58287,2403,2614,12710,432,3,346,1244,1,16916,2652,4,1528,2304,29062,13065,11443,2215,2980,1457,16786,5821,2536,4094,7596,1,42154,\n"
     ]
    }
   ],
   "source": [
    "with socket.socket(socket.AF_INET, socket.SOCK_STREAM) as s:\n",
    "    s.connect((ip, 80))\n",
    "\n",
    "    # Send a GET request to \"/\"\n",
    "    s.sendall(b\"GET / HTTP/1.1\\r\\n\\r\\n\")\n",
    "\n",
    "    # Recieve & print 2048 bytes of data\n",
    "    data = s.recv(2048)\n",
    "    print(data.decode())"
   ]
  },
  {
   "cell_type": "code",
   "execution_count": 11,
   "metadata": {},
   "outputs": [
    {
     "name": "stdout",
     "output_type": "stream",
     "text": [
      "Status code: 200\n",
      "Headers: {'Content-Type': 'text/html; charset=utf-8', 'X-Content-Type-Options': 'nosniff', 'Cache-Control': 'no-cache, no-store, max-age=0, must-revalidate', 'Pragma': 'no-cache', 'Expires': 'Mon, 01 Jan 1990 00:00:00 GMT', 'Date': 'Thu, 27 Apr 2023 17:45:31 GMT', 'Strict-Transport-Security': 'max-age=31536000', 'X-Frame-Options': 'SAMEORIGIN', 'Cross-Origin-Opener-Policy': 'same-origin-allow-popups; report-to=\"youtube_main\"', 'Permissions-Policy': 'ch-ua-arch=*, ch-ua-bitness=*, ch-ua-full-version=*, ch-ua-full-version-list=*, ch-ua-model=*, ch-ua-wow64=*, ch-ua-platform=*, ch-ua-platform-version=*', 'Origin-Trial': 'AvC9UlR6RDk2crliDsFl66RWLnTbHrDbp+DiY6AYz/PNQ4G4tdUTjrHYr2sghbkhGQAVxb7jaPTHpEVBz0uzQwkAAAB4eyJvcmlnaW4iOiJodHRwczovL3lvdXR1YmUuY29tOjQ0MyIsImZlYXR1cmUiOiJXZWJWaWV3WFJlcXVlc3RlZFdpdGhEZXByZWNhdGlvbiIsImV4cGlyeSI6MTcxOTUzMjc5OSwiaXNTdWJkb21haW4iOnRydWV9', 'Report-To': '{\"group\":\"youtube_main\",\"max_age\":2592000,\"endpoints\":[{\"url\":\"https://csp.withgoogle.com/csp/report-to/youtube_main\"}]}', 'P3P': 'CP=\"This is not a P3P policy! See http://support.google.com/accounts/answer/151657?hl=en for more info.\"', 'Content-Encoding': 'gzip', 'Server': 'ESF', 'X-XSS-Protection': '0', 'Set-Cookie': 'GPS=1; Domain=.youtube.com; Expires=Thu, 27-Apr-2023 18:15:31 GMT; Path=/; Secure; HttpOnly, VISITOR_INFO1_LIVE=hVRgv3rZSwI; Domain=.youtube.com; Expires=Tue, 24-Oct-2023 17:45:31 GMT; Path=/; Secure; HttpOnly; SameSite=none', 'Alt-Svc': 'h3=\":443\"; ma=2592000,h3-29=\":443\"; ma=2592000', 'Transfer-Encoding': 'chunked'}\n",
      "Response text: <!DOCTYPE html><html style=\"font-size: 10px;font-family: Roboto, Arial, sans-serif;\" lang=\"en\" syste\n",
      "Content-Type: text/html; charset=utf-8\n",
      "Status code: 200\n",
      "Headers: {'Connection': 'keep-alive', 'Content-Length': '1603102', 'Last-Modified': 'Thu, 27 Apr 2023 17:45:02 GMT', 'ETag': '\"de376f0b3bce85447a2f05f8f1586a53\"', 'x-amz-server-side-encryption': 'AES256', 'Cache-Control': 'max-age=2592000', 'Content-Type': 'image/jpeg', 'Accept-Ranges': 'bytes', 'Date': 'Thu, 27 Apr 2023 17:45:32 GMT', 'Via': '1.1 varnish', 'Age': '0', 'X-Served-By': 'cache-mia-kmia1760063-MIA', 'X-Cache': 'MISS', 'X-Cache-Hits': '0', 'X-Timer': 'S1682617532.962313,VS0,VE293', 'Content-Security-Policy': \"default-src 'none'; script-src 'none'; img-src 'self'; media-src 'self'; sandbox;\", 'X-Fastly-Request-ID': '506d1c0dacc22c961721cee15c4118e23d8c8bed', 'Server': 'GitHub Cloud', 'Strict-Transport-Security': 'max-age=31536000; includeSubDomains', 'X-Content-Type-Options': 'nosniff', 'Timing-Allow-Origin': 'https://github.com'}\n",
      "Response text: ����\u0000\u0010JFIF\u0000\u0001\u0001\u0001\u0000H\u0000H\u0000\u0000��\u0002(ICC_PROFILE\u0000\u0001\u0001\u0000\u0000\u0002\u0018appl\u0004\u0000\u0000\u0000mntrRGB XYZ \u0007�\u0000\u0001\u0000\u0001\u0000\u0000\u0000\u0000\u0000\u0000acspAPPL\u0000\u0000\u0000\u0000APPL\u0000\u0000\u0000\u0000\u0000\u0000\u0000\u0000\u0000\u0000\n",
      "Content-Type: image/jpeg\n"
     ]
    }
   ],
   "source": [
    "import requests\n",
    "\n",
    "# Change the URL to whatever you'd like\n",
    "response = requests.get(\"https://youtube.com\")\n",
    "\n",
    "print(\"Status code:\", response.status_code)\n",
    "print(\"Headers:\", response.headers)\n",
    "print(\"Response text:\", response.text[:100])\n",
    "\n",
    "# Add a line to print the \"Content-Type\" header of the response\n",
    "print(\"Content-Type:\", response.headers.get(\"Content-Type\"))\n",
    "\n",
    "# Try an image URL!\n",
    "response = requests.get(\"https://user-images.githubusercontent.com/111482658/234948199-e0e5437c-afac-4f61-a861-e706c6054c4f.jpg\")\n",
    "print(\"Status code:\", response.status_code)\n",
    "print(\"Headers:\", response.headers)\n",
    "print(\"Response text:\", response.text[:100])\n",
    "print(\"Content-Type:\", response.headers.get(\"Content-Type\"))"
   ]
  },
  {
   "attachments": {},
   "cell_type": "markdown",
   "metadata": {},
   "source": [
    "# NGINX"
   ]
  },
  {
   "cell_type": "code",
   "execution_count": 12,
   "metadata": {},
   "outputs": [
    {
     "name": "stdout",
     "output_type": "stream",
     "text": [
      "<!doctype html>\n",
      "<html>\n",
      "<head>\n",
      "<title>Cool site</title>\n",
      "<meta name=\"description\" content=\"cool site for apcsp\">\n",
      "</head>\n",
      "<body>\n",
      "Hello, this is my cool site. Check out my products:\n",
      "<a href=\"/products\">Products!!</a>\n",
      "</body>\n",
      "</html>\n",
      "\n"
     ]
    }
   ],
   "source": [
    "aws = \"3.130.255.192\"\n",
    "\n",
    "response = requests.get(\"http://\" + aws)\n",
    "print(response.text)\n"
   ]
  },
  {
   "attachments": {},
   "cell_type": "markdown",
   "metadata": {},
   "source": [
    "## Configuration\n",
    "\n",
    "```nginx\n",
    "server {\n",
    "    // Listen on virtual \"port 80\"\n",
    "    listen 80;\n",
    "    listen [::]:80;\n",
    "    server_name 3.130.255.192;\n",
    "\n",
    "    location / {\n",
    "        // Inform server about original client\n",
    "        proxy_set_header        Host $host;\n",
    "        proxy_set_header        X-Real-IP $remote_addr;\n",
    "        proxy_set_header        X-Forwarded-For $proxy_add_x_forwarded_for;\n",
    "        proxy_set_header        X-Forwarded-Proto $scheme;\n",
    "\n",
    "        // Forward all requests transparently to the server running on our computer\n",
    "        proxy_pass              http://localhost:9099;\n",
    "    }\n",
    "}\n",
    "```\n",
    "\n",
    "### Load Balancing\n",
    "\n",
    "```nginx\n",
    "upstream example.com {\n",
    "    server server1.example.com;\n",
    "    server server1.example.com;\n",
    "}\n",
    "```\n",
    "\n",
    "### HTTP Headers\n",
    "\n",
    "```nginx\n",
    "server {\n",
    "    add_header X-Cool-Header \"I love APCSP!\";\n",
    "\n",
    "    location /pages {\n",
    "        add_header X-Cooler-Header \"This is my secret header!\";\n",
    "    }\n",
    "}\n",
    "```\n",
    "\n",
    "## Check In\n",
    "\n",
    "1. Research 1 HTTP header and describe, in detail, its purpose.\n",
    "    - This is an example of an HTTP header a user could include in their HTTP request: \n",
    "    - User-Agent: Mozilla/5.0 (Windows NT 10.0; Win64; x64) AppleWebKit/537.36 (KHTML, like Gecko) Chrome/90.0.4430.85 Safari/537.36\n",
    "    - This header is very useful for the server that needs to respond to the request. Since the user sent this information along with the request, it gives much more helpful information that can help the server with things like compatiability, security, and analyitics.\n",
    "\n",
    "2. Write a line in a sample NGINX configuration that will add that specific header to the `/information` location\n",
    "    - using your code/server from earlier, I can add a specific header to the '/information' location with this code\n",
    "    \n",
    "    ```nginx\n",
    "    server {\n",
    "    add_header X-Cool-Header \"I love APCSP!\";\n",
    "\n",
    "    location /pages {\n",
    "        add_header X-Cooler-Header \"This is my secret header!\";\n",
    "    }\n",
    "\n",
    "    location /information {\n",
    "        add_header Alexa-Header \"This is cool\";\n",
    "    }\n",
    "}\n",
    "\n",
    "3. Explain the purpose of the load balancing performed by NGINX\n",
    "    - Load balancing by NGINX distributes network traffic among many servers/computers. This improves efficiency, reliability and availability of the application.\n",
    "4. Modify the following code block to obtain the value of the secret header on `/products` of the AWS site\n"
   ]
  },
  {
   "cell_type": "code",
   "execution_count": 20,
   "metadata": {},
   "outputs": [
    {
     "name": "stdout",
     "output_type": "stream",
     "text": [
      "The secret header is: This is my secret header!\n"
     ]
    }
   ],
   "source": [
    "import requests\n",
    "\n",
    "aws = \"3.130.255.192\"\n",
    "\n",
    "response = requests.get(\"http://\" + aws + \"/products\")\n",
    "\n",
    "secret_header = response.headers.get('X-Cooler-Header')\n",
    "\n",
    "print(\"The secret header is:\", secret_header)\n"
   ]
  },
  {
   "attachments": {},
   "cell_type": "markdown",
   "metadata": {},
   "source": [
    "# Hacks\n",
    "\n",
    "- Complete the above check-in questions and change the hosts (0.1) &#x2705;\n",
    "- Complete the above code-segment to retrieve the secret header (0.1) &#x2705;\n",
    "\n",
    "## Bonus (0.05)\n",
    "\n",
    "Create a diagram showing the layers of abstraction that allow us to use HTTP (IP, TCP, etc.)\n",
    "\n",
    "- My diagram showing the internet and HTTP: <img width=\"1117\" alt=\"Alexa's Diagram\" src=\"https://user-images.githubusercontent.com/111482658/234961242-7b0dcf0d-51eb-43c9-a4f0-96c13d85c35f.png\">\n",
    "\n"
   ]
  },
  {
   "attachments": {},
   "cell_type": "markdown",
   "metadata": {},
   "source": [
    "# CORS Hacks\n",
    "\n",
    "1. Explain what CORS is and what it stands for\n",
    "    - CORS stands for Cross-Origin Resource Sharing. CORS prevents unauthorized access or manipulation of data since it blocks applications from making requests to a different domain or origin than originally specified.\n",
    "\n",
    "2. Describe how you would be able to implement CORS into your own websites\n",
    "    - I could implement CORS into my own websites by determining what orgins I want to restrict. I can then implement Access-Control-Allow-Origin: https://example.com to only allow this example origin. I could also use other CORS headers.\n",
    "\n",
    "3. Describe why you would want to implement CORS into your own websites\n",
    "    - I would want to implement CORS into my websites for security purposes. CORS can prevent unwanted attacks and manipulation.\n",
    "\n",
    "4. How could use CORS to benefit yourself in the future?\n",
    "    - CORS could benefit me in the future since I could have more secure websites as well as better preforming ones. \n",
    "\n",
    "Total: 0.2 points\n",
    "\n",
    "# KASM Hacks\n",
    "\n",
    "1. What is the purpose of \"sudo\" when running commands in terminal?\n",
    "    - \"Sudo\" overrides any issue needing permmision in the terminal. So, if I need to do a command that requires a higher-permmision than the root-user, I would put \"sudo\" in front of it.\n",
    "\n",
    "2. What are some commands which allow us to look at how the storage of a machine is set up as?\n",
    "    - Some command whoch allow us to look at how the storage of a machine is set up as are \"dir\", \"diskpart\", \"wmic logicaldisk get\" and \"diskmgmt.msc\" (on windows).\n",
    "\n",
    "3. What do you think are some alternatives to running \"curl -O\" to get the zip file for KASM?\n",
    "    - Some alternatives to running \"curl -O\" are to manually download the sip file using \"wget\" or to download and transfer it through something like Google-Drive.\n",
    "\n",
    "4. What kind of commands do you think the \"install.sh\" command has and why is it necessary to call it?\n",
    "    - Checking for system requirements\n",
    "    - Downloading necessary files\n",
    "    - Setting up environment\n",
    "    - Installing necessary packages or libraries\n",
    "    - \"install.sh\" is called to make the the installation process easier and more likely to be sucessful.\n",
    "\n",
    "5. Explain in at least 3-4 sentences how deploying KASM is related to/requires other topics talked about in the lesson and/or potential ways to add things mentioned in the lesson to this guide.\n",
    "    - Deploying KASM, the container-based streaming service, requires several components such as headers, NGINX, load balancing, configuration, DNS, and CORS. Headers are important for configuring security settings and enabling CORS for KASM. NGINX is used as a reverse proxy to handle incoming web traffic and load balancing is necessary for distributing the traffic among multiple server instances running KASM. Configuration is required to set up the KASM service and define the specific settings for the environment in which it will run. DNS is used to map the KASM domain name to its IP address, so users can access the service through a web browser. Overall, deploying KASM requires a comprehensive understanding of the technologies involved, including headers, NGINX, load balancing, configuration, DNS, and CORS. It is a complex process that requires careful planning and execution to ensure the service runs smoothly and securely.\n",
    "\n",
    "Total: 0.2 points"
   ]
  }
 ],
 "metadata": {
  "kernelspec": {
   "display_name": "base",
   "language": "python",
   "name": "python3"
  },
  "language_info": {
   "codemirror_mode": {
    "name": "ipython",
    "version": 3
   },
   "file_extension": ".py",
   "mimetype": "text/x-python",
   "name": "python",
   "nbconvert_exporter": "python",
   "pygments_lexer": "ipython3",
   "version": "3.9.12"
  },
  "orig_nbformat": 4
 },
 "nbformat": 4,
 "nbformat_minor": 2
}
