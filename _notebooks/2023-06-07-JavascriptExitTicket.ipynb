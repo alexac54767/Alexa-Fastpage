{
 "cells": [
  {
   "attachments": {},
   "cell_type": "markdown",
   "metadata": {},
   "source": [
    "# JavaScript Exit Ticket\n",
    "> My final Jupyter Notebook displaying my Javascript\n",
    "\n",
    "- layout: default\n",
    "- badges: false\n",
    "- permalink: /exitticket/javascript\n",
    "- categories: [javascript, week 36]\n",
    "- type: pbl\n",
    "- week: 36"
   ]
  },
  {
   "cell_type": "code",
   "execution_count": null,
   "metadata": {},
   "outputs": [],
   "source": []
  }
 ],
 "metadata": {
  "language_info": {
   "name": "python"
  },
  "orig_nbformat": 4
 },
 "nbformat": 4,
 "nbformat_minor": 2
}
