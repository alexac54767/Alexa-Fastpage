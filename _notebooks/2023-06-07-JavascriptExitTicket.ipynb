{
 "cells": [
  {
   "attachments": {},
   "cell_type": "markdown",
   "metadata": {},
   "source": [
    "# JavaScript Exit Ticket\n",
    "> My final Jupyter Notebook displaying my Javascript\n",
    "\n",
    "- layout: default\n",
    "- badges: false\n",
    "- permalink: /exitticket/javascript\n",
    "- categories: [javascript, week 36]\n",
    "- type: pbl\n",
    "- week: 36"
   ]
  },
  {
   "cell_type": "code",
   "execution_count": 3,
   "metadata": {},
   "outputs": [
    {
     "data": {
      "text/html": [
       "\n",
       "<div>\n",
       "  <label for=\"startTime\">Start Time:</label>\n",
       "  <input type=\"time\" id=\"startTime\" placeholder=\"Start Time\">\n",
       "</div>\n",
       "\n",
       "<div>\n",
       "  <label for=\"endTime\">End Time:</label>\n",
       "  <input type=\"time\" id=\"endTime\" placeholder=\"End Time\">\n",
       "</div>\n",
       "\n",
       "<button onclick=\"calculateTimeDifference()\">Calculate Time Difference</button>\n",
       "\n",
       "<p id=\"result\"></p>\n",
       "\n",
       "<script>\n",
       "function calculateTimeDifference() {\n",
       "  const startTime = document.getElementById('startTime').value;\n",
       "  const endTime = document.getElementById('endTime').value;\n",
       "\n",
       "  const startDate = new Date(`2000-01-01T${startTime}`);\n",
       "  const endDate = new Date(`2000-01-01T${endTime}`);\n",
       "\n",
       "  const timeDifference = Math.abs(endDate - startDate);\n",
       "  const hours = Math.floor(timeDifference / (1000 * 60 * 60));\n",
       "  const minutes = Math.floor((timeDifference % (1000 * 60 * 60)) / (1000 * 60));\n",
       "\n",
       "  const resultElement = document.getElementById('result');\n",
       "  resultElement.textContent = `Time difference: ${hours} hours and ${minutes} minutes`;\n",
       "}\n",
       "</script>\n"
      ],
      "text/plain": [
       "<IPython.core.display.HTML object>"
      ]
     },
     "metadata": {},
     "output_type": "display_data"
    }
   ],
   "source": [
    "%%html\n",
    "\n",
    "<div>\n",
    "  <label for=\"startTime\">Start Time:</label>\n",
    "  <input type=\"time\" id=\"startTime\" placeholder=\"Start Time\">\n",
    "</div>\n",
    "\n",
    "<div>\n",
    "  <label for=\"endTime\">End Time:</label>\n",
    "  <input type=\"time\" id=\"endTime\" placeholder=\"End Time\">\n",
    "</div>\n",
    "\n",
    "<button onclick=\"calculateTimeDifference()\">Calculate Time Difference</button>\n",
    "\n",
    "<p id=\"result\"></p>\n",
    "\n",
    "<script>\n",
    "function calculateTimeDifference() {\n",
    "  const startTime = document.getElementById('startTime').value;\n",
    "  const endTime = document.getElementById('endTime').value;\n",
    "\n",
    "  const startDate = new Date(`2000-01-01T${startTime}`);\n",
    "  const endDate = new Date(`2000-01-01T${endTime}`);\n",
    "\n",
    "  const timeDifference = Math.abs(endDate - startDate);\n",
    "  const hours = Math.floor(timeDifference / (1000 * 60 * 60));\n",
    "  const minutes = Math.floor((timeDifference % (1000 * 60 * 60)) / (1000 * 60));\n",
    "\n",
    "  const resultElement = document.getElementById('result');\n",
    "  resultElement.textContent = `Time difference: ${hours} hours and ${minutes} minutes`;\n",
    "}\n",
    "</script>\n"
   ]
  },
  {
   "attachments": {},
   "cell_type": "markdown",
   "metadata": {},
   "source": [
    "## How the JavaScript Works\n",
    "\n",
    "- script tags\n",
    "- calculateTimeDifference() function\n",
    "- user inputs start/end times in input elements\n",
    "- times are converted into Date objects\n",
    "- time difference is calculated using the Math.abs() function\n",
    "- time difference converted into hours and minutes\n",
    "- result is stored in the resultElement variable which is shown in \"result\" element"
   ]
  }
 ],
 "metadata": {
  "kernelspec": {
   "display_name": "base",
   "language": "python",
   "name": "python3"
  },
  "language_info": {
   "codemirror_mode": {
    "name": "ipython",
    "version": 3
   },
   "file_extension": ".py",
   "mimetype": "text/x-python",
   "name": "python",
   "nbconvert_exporter": "python",
   "pygments_lexer": "ipython3",
   "version": "3.9.12"
  },
  "orig_nbformat": 4
 },
 "nbformat": 4,
 "nbformat_minor": 2
}
