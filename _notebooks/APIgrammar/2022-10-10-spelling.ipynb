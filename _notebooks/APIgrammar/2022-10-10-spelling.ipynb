{
 "cells": [
  {
   "cell_type": "markdown",
   "metadata": {},
   "source": [
    "# API For our Final Project\n",
    "> This is an API we are planning on using in our final project. it is a grammar/spell check.\n",
    "\n",
    "- toc: false\n",
    "- comments: true\n",
    "- permalink: /notebooks/myjupyternotebook\n",
    "- image: /images/smile.jpg\n",
    "- cetegories: [week 7]\n",
    "- title: Our API\n"
   ]
  },
  {
   "cell_type": "code",
   "execution_count": null,
   "metadata": {},
   "outputs": [],
   "source": [
    "import requests\n",
    "\n",
    "url = \"https://dnaber-languagetool.p.rapidapi.com/v2/languages\"\n",
    "\n",
    "headers = {\n",
    "\t\"X-RapidAPI-Key\": \"7798c19b40msh9672054d4a4cb3cp176d9cjsn9d6a5cf1b9bf\",\n",
    "\t\"X-RapidAPI-Host\": \"dnaber-languagetool.p.rapidapi.com\"\n",
    "}\n",
    "\n",
    "response = requests.request(\"GET\", url, headers=headers)\n",
    "\n",
    "print(response.text)"
   ]
  }
 ],
 "metadata": {
  "kernelspec": {
   "display_name": "Python 3.8.10 64-bit",
   "language": "python",
   "name": "python3"
  },
  "language_info": {
   "name": "python",
   "version": "3.8.10"
  },
  "orig_nbformat": 4,
  "vscode": {
   "interpreter": {
    "hash": "916dbcbb3f70747c44a77c7bcd40155683ae19c65e1c03b4aa3499c5328201f1"
   }
  }
 },
 "nbformat": 4,
 "nbformat_minor": 2
}
