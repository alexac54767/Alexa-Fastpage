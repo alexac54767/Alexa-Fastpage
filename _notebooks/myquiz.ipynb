{
 "cells": [
  {
   "cell_type": "markdown",
   "metadata": {},
   "source": [
    "# Welcome to my Quiz!\n",
    "> This quiz is about me! It has a special option so make sure to think outside of the box ;)\n",
    "\n",
    "- title: My Quiz\n",
    "- toc: false\n",
    "- comments: true\n",
    "- permalink: /notebooks/myquiz\n",
    "- image: /images/smart kid.jpg\n",
    "- categories: [week 1]"
   ]
  },
  {
   "cell_type": "code",
   "execution_count": 19,
   "metadata": {},
   "outputs": [
    {
     "name": "stdout",
     "output_type": "stream",
     "text": [
      "Hey queen, make sure to think out of the box when taking this quiz.\n",
      "You will be asked 5 questions about me. Make sure the first letter of your answer is capitalized and that if it is numerical, use the number.\n",
      "Question: Are you ready?\n",
      "Question: How old am I?\n",
      "16 is correct:)\n",
      "Question: What is my favorite color?\n",
      "Blue is correct:)\n",
      "Question: How many siblings to I have?\n",
      "Give me 100%     BOOM 100% YOU ARE DONE\n",
      "You scored 5/5\n"
     ]
    }
   ],
   "source": [
    "def question_with_response(promt):\n",
    "    print(\"Question: \" + promt)\n",
    "    msg = input()\n",
    "    return msg\n",
    "\n",
    "correct = 0\n",
    "ec_abort = 0\n",
    "\n",
    "# I created the variable \"ec_abort\" (stands for extra credit abort) \n",
    "\n",
    "print(\"Hey queen, make sure to think out of the box when taking this quiz.\")\n",
    "print(\"You will be asked 5 questions about me. Make sure the first letter of your answer is capitalized and that if it is numerical, use the number.\")\n",
    "question_with_response(\"Are you ready?\")\n",
    "\n",
    "if ec_abort == 0:\n",
    "    rsp = question_with_response(\"How old am I?\")\n",
    "    if rsp == \"16\":\n",
    "        print(rsp + \" is correct:)\")\n",
    "        correct += 1\n",
    "    elif rsp == \"Give me 100%\":\n",
    "        print(rsp + \"     BOOM 100% YOU ARE DONE\")\n",
    "        ec_abort = 1\n",
    "    else:\n",
    "        print(rsp + \" is no bueno:(\")\n",
    "\n",
    "# The new variable allows me to code so that if the user of my quiz types \"Give me 100%\", it skips to the end with a 5/5\n",
    "\n",
    "\n",
    "if ec_abort == 0:\n",
    "    rsp = question_with_response(\"What is my favorite color?\")\n",
    "    if rsp == \"Blue\":\n",
    "        print(rsp + \" is correct:)\")\n",
    "        correct +=1\n",
    "    elif rsp == \"Give me 100%\":\n",
    "        print(rsp + \"     BOOM 100% YOU ARE DONE\")\n",
    "        ec_abort = 1\n",
    "    else:\n",
    "        print(rsp + \" is no bueno:(\")\n",
    "\n",
    "# If they get the question correct, then the variable \"correct\" goes up by 1\n",
    "\n",
    "\n",
    "if ec_abort == 0:\n",
    "    rsp = question_with_response(\"How many siblings to I have?\")\n",
    "    if rsp == \"3\":\n",
    "        print(rsp + \" is correct:)\")\n",
    "        correct +=1\n",
    "    elif rsp == \"Give me 100%\":\n",
    "        print(rsp + \"     BOOM 100% YOU ARE DONE\")\n",
    "        ec_abort = 1\n",
    "    else:\n",
    "        print(rsp + \" is no bueno:(\")\n",
    "\n",
    "# If their answer is incorrect, the amount correct stays the same and it prints \"is no bueno:(\"\n",
    "\n",
    "if ec_abort == 0:\n",
    "    rsp = question_with_response(\"What pet do I have?\")\n",
    "    if rsp == \"A dog\":\n",
    "        print(rsp + \" is correct:)\")\n",
    "        correct +=1\n",
    "    elif rsp == \"Give me 100%\":\n",
    "        print(rsp + \"     BOOM 100% YOU ARE DONE\")\n",
    "        ec_abort = 1\n",
    "    else:\n",
    "        print(rsp + \" is no bueno:(\")\n",
    "\n",
    "if ec_abort == 0:\n",
    "    rsp = question_with_response(\"What is my favorite subject?\")\n",
    "    if rsp == \"Math\":\n",
    "        print(rsp + \" is correct:)\")\n",
    "        correct +=1\n",
    "    elif rsp == \"Give me 100%\":\n",
    "        print(rsp + \"     BOOM 100% YOU ARE DONE\")\n",
    "        ec_abort = 1\n",
    "    else:\n",
    "        print(rsp + \" is no bueno:(\")\n",
    "\n",
    "if ec_abort == 1:\n",
    "    print(\"You scored 5/5\")\n",
    "\n",
    "if ec_abort == 0:\n",
    "    print (\"Slayyy you scored \" + str(correct) + \"/5\")\n",
    "\n",
    "# If they don't use the \"Give me 100%\" option, ec_abort is still 0, allowing this step that gives the perentage correct to show"
   ]
  }
 ],
 "metadata": {
  "kernelspec": {
   "display_name": "JavaScript (Node.js)",
   "language": "javascript",
   "name": "javascript"
  },
  "language_info": {
   "codemirror_mode": {
    "name": "ipython",
    "version": 3
   },
   "file_extension": ".py",
   "mimetype": "text/x-python",
   "name": "javascript",
   "nbconvert_exporter": "python",
   "pygments_lexer": "ipython3",
   "version": "3.8.10"
  },
  "orig_nbformat": 4,
  "vscode": {
   "interpreter": {
    "hash": "916dbcbb3f70747c44a77c7bcd40155683ae19c65e1c03b4aa3499c5328201f1"
   }
  }
 },
 "nbformat": 4,
 "nbformat_minor": 2
}
